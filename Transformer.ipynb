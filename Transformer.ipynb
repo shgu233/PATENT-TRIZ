{
 "cells": [
  {
   "cell_type": "code",
   "execution_count": 1,
   "metadata": {},
   "outputs": [],
   "source": [
    "import matplotlib.pyplot as plt\n",
    "import numpy as np\n",
    "import pandas as pd\n",
    "import torch\n",
    "import os\n",
    "import json\n",
    "import torch.nn as nn\n",
    "import math\n",
    "from tqdm.auto import tqdm"
   ]
  },
  {
   "cell_type": "code",
   "execution_count": 2,
   "metadata": {},
   "outputs": [
    {
     "name": "stdout",
     "output_type": "stream",
     "text": [
      "0 NVIDIA GeForce RTX 3090\n"
     ]
    }
   ],
   "source": [
    "for i in range(torch.cuda.device_count()):\n",
    "    print(i, torch.cuda.get_device_name(i))"
   ]
  },
  {
   "cell_type": "code",
   "execution_count": 3,
   "metadata": {},
   "outputs": [
    {
     "name": "stdout",
     "output_type": "stream",
     "text": [
      "cuda:0\n"
     ]
    }
   ],
   "source": [
    "device = torch.device(\"cuda:0\") if torch.cuda.is_available() else torch.device(\"cpu\")\n",
    "print(device)"
   ]
  },
  {
   "cell_type": "code",
   "execution_count": 4,
   "metadata": {},
   "outputs": [],
   "source": [
    "batch_size = 10\n",
    "n_epochs = 500\n",
    "model_no = 'transformer_with_word2vec'\n",
    "exp = 1"
   ]
  },
  {
   "cell_type": "code",
   "execution_count": 5,
   "metadata": {},
   "outputs": [],
   "source": [
    "class custom_transformer(nn.Module):\n",
    "\n",
    "    def __init__(self, hidden_dim=100, nheads=5, num_encoder_layers=8, num_decoder_layers=8, avg_words = 5500):\n",
    "        super(custom_transformer, self).__init__()\n",
    "#         self.transformer = nn.Transformer(hidden_dim, nheads, num_encoder_layers, num_decoder_layers, \n",
    "#                                           batch_first=True, activation=\"relu\")\n",
    "        self.encoder = nn.TransformerEncoderLayer(d_model=hidden_dim, nhead=nheads, batch_first=True)\n",
    "        self.transformer_encoder = nn.TransformerEncoder(self.encoder, num_layers = num_encoder_layers)\n",
    "        \n",
    "        self.decoder = nn.TransformerDecoderLayer(d_model=hidden_dim, nhead=nheads, batch_first=True)\n",
    "        self.transformer_decoder = nn.TransformerDecoder(self.decoder, num_layers = num_decoder_layers)\n",
    "        \n",
    "#         self.linear1 = nn.Linear(hidden_dim*avg_words, hidden_dim*avg_words, bias=True)\n",
    "#         self.one_D_conv = nn.Conv2d(hidden_dim*avg_words, hidden_dim*avg_words, 1, stride=1)\n",
    "        self.relu_layer = nn.ReLU()\n",
    "        self.sigmoid_layer = nn.Sigmoid()\n",
    "        \n",
    "    def positionalencoding1d(self, d_model, length):\n",
    "        \"\"\"\n",
    "        :param d_model: dimension of the model\n",
    "        :param length: length of positions\n",
    "        :return: length*d_model position matrix\n",
    "        \"\"\"\n",
    "        if d_model % 2 != 0:\n",
    "            raise ValueError(\"Cannot use sin/cos positional encoding with \"\n",
    "                             \"odd dim (got dim={:d})\".format(d_model))\n",
    "        pe = torch.zeros(length, d_model)\n",
    "        position = torch.arange(0, length).unsqueeze(1)\n",
    "        div_term = torch.exp((torch.arange(0, d_model, 2, dtype=torch.float) *\n",
    "                             -(math.log(10000.0) / d_model)))\n",
    "        pe[:, 0::2] = torch.sin(position.float() * div_term)\n",
    "        pe[:, 1::2] = torch.cos(position.float() * div_term)\n",
    "\n",
    "        return pe\n",
    "\n",
    "    def forward(self, feat_input):\n",
    "#         print(feat_input.shape)\n",
    "#         feat_input = feat_input.flatten(2)\n",
    "#         print(feat_input.shape)\n",
    "#         print(self.positionalencoding1d(self.hidden_dim, feat_input.shape[-2]).repeat(feat_input.shape[0], feat_input.shape[1], feat_input.shape[2]).is_cuda)\n",
    "#         feat_input += self.positionalencoding1d(self.hidden_dim, feat_input.shape[-2]).repeat(feat_input.shape[0], feat_input.shape[1], feat_input.shape[2])\n",
    "#         features = self.transformer(feat_input.cuda(), self.learnable_query.repeat(feat_input.shape[0], 1, 1))\n",
    "        enc_features = self.transformer_encoder(feat_input)\n",
    "            \n",
    "        dec_features = self.transformer_decoder(feat_input, enc_features)\n",
    "\n",
    "#         features = self.linear1(dec_features.flatten(1))\n",
    "#         dec_features = self.sigmoid_layer(features)\n",
    "\n",
    "        return dec_features"
   ]
  },
  {
   "cell_type": "code",
   "execution_count": 6,
   "metadata": {},
   "outputs": [
    {
     "name": "stdout",
     "output_type": "stream",
     "text": [
      "Total trainable params: 8511264\n"
     ]
    },
    {
     "name": "stderr",
     "output_type": "stream",
     "text": [
      "/home/abhijeet/miniconda3/envs/TRIZ/lib/python3.8/site-packages/torch/nn/modules/transformer.py:286: UserWarning: enable_nested_tensor is True, but self.use_nested_tensor is False because encoder_layer.self_attn.num_heads is odd\n",
      "  warnings.warn(f\"enable_nested_tensor is True, but self.use_nested_tensor is False because {why_not_sparsity_fast_path}\")\n"
     ]
    }
   ],
   "source": [
    "new_model = custom_transformer()\n",
    "# new_model.to(device)\n",
    "print(\"Total trainable params:\", torch.nn.utils.parameters_to_vector([p for p in new_model.parameters() if p.requires_grad]).numel())"
   ]
  },
  {
   "cell_type": "code",
   "execution_count": 7,
   "metadata": {
    "scrolled": true
   },
   "outputs": [
    {
     "data": {
      "text/plain": [
       "custom_transformer(\n",
       "  (encoder): TransformerEncoderLayer(\n",
       "    (self_attn): MultiheadAttention(\n",
       "      (out_proj): NonDynamicallyQuantizableLinear(in_features=100, out_features=100, bias=True)\n",
       "    )\n",
       "    (linear1): Linear(in_features=100, out_features=2048, bias=True)\n",
       "    (dropout): Dropout(p=0.1, inplace=False)\n",
       "    (linear2): Linear(in_features=2048, out_features=100, bias=True)\n",
       "    (norm1): LayerNorm((100,), eps=1e-05, elementwise_affine=True)\n",
       "    (norm2): LayerNorm((100,), eps=1e-05, elementwise_affine=True)\n",
       "    (dropout1): Dropout(p=0.1, inplace=False)\n",
       "    (dropout2): Dropout(p=0.1, inplace=False)\n",
       "  )\n",
       "  (transformer_encoder): TransformerEncoder(\n",
       "    (layers): ModuleList(\n",
       "      (0-7): 8 x TransformerEncoderLayer(\n",
       "        (self_attn): MultiheadAttention(\n",
       "          (out_proj): NonDynamicallyQuantizableLinear(in_features=100, out_features=100, bias=True)\n",
       "        )\n",
       "        (linear1): Linear(in_features=100, out_features=2048, bias=True)\n",
       "        (dropout): Dropout(p=0.1, inplace=False)\n",
       "        (linear2): Linear(in_features=2048, out_features=100, bias=True)\n",
       "        (norm1): LayerNorm((100,), eps=1e-05, elementwise_affine=True)\n",
       "        (norm2): LayerNorm((100,), eps=1e-05, elementwise_affine=True)\n",
       "        (dropout1): Dropout(p=0.1, inplace=False)\n",
       "        (dropout2): Dropout(p=0.1, inplace=False)\n",
       "      )\n",
       "    )\n",
       "  )\n",
       "  (decoder): TransformerDecoderLayer(\n",
       "    (self_attn): MultiheadAttention(\n",
       "      (out_proj): NonDynamicallyQuantizableLinear(in_features=100, out_features=100, bias=True)\n",
       "    )\n",
       "    (multihead_attn): MultiheadAttention(\n",
       "      (out_proj): NonDynamicallyQuantizableLinear(in_features=100, out_features=100, bias=True)\n",
       "    )\n",
       "    (linear1): Linear(in_features=100, out_features=2048, bias=True)\n",
       "    (dropout): Dropout(p=0.1, inplace=False)\n",
       "    (linear2): Linear(in_features=2048, out_features=100, bias=True)\n",
       "    (norm1): LayerNorm((100,), eps=1e-05, elementwise_affine=True)\n",
       "    (norm2): LayerNorm((100,), eps=1e-05, elementwise_affine=True)\n",
       "    (norm3): LayerNorm((100,), eps=1e-05, elementwise_affine=True)\n",
       "    (dropout1): Dropout(p=0.1, inplace=False)\n",
       "    (dropout2): Dropout(p=0.1, inplace=False)\n",
       "    (dropout3): Dropout(p=0.1, inplace=False)\n",
       "  )\n",
       "  (transformer_decoder): TransformerDecoder(\n",
       "    (layers): ModuleList(\n",
       "      (0-7): 8 x TransformerDecoderLayer(\n",
       "        (self_attn): MultiheadAttention(\n",
       "          (out_proj): NonDynamicallyQuantizableLinear(in_features=100, out_features=100, bias=True)\n",
       "        )\n",
       "        (multihead_attn): MultiheadAttention(\n",
       "          (out_proj): NonDynamicallyQuantizableLinear(in_features=100, out_features=100, bias=True)\n",
       "        )\n",
       "        (linear1): Linear(in_features=100, out_features=2048, bias=True)\n",
       "        (dropout): Dropout(p=0.1, inplace=False)\n",
       "        (linear2): Linear(in_features=2048, out_features=100, bias=True)\n",
       "        (norm1): LayerNorm((100,), eps=1e-05, elementwise_affine=True)\n",
       "        (norm2): LayerNorm((100,), eps=1e-05, elementwise_affine=True)\n",
       "        (norm3): LayerNorm((100,), eps=1e-05, elementwise_affine=True)\n",
       "        (dropout1): Dropout(p=0.1, inplace=False)\n",
       "        (dropout2): Dropout(p=0.1, inplace=False)\n",
       "        (dropout3): Dropout(p=0.1, inplace=False)\n",
       "      )\n",
       "    )\n",
       "  )\n",
       "  (relu_layer): ReLU()\n",
       "  (sigmoid_layer): Sigmoid()\n",
       ")"
      ]
     },
     "execution_count": 7,
     "metadata": {},
     "output_type": "execute_result"
    }
   ],
   "source": [
    "new_model"
   ]
  },
  {
   "cell_type": "code",
   "execution_count": 8,
   "metadata": {},
   "outputs": [],
   "source": [
    "# Keeping Stop Words"
   ]
  },
  {
   "cell_type": "code",
   "execution_count": 9,
   "metadata": {},
   "outputs": [],
   "source": [
    "import json\n",
    "file = open('/home/abhijeet/Desktop/TRIZ/word_vectors_all_words.json', 'r')\n",
    "dictionary = json.load(file)"
   ]
  },
  {
   "cell_type": "code",
   "execution_count": 10,
   "metadata": {},
   "outputs": [],
   "source": [
    "from torch.utils.data import Dataset, DataLoader\n",
    "\n",
    "class dataset_loader(Dataset):\n",
    "    \n",
    "    def __init__(self, corpus_dir, word2vec):\n",
    "#         self.word2vec = open(word2vec_dir, 'rb')\n",
    "        self.word2vec_all = word2vec\n",
    "#         self.word2vec.close()\n",
    "        self.dataset = pd.read_excel(corpus_dir + 'generated_data.xlsx')\n",
    "        self.dataset = self.dataset.dropna()\n",
    "        self.text = self.dataset['text']\n",
    "        self.label = self.dataset['labels']\n",
    "        \n",
    "    def __len__(self):\n",
    "        return self.text.shape[0]\n",
    "    \n",
    "    def __getitem__(self, idx):\n",
    "        row_text = self.text[idx].lower().replace('\\n', ' ').split()\n",
    "        row_label = eval(self.label[idx])\n",
    "#         print(row_label, type(row_label))\n",
    "        word2vec_matrix = []\n",
    "        \n",
    "        for count, i in enumerate(row_text):\n",
    "            try:\n",
    "                if count == 5000:\n",
    "                    break\n",
    "                word2vec_matrix.append(np.array(self.word2vec_all[i]))\n",
    "            except:\n",
    "                word2vec_matrix.append(np.zeros(100))\n",
    "        \n",
    "        for i in range(5000 - len(word2vec_matrix)):\n",
    "            word2vec_matrix.append(np.zeros(100))\n",
    "            \n",
    "#         print(len(word2vec_matrix))\n",
    "\n",
    "        for next_count, i in enumerate(row_label):\n",
    "            try:\n",
    "                if next_count == 500:\n",
    "                    break\n",
    "                word2vec_matrix.append(np.array(self.word2vec_all[i]))\n",
    "            except:\n",
    "                word2vec_matrix.append(np.zeros(100))\n",
    "            \n",
    "        for i in range(5500 - len(word2vec_matrix)):\n",
    "            word2vec_matrix.append(np.zeros(100))\n",
    "\n",
    "#         print(len(word2vec_matrix))\n",
    "        \n",
    "        output = {'text_label': np.array(word2vec_matrix)}\n",
    "        \n",
    "        if np.array(word2vec_matrix).shape != (5500, 100):\n",
    "            print(np.array(word2vec_matrix).shape)\n",
    "            raise ValueError('Data-Loading Error')\n",
    "        return output"
   ]
  },
  {
   "cell_type": "code",
   "execution_count": 11,
   "metadata": {},
   "outputs": [],
   "source": [
    "file.close()\n",
    "train_data = dataset_loader(corpus_dir = '/home/abhijeet/Desktop/TRIZ/All_data/CPC Data/',\n",
    "                              word2vec = dictionary)"
   ]
  },
  {
   "cell_type": "code",
   "execution_count": 12,
   "metadata": {
    "scrolled": true
   },
   "outputs": [],
   "source": [
    "# print(len(train_data))\n",
    "for i in range(len(train_data)):\n",
    "    sample = train_data[20]\n",
    "    break"
   ]
  },
  {
   "cell_type": "code",
   "execution_count": 13,
   "metadata": {},
   "outputs": [],
   "source": [
    "train_sampler = torch.utils.data.RandomSampler(train_data)\n",
    "\n",
    "dataloader_train = DataLoader(train_data, batch_size=batch_size, sampler=train_sampler, num_workers=0)"
   ]
  },
  {
   "cell_type": "code",
   "execution_count": 14,
   "metadata": {},
   "outputs": [],
   "source": [
    "# import torch.nn.functional as F\n",
    "# def criterion(predicted, target):\n",
    "#     \"\"\"\n",
    "#     Compute the Kullback-Leibler Divergence loss between two probability distributions.\n",
    "\n",
    "#     Args:\n",
    "#         p (torch.Tensor): True distribution (e.g., ground truth probabilities).\n",
    "#         q (torch.Tensor): Approximate distribution (e.g., predicted probabilities).\n",
    "\n",
    "#     Returns:\n",
    "#         torch.Tensor: KL Divergence loss.\n",
    "#     \"\"\"\n",
    "#     assert target.shape == predicted.shape, \"Target and predicted tensors must have the same shape\"\n",
    "\n",
    "#     # Apply log softmax to the target and softmax to the predicted\n",
    "#     log_target = F.log_softmax(target, dim=1)\n",
    "#     softmax_predicted = F.softmax(predicted, dim=1)\n",
    "\n",
    "#     # Compute the KL divergence loss\n",
    "#     loss = F.kl_div(log_target, softmax_predicted, reduction='batchmean')\n",
    "\n",
    "#     return loss"
   ]
  },
  {
   "cell_type": "code",
   "execution_count": 15,
   "metadata": {},
   "outputs": [],
   "source": [
    "import torch.nn.functional as F\n",
    "def criterion(predicted, target):\n",
    "    \n",
    "    loss = nn.MSELoss()\n",
    "\n",
    "    return loss(predicted, target)"
   ]
  },
  {
   "cell_type": "code",
   "execution_count": 16,
   "metadata": {},
   "outputs": [],
   "source": [
    "new_model.to(device)\n",
    "optimizer = torch.optim.SGD(new_model.parameters(), lr=0.009, weight_decay=0.0001, momentum=0.9)\n",
    "scheduler = torch.optim.lr_scheduler.ExponentialLR(optimizer, gamma=0.9)"
   ]
  },
  {
   "cell_type": "code",
   "execution_count": 17,
   "metadata": {
    "scrolled": true
   },
   "outputs": [
    {
     "name": "stdout",
     "output_type": "stream",
     "text": [
      "\n",
      "Epoch: 1\n"
     ]
    },
    {
     "data": {
      "application/vnd.jupyter.widget-view+json": {
       "model_id": "60f825eb3f0d485485d2d92b511f2b92",
       "version_major": 2,
       "version_minor": 0
      },
      "text/plain": [
       "Epoch: 1 Step:   0%|          | 0/17375 [00:00<?, ?it/s]"
      ]
     },
     "metadata": {},
     "output_type": "display_data"
    },
    {
     "name": "stderr",
     "output_type": "stream",
     "text": [
      "/tmp/ipykernel_131401/546617590.py:14: UserWarning: To copy construct from a tensor, it is recommended to use sourceTensor.clone().detach() or sourceTensor.clone().detach().requires_grad_(True), rather than torch.tensor(sourceTensor).\n",
      "  y_ground_truth = torch.tensor(features, requires_grad = True)\n"
     ]
    },
    {
     "name": "stdout",
     "output_type": "stream",
     "text": [
      "Step: 1126 Training Loss: 0.2115357667207718 Validation Loss: 0.0 Epoch loss: 0.272886995021022267\n",
      "Epoch: 2\n"
     ]
    },
    {
     "data": {
      "application/vnd.jupyter.widget-view+json": {
       "model_id": "59aabbb25ab14871bce9f8b24e4ce58e",
       "version_major": 2,
       "version_minor": 0
      },
      "text/plain": [
       "Epoch: 2 Step:   0%|          | 0/17375 [00:00<?, ?it/s]"
      ]
     },
     "metadata": {},
     "output_type": "display_data"
    },
    {
     "name": "stdout",
     "output_type": "stream",
     "text": [
      "Step: 61 Training Loss: 0.25957614183425903 Validation Loss: 0.0 Epoch loss: 0.18422316613255954\n",
      "Epoch: 3\n"
     ]
    },
    {
     "data": {
      "application/vnd.jupyter.widget-view+json": {
       "model_id": "b956c23cbff842e7b3eee79fa5fbcc83",
       "version_major": 2,
       "version_minor": 0
      },
      "text/plain": [
       "Epoch: 3 Step:   0%|          | 0/17375 [00:00<?, ?it/s]"
      ]
     },
     "metadata": {},
     "output_type": "display_data"
    },
    {
     "name": "stdout",
     "output_type": "stream",
     "text": [
      "Step: 547 Training Loss: 0.2208312451839447 Validation Loss: 0.0 Epoch loss: 0.169753554806630858\n",
      "Epoch: 4\n"
     ]
    },
    {
     "data": {
      "application/vnd.jupyter.widget-view+json": {
       "model_id": "16366d7a81a74a73b16036b566ddf7ed",
       "version_major": 2,
       "version_minor": 0
      },
      "text/plain": [
       "Epoch: 4 Step:   0%|          | 0/17375 [00:00<?, ?it/s]"
      ]
     },
     "metadata": {},
     "output_type": "display_data"
    },
    {
     "name": "stdout",
     "output_type": "stream",
     "text": [
      "Step: 13 Training Loss: 0.19595743715763092 Validation Loss: 0.0 Epoch loss: 0.16701040416955948\n",
      "Epoch: 5\n"
     ]
    },
    {
     "data": {
      "application/vnd.jupyter.widget-view+json": {
       "model_id": "2855ca287d8648949216ac7ead38831e",
       "version_major": 2,
       "version_minor": 0
      },
      "text/plain": [
       "Epoch: 5 Step:   0%|          | 0/17375 [00:00<?, ?it/s]"
      ]
     },
     "metadata": {},
     "output_type": "display_data"
    },
    {
     "name": "stdout",
     "output_type": "stream",
     "text": [
      "Step: 126 Training Loss: 0.13133271038532257 Validation Loss: 0.0 Epoch loss: 0.15857180509538876\n",
      "Epoch: 6\n"
     ]
    },
    {
     "data": {
      "application/vnd.jupyter.widget-view+json": {
       "model_id": "689bbf5dd1644ff6bc6c13b90eb917a3",
       "version_major": 2,
       "version_minor": 0
      },
      "text/plain": [
       "Epoch: 6 Step:   0%|          | 0/17375 [00:00<?, ?it/s]"
      ]
     },
     "metadata": {},
     "output_type": "display_data"
    },
    {
     "name": "stdout",
     "output_type": "stream",
     "text": [
      "Step: 188 Training Loss: 0.11330115795135498 Validation Loss: 0.0 Epoch loss: 0.15977227648204945\n",
      "Epoch: 7\n"
     ]
    },
    {
     "data": {
      "application/vnd.jupyter.widget-view+json": {
       "model_id": "ed4a961b09af4ff39546d717ff427581",
       "version_major": 2,
       "version_minor": 0
      },
      "text/plain": [
       "Epoch: 7 Step:   0%|          | 0/17375 [00:00<?, ?it/s]"
      ]
     },
     "metadata": {},
     "output_type": "display_data"
    },
    {
     "name": "stdout",
     "output_type": "stream",
     "text": [
      "Step: 51 Training Loss: 0.2069338858127594 Validation Loss: 0.0 Epoch loss: 0.144769092254778931\n",
      "Epoch: 8\n"
     ]
    },
    {
     "data": {
      "application/vnd.jupyter.widget-view+json": {
       "model_id": "bdf7b3a1085c4c8785e4ec67740aa73a",
       "version_major": 2,
       "version_minor": 0
      },
      "text/plain": [
       "Epoch: 8 Step:   0%|          | 0/17375 [00:00<?, ?it/s]"
      ]
     },
     "metadata": {},
     "output_type": "display_data"
    },
    {
     "name": "stdout",
     "output_type": "stream",
     "text": [
      "Step: 119 Training Loss: 0.12872187793254852 Validation Loss: 0.0 Epoch loss: 0.14907620621829473\n",
      "Epoch: 9\n"
     ]
    },
    {
     "data": {
      "application/vnd.jupyter.widget-view+json": {
       "model_id": "3fdd8d6f2da84c1883bf4d687f826624",
       "version_major": 2,
       "version_minor": 0
      },
      "text/plain": [
       "Epoch: 9 Step:   0%|          | 0/17375 [00:00<?, ?it/s]"
      ]
     },
     "metadata": {},
     "output_type": "display_data"
    },
    {
     "name": "stdout",
     "output_type": "stream",
     "text": [
      "Step: 200 Training Loss: 0.1226244792342186 Validation Loss: 0.0 Epoch loss: 0.144433281272649763\n",
      "Epoch: 10\n"
     ]
    },
    {
     "data": {
      "application/vnd.jupyter.widget-view+json": {
       "model_id": "43911c15f439485fb54c4db229f754ae",
       "version_major": 2,
       "version_minor": 0
      },
      "text/plain": [
       "Epoch: 10 Step:   0%|          | 0/17375 [00:00<?, ?it/s]"
      ]
     },
     "metadata": {},
     "output_type": "display_data"
    },
    {
     "name": "stdout",
     "output_type": "stream",
     "text": [
      "Step: 87 Training Loss: 0.19947217404842377 Validation Loss: 0.0 Epoch loss: 0.15227317005053334\n",
      "Epoch: 11\n"
     ]
    },
    {
     "data": {
      "application/vnd.jupyter.widget-view+json": {
       "model_id": "85f393b27b1c46dc81354de5e857dcbb",
       "version_major": 2,
       "version_minor": 0
      },
      "text/plain": [
       "Epoch: 11 Step:   0%|          | 0/17375 [00:00<?, ?it/s]"
      ]
     },
     "metadata": {},
     "output_type": "display_data"
    },
    {
     "name": "stdout",
     "output_type": "stream",
     "text": [
      "Step: 99 Training Loss: 0.1387568861246109 Validation Loss: 0.0 Epoch loss: 0.1395549137860235534\n",
      "Epoch: 12\n"
     ]
    },
    {
     "data": {
      "application/vnd.jupyter.widget-view+json": {
       "model_id": "128bbe1ceb994fdd8108e618c209ba1f",
       "version_major": 2,
       "version_minor": 0
      },
      "text/plain": [
       "Epoch: 12 Step:   0%|          | 0/17375 [00:00<?, ?it/s]"
      ]
     },
     "metadata": {},
     "output_type": "display_data"
    },
    {
     "name": "stdout",
     "output_type": "stream",
     "text": [
      "Step: 23 Training Loss: 0.12743040919303894 Validation Loss: 0.0 Epoch loss: 0.15247875873161398\n",
      "Epoch: 13\n"
     ]
    },
    {
     "data": {
      "application/vnd.jupyter.widget-view+json": {
       "model_id": "6927e066ef394eaa84942a12d08e8ee0",
       "version_major": 2,
       "version_minor": 0
      },
      "text/plain": [
       "Epoch: 13 Step:   0%|          | 0/17375 [00:00<?, ?it/s]"
      ]
     },
     "metadata": {},
     "output_type": "display_data"
    },
    {
     "name": "stdout",
     "output_type": "stream",
     "text": [
      "Step: 494 Training Loss: 0.151542067527771 Validation Loss: 0.0 Epoch loss: 0.1357547258392639863\n",
      "Epoch: 14\n"
     ]
    },
    {
     "data": {
      "application/vnd.jupyter.widget-view+json": {
       "model_id": "48567cfff9a54ffe91d611ab6cbf5920",
       "version_major": 2,
       "version_minor": 0
      },
      "text/plain": [
       "Epoch: 14 Step:   0%|          | 0/17375 [00:00<?, ?it/s]"
      ]
     },
     "metadata": {},
     "output_type": "display_data"
    },
    {
     "name": "stdout",
     "output_type": "stream",
     "text": [
      "Step: 117 Training Loss: 0.1519303172826767 Validation Loss: 0.0 Epoch loss: 0.122671848115248561\n",
      "Epoch: 15\n"
     ]
    },
    {
     "data": {
      "application/vnd.jupyter.widget-view+json": {
       "model_id": "37d788f038c540ee963125e6e61c38bd",
       "version_major": 2,
       "version_minor": 0
      },
      "text/plain": [
       "Epoch: 15 Step:   0%|          | 0/17375 [00:00<?, ?it/s]"
      ]
     },
     "metadata": {},
     "output_type": "display_data"
    },
    {
     "name": "stdout",
     "output_type": "stream",
     "text": [
      "Step: 177 Training Loss: 0.1299290657043457 Validation Loss: 0.0 Epoch loss: 0.128633393532475521\n",
      "Epoch: 16\n"
     ]
    },
    {
     "data": {
      "application/vnd.jupyter.widget-view+json": {
       "model_id": "727d7488e06f4f17aef47a1204835043",
       "version_major": 2,
       "version_minor": 0
      },
      "text/plain": [
       "Epoch: 16 Step:   0%|          | 0/17375 [00:00<?, ?it/s]"
      ]
     },
     "metadata": {},
     "output_type": "display_data"
    },
    {
     "name": "stdout",
     "output_type": "stream",
     "text": [
      "Step: 61 Training Loss: 0.10235665738582611 Validation Loss: 0.0 Epoch loss: 0.12311143476943501\n",
      "Epoch: 17\n"
     ]
    },
    {
     "data": {
      "application/vnd.jupyter.widget-view+json": {
       "model_id": "01d69cb29c2342d7a7f0c7675ba385da",
       "version_major": 2,
       "version_minor": 0
      },
      "text/plain": [
       "Epoch: 17 Step:   0%|          | 0/17375 [00:00<?, ?it/s]"
      ]
     },
     "metadata": {},
     "output_type": "display_data"
    },
    {
     "name": "stdout",
     "output_type": "stream",
     "text": [
      "Step: 337 Training Loss: 0.17508502304553986 Validation Loss: 0.0 Epoch loss: 0.12055409518388333\n",
      "Epoch: 18\n"
     ]
    },
    {
     "data": {
      "application/vnd.jupyter.widget-view+json": {
       "model_id": "fe4ca414e595478baad57b367de69b90",
       "version_major": 2,
       "version_minor": 0
      },
      "text/plain": [
       "Epoch: 18 Step:   0%|          | 0/17375 [00:00<?, ?it/s]"
      ]
     },
     "metadata": {},
     "output_type": "display_data"
    },
    {
     "name": "stdout",
     "output_type": "stream",
     "text": [
      "Step: 381 Training Loss: 0.1002255231142044 Validation Loss: 0.0 Epoch loss: 0.114635466443976088\n",
      "Epoch: 19\n"
     ]
    },
    {
     "data": {
      "application/vnd.jupyter.widget-view+json": {
       "model_id": "751de1d4e0fd4492b6cd843611bef482",
       "version_major": 2,
       "version_minor": 0
      },
      "text/plain": [
       "Epoch: 19 Step:   0%|          | 0/17375 [00:00<?, ?it/s]"
      ]
     },
     "metadata": {},
     "output_type": "display_data"
    },
    {
     "name": "stdout",
     "output_type": "stream",
     "text": [
      "Step: 252 Training Loss: 0.09011023491621017 Validation Loss: 0.0 Epoch loss: 0.10777538711766875\n",
      "Epoch: 20\n"
     ]
    },
    {
     "data": {
      "application/vnd.jupyter.widget-view+json": {
       "model_id": "5c4c26f2471d4f278903319979372815",
       "version_major": 2,
       "version_minor": 0
      },
      "text/plain": [
       "Epoch: 20 Step:   0%|          | 0/17375 [00:00<?, ?it/s]"
      ]
     },
     "metadata": {},
     "output_type": "display_data"
    },
    {
     "name": "stdout",
     "output_type": "stream",
     "text": [
      "Step: 56 Training Loss: 0.13066141307353973 Validation Loss: 0.0 Epoch loss: 0.111242187941180879\n",
      "Epoch: 21\n"
     ]
    },
    {
     "data": {
      "application/vnd.jupyter.widget-view+json": {
       "model_id": "5d1f9f9dd86c4d5fb05b7e5b37b49ddf",
       "version_major": 2,
       "version_minor": 0
      },
      "text/plain": [
       "Epoch: 21 Step:   0%|          | 0/17375 [00:00<?, ?it/s]"
      ]
     },
     "metadata": {},
     "output_type": "display_data"
    },
    {
     "name": "stdout",
     "output_type": "stream",
     "text": [
      "Step: 303 Training Loss: 0.10269338637590408 Validation Loss: 0.0 Epoch loss: 0.10462930085438707\n",
      "Epoch: 22\n"
     ]
    },
    {
     "data": {
      "application/vnd.jupyter.widget-view+json": {
       "model_id": "2f876507cf4d426d9da30c478479857c",
       "version_major": 2,
       "version_minor": 0
      },
      "text/plain": [
       "Epoch: 22 Step:   0%|          | 0/17375 [00:00<?, ?it/s]"
      ]
     },
     "metadata": {},
     "output_type": "display_data"
    },
    {
     "name": "stdout",
     "output_type": "stream",
     "text": [
      "Step: 264 Training Loss: 0.11362884938716888 Validation Loss: 0.0 Epoch loss: 0.103332441808147874\n",
      "Epoch: 23\n"
     ]
    },
    {
     "data": {
      "application/vnd.jupyter.widget-view+json": {
       "model_id": "b43215ecff324dedb5dfff0f7bd6ec58",
       "version_major": 2,
       "version_minor": 0
      },
      "text/plain": [
       "Epoch: 23 Step:   0%|          | 0/17375 [00:00<?, ?it/s]"
      ]
     },
     "metadata": {},
     "output_type": "display_data"
    },
    {
     "name": "stdout",
     "output_type": "stream",
     "text": [
      "Step: 270 Training Loss: 0.07517488300800323 Validation Loss: 0.0 Epoch loss: 0.10016713760517261\n",
      "Epoch: 24\n"
     ]
    },
    {
     "data": {
      "application/vnd.jupyter.widget-view+json": {
       "model_id": "fd17a568f5984161b062324387dd4e09",
       "version_major": 2,
       "version_minor": 0
      },
      "text/plain": [
       "Epoch: 24 Step:   0%|          | 0/17375 [00:00<?, ?it/s]"
      ]
     },
     "metadata": {},
     "output_type": "display_data"
    },
    {
     "name": "stdout",
     "output_type": "stream",
     "text": [
      "Step: 112 Training Loss: 0.10080079734325409 Validation Loss: 0.0 Epoch loss: 0.09708099991881422\n",
      "Epoch: 25\n"
     ]
    },
    {
     "data": {
      "application/vnd.jupyter.widget-view+json": {
       "model_id": "f96cf2960c5b42ea893018ae5d59069a",
       "version_major": 2,
       "version_minor": 0
      },
      "text/plain": [
       "Epoch: 25 Step:   0%|          | 0/17375 [00:00<?, ?it/s]"
      ]
     },
     "metadata": {},
     "output_type": "display_data"
    },
    {
     "name": "stdout",
     "output_type": "stream",
     "text": [
      "Step: 31 Training Loss: 0.13235709071159363 Validation Loss: 0.0 Epoch loss: 0.09472732738621774\n",
      "Epoch: 26\n"
     ]
    },
    {
     "data": {
      "application/vnd.jupyter.widget-view+json": {
       "model_id": "257bcf330de14eb4839296651d811af8",
       "version_major": 2,
       "version_minor": 0
      },
      "text/plain": [
       "Epoch: 26 Step:   0%|          | 0/17375 [00:00<?, ?it/s]"
      ]
     },
     "metadata": {},
     "output_type": "display_data"
    },
    {
     "name": "stdout",
     "output_type": "stream",
     "text": [
      "Step: 108 Training Loss: 0.07906518131494522 Validation Loss: 0.0 Epoch loss: 0.093521029688417915\n",
      "Epoch: 27\n"
     ]
    },
    {
     "data": {
      "application/vnd.jupyter.widget-view+json": {
       "model_id": "1eaf7d56305748a28334871661ce1588",
       "version_major": 2,
       "version_minor": 0
      },
      "text/plain": [
       "Epoch: 27 Step:   0%|          | 0/17375 [00:00<?, ?it/s]"
      ]
     },
     "metadata": {},
     "output_type": "display_data"
    },
    {
     "name": "stdout",
     "output_type": "stream",
     "text": [
      "Step: 296 Training Loss: 0.09639019519090652 Validation Loss: 0.0 Epoch loss: 0.092950441710952976\n",
      "Epoch: 28\n"
     ]
    },
    {
     "data": {
      "application/vnd.jupyter.widget-view+json": {
       "model_id": "bf3672882bd14235ba365c09e06c7ea0",
       "version_major": 2,
       "version_minor": 0
      },
      "text/plain": [
       "Epoch: 28 Step:   0%|          | 0/17375 [00:00<?, ?it/s]"
      ]
     },
     "metadata": {},
     "output_type": "display_data"
    },
    {
     "name": "stdout",
     "output_type": "stream",
     "text": [
      "Step: 699 Training Loss: 0.06638513505458832 Validation Loss: 0.0 Epoch loss: 0.089318033057306298\n",
      "Epoch: 29\n"
     ]
    },
    {
     "data": {
      "application/vnd.jupyter.widget-view+json": {
       "model_id": "e465243ea76446e48f138a58513f3238",
       "version_major": 2,
       "version_minor": 0
      },
      "text/plain": [
       "Epoch: 29 Step:   0%|          | 0/17375 [00:00<?, ?it/s]"
      ]
     },
     "metadata": {},
     "output_type": "display_data"
    },
    {
     "name": "stdout",
     "output_type": "stream",
     "text": [
      "Step: 138 Training Loss: 0.13140593469142914 Validation Loss: 0.0 Epoch loss: 0.082170421122640812\n",
      "Epoch: 30\n"
     ]
    },
    {
     "data": {
      "application/vnd.jupyter.widget-view+json": {
       "model_id": "48d598f344824b5396a538ee025aaa37",
       "version_major": 2,
       "version_minor": 0
      },
      "text/plain": [
       "Epoch: 30 Step:   0%|          | 0/17375 [00:00<?, ?it/s]"
      ]
     },
     "metadata": {},
     "output_type": "display_data"
    },
    {
     "name": "stdout",
     "output_type": "stream",
     "text": [
      "Step: 455 Training Loss: 0.0952068641781807 Validation Loss: 0.0 Epoch loss: 0.0816636429710702657\n",
      "Epoch: 31\n"
     ]
    },
    {
     "data": {
      "application/vnd.jupyter.widget-view+json": {
       "model_id": "ce0b5132028e46679c4508a5ead52a6b",
       "version_major": 2,
       "version_minor": 0
      },
      "text/plain": [
       "Epoch: 31 Step:   0%|          | 0/17375 [00:00<?, ?it/s]"
      ]
     },
     "metadata": {},
     "output_type": "display_data"
    },
    {
     "name": "stdout",
     "output_type": "stream",
     "text": [
      "Step: 230 Training Loss: 0.03854271396994591 Validation Loss: 0.0 Epoch loss: 0.078354013970364698\n",
      "Epoch: 32\n"
     ]
    },
    {
     "data": {
      "application/vnd.jupyter.widget-view+json": {
       "model_id": "ce6418c08b7d49429b93fbbdbe514673",
       "version_major": 2,
       "version_minor": 0
      },
      "text/plain": [
       "Epoch: 32 Step:   0%|          | 0/17375 [00:00<?, ?it/s]"
      ]
     },
     "metadata": {},
     "output_type": "display_data"
    },
    {
     "name": "stdout",
     "output_type": "stream",
     "text": [
      "Step: 221 Training Loss: 0.0968490019440651 Validation Loss: 0.0 Epoch loss: 0.0760106014349072271\n",
      "Epoch: 33\n"
     ]
    },
    {
     "data": {
      "application/vnd.jupyter.widget-view+json": {
       "model_id": "da715f5948ae440089ec5a04c3fad420",
       "version_major": 2,
       "version_minor": 0
      },
      "text/plain": [
       "Epoch: 33 Step:   0%|          | 0/17375 [00:00<?, ?it/s]"
      ]
     },
     "metadata": {},
     "output_type": "display_data"
    },
    {
     "name": "stdout",
     "output_type": "stream",
     "text": [
      "Step: 573 Training Loss: 0.041549988090991974 Validation Loss: 0.0 Epoch loss: 0.07238895960971323\n",
      "Epoch: 34\n"
     ]
    },
    {
     "data": {
      "application/vnd.jupyter.widget-view+json": {
       "model_id": "e12ac87823c4495994c0e16a515a72a2",
       "version_major": 2,
       "version_minor": 0
      },
      "text/plain": [
       "Epoch: 34 Step:   0%|          | 0/17375 [00:00<?, ?it/s]"
      ]
     },
     "metadata": {},
     "output_type": "display_data"
    },
    {
     "name": "stdout",
     "output_type": "stream",
     "text": [
      "Step: 49 Training Loss: 0.059355903416872025 Validation Loss: 0.0 Epoch loss: 0.06715996875142564\n",
      "Epoch: 35\n"
     ]
    },
    {
     "data": {
      "application/vnd.jupyter.widget-view+json": {
       "model_id": "85fd7f8efd6743099b687b98eb949288",
       "version_major": 2,
       "version_minor": 0
      },
      "text/plain": [
       "Epoch: 35 Step:   0%|          | 0/17375 [00:00<?, ?it/s]"
      ]
     },
     "metadata": {},
     "output_type": "display_data"
    },
    {
     "name": "stdout",
     "output_type": "stream",
     "text": [
      "Step: 170 Training Loss: 0.055934060364961624 Validation Loss: 0.0 Epoch loss: 0.07146689637618907\n",
      "Epoch: 36\n"
     ]
    },
    {
     "data": {
      "application/vnd.jupyter.widget-view+json": {
       "model_id": "029d86338ff14cc690575ac098bb2d7f",
       "version_major": 2,
       "version_minor": 0
      },
      "text/plain": [
       "Epoch: 36 Step:   0%|          | 0/17375 [00:00<?, ?it/s]"
      ]
     },
     "metadata": {},
     "output_type": "display_data"
    },
    {
     "name": "stdout",
     "output_type": "stream",
     "text": [
      "Step: 840 Training Loss: 0.051748402416706085 Validation Loss: 0.0 Epoch loss: 0.06701576847228266\n",
      "Epoch: 37\n"
     ]
    },
    {
     "data": {
      "application/vnd.jupyter.widget-view+json": {
       "model_id": "5a283cce3c6f48b391e630a66c58cfdf",
       "version_major": 2,
       "version_minor": 0
      },
      "text/plain": [
       "Epoch: 37 Step:   0%|          | 0/17375 [00:00<?, ?it/s]"
      ]
     },
     "metadata": {},
     "output_type": "display_data"
    },
    {
     "name": "stdout",
     "output_type": "stream",
     "text": [
      "Step: 348 Training Loss: 0.05600656941533089 Validation Loss: 0.0 Epoch loss: 0.062622065377560832\n",
      "Epoch: 38\n"
     ]
    },
    {
     "data": {
      "application/vnd.jupyter.widget-view+json": {
       "model_id": "68412466f98141ee9ba500d9651f8bd8",
       "version_major": 2,
       "version_minor": 0
      },
      "text/plain": [
       "Epoch: 38 Step:   0%|          | 0/17375 [00:00<?, ?it/s]"
      ]
     },
     "metadata": {},
     "output_type": "display_data"
    },
    {
     "name": "stdout",
     "output_type": "stream",
     "text": [
      "Step: 327 Training Loss: 0.05767449364066124 Validation Loss: 0.0 Epoch loss: 0.0617530055070688946\n",
      "Epoch: 39\n"
     ]
    },
    {
     "data": {
      "application/vnd.jupyter.widget-view+json": {
       "model_id": "a0f50641fe004be78fb761a060fb3552",
       "version_major": 2,
       "version_minor": 0
      },
      "text/plain": [
       "Epoch: 39 Step:   0%|          | 0/17375 [00:00<?, ?it/s]"
      ]
     },
     "metadata": {},
     "output_type": "display_data"
    },
    {
     "name": "stdout",
     "output_type": "stream",
     "text": [
      "Step: 362 Training Loss: 0.049068521708250046 Validation Loss: 0.0 Epoch loss: 0.061281724364718026\n",
      "Epoch: 40\n"
     ]
    },
    {
     "data": {
      "application/vnd.jupyter.widget-view+json": {
       "model_id": "a1052171a27240b08d600c7867c3396f",
       "version_major": 2,
       "version_minor": 0
      },
      "text/plain": [
       "Epoch: 40 Step:   0%|          | 0/17375 [00:00<?, ?it/s]"
      ]
     },
     "metadata": {},
     "output_type": "display_data"
    },
    {
     "name": "stdout",
     "output_type": "stream",
     "text": [
      "Step: 499 Training Loss: 0.055220626294612885 Validation Loss: 0.0 Epoch loss: 0.058157806271661026\n",
      "Epoch: 41\n"
     ]
    },
    {
     "data": {
      "application/vnd.jupyter.widget-view+json": {
       "model_id": "e35a3b71089642df82f92a4770d53805",
       "version_major": 2,
       "version_minor": 0
      },
      "text/plain": [
       "Epoch: 41 Step:   0%|          | 0/17375 [00:00<?, ?it/s]"
      ]
     },
     "metadata": {},
     "output_type": "display_data"
    },
    {
     "name": "stdout",
     "output_type": "stream",
     "text": [
      "Step: 256 Training Loss: 0.04668714851140976 Validation Loss: 0.0 Epoch loss: 0.0566253161887289344\n",
      "Epoch: 42\n"
     ]
    },
    {
     "data": {
      "application/vnd.jupyter.widget-view+json": {
       "model_id": "dcaa7e378fa54b3aae543db84b9a36f6",
       "version_major": 2,
       "version_minor": 0
      },
      "text/plain": [
       "Epoch: 42 Step:   0%|          | 0/17375 [00:00<?, ?it/s]"
      ]
     },
     "metadata": {},
     "output_type": "display_data"
    },
    {
     "name": "stdout",
     "output_type": "stream",
     "text": [
      "Step: 47 Training Loss: 0.06957997381687164 Validation Loss: 0.0 Epoch loss: 0.0554436633878565846\n",
      "Epoch: 43\n"
     ]
    },
    {
     "data": {
      "application/vnd.jupyter.widget-view+json": {
       "model_id": "1fa21ae267524a47b32f874ae3b56317",
       "version_major": 2,
       "version_minor": 0
      },
      "text/plain": [
       "Epoch: 43 Step:   0%|          | 0/17375 [00:00<?, ?it/s]"
      ]
     },
     "metadata": {},
     "output_type": "display_data"
    },
    {
     "name": "stdout",
     "output_type": "stream",
     "text": [
      "Step: 104 Training Loss: 0.04820210859179497 Validation Loss: 0.0 Epoch loss: 0.053938719103685948\n",
      "Epoch: 44\n"
     ]
    },
    {
     "data": {
      "application/vnd.jupyter.widget-view+json": {
       "model_id": "d56c0eea47e844c4af2bd0b1fc0579a0",
       "version_major": 2,
       "version_minor": 0
      },
      "text/plain": [
       "Epoch: 44 Step:   0%|          | 0/17375 [00:00<?, ?it/s]"
      ]
     },
     "metadata": {},
     "output_type": "display_data"
    },
    {
     "name": "stdout",
     "output_type": "stream",
     "text": [
      "Step: 73 Training Loss: 0.045298367738723755 Validation Loss: 0.0 Epoch loss: 0.056619997965554676\n",
      "Epoch: 45\n"
     ]
    },
    {
     "data": {
      "application/vnd.jupyter.widget-view+json": {
       "model_id": "a202f783fe1e463b9a10c6a94836f83b",
       "version_major": 2,
       "version_minor": 0
      },
      "text/plain": [
       "Epoch: 45 Step:   0%|          | 0/17375 [00:00<?, ?it/s]"
      ]
     },
     "metadata": {},
     "output_type": "display_data"
    },
    {
     "name": "stdout",
     "output_type": "stream",
     "text": [
      "Step: 57 Training Loss: 0.06794650852680206 Validation Loss: 0.0 Epoch loss: 0.0543693857626956846\n",
      "Epoch: 46\n"
     ]
    },
    {
     "data": {
      "application/vnd.jupyter.widget-view+json": {
       "model_id": "4f13f2906d824519b41d03cd216caf91",
       "version_major": 2,
       "version_minor": 0
      },
      "text/plain": [
       "Epoch: 46 Step:   0%|          | 0/17375 [00:00<?, ?it/s]"
      ]
     },
     "metadata": {},
     "output_type": "display_data"
    },
    {
     "name": "stdout",
     "output_type": "stream",
     "text": [
      "Step: 288 Training Loss: 0.03712336719036102 Validation Loss: 0.0 Epoch loss: 0.0534512136493706986\n",
      "Epoch: 47\n"
     ]
    },
    {
     "data": {
      "application/vnd.jupyter.widget-view+json": {
       "model_id": "d8627937289d4651bbb20de786dbc2c8",
       "version_major": 2,
       "version_minor": 0
      },
      "text/plain": [
       "Epoch: 47 Step:   0%|          | 0/17375 [00:00<?, ?it/s]"
      ]
     },
     "metadata": {},
     "output_type": "display_data"
    },
    {
     "name": "stdout",
     "output_type": "stream",
     "text": [
      "Step: 178 Training Loss: 0.0645325556397438 Validation Loss: 0.0 Epoch loss: 0.05416494910343644416\n",
      "Epoch: 48\n"
     ]
    },
    {
     "data": {
      "application/vnd.jupyter.widget-view+json": {
       "model_id": "5443b33a6d5e4c8ab1363d5107d8cee8",
       "version_major": 2,
       "version_minor": 0
      },
      "text/plain": [
       "Epoch: 48 Step:   0%|          | 0/17375 [00:00<?, ?it/s]"
      ]
     },
     "metadata": {},
     "output_type": "display_data"
    },
    {
     "name": "stdout",
     "output_type": "stream",
     "text": [
      "Step: 773 Training Loss: 0.05046277120709419 Validation Loss: 0.0 Epoch loss: 0.0503187839129763746\n",
      "Epoch: 49\n"
     ]
    },
    {
     "data": {
      "application/vnd.jupyter.widget-view+json": {
       "model_id": "0b248bf0ca4443ab94384f1c6bf3183a",
       "version_major": 2,
       "version_minor": 0
      },
      "text/plain": [
       "Epoch: 49 Step:   0%|          | 0/17375 [00:00<?, ?it/s]"
      ]
     },
     "metadata": {},
     "output_type": "display_data"
    },
    {
     "name": "stdout",
     "output_type": "stream",
     "text": [
      "Step: 45 Training Loss: 0.051126714795827866 Validation Loss: 0.0 Epoch loss: 0.048873375687334275\n",
      "Epoch: 50\n"
     ]
    },
    {
     "data": {
      "application/vnd.jupyter.widget-view+json": {
       "model_id": "5c55e0a961c9458999392e4169cf9c74",
       "version_major": 2,
       "version_minor": 0
      },
      "text/plain": [
       "Epoch: 50 Step:   0%|          | 0/17375 [00:00<?, ?it/s]"
      ]
     },
     "metadata": {},
     "output_type": "display_data"
    },
    {
     "name": "stdout",
     "output_type": "stream",
     "text": [
      "Step: 200 Training Loss: 0.02759341523051262 Validation Loss: 0.0 Epoch loss: 0.0471440497692674454\n",
      "Epoch: 51\n"
     ]
    },
    {
     "data": {
      "application/vnd.jupyter.widget-view+json": {
       "model_id": "6e4b3615d18c47d3ae34902296ac0515",
       "version_major": 2,
       "version_minor": 0
      },
      "text/plain": [
       "Epoch: 51 Step:   0%|          | 0/17375 [00:00<?, ?it/s]"
      ]
     },
     "metadata": {},
     "output_type": "display_data"
    },
    {
     "name": "stdout",
     "output_type": "stream",
     "text": [
      "Step: 304 Training Loss: 0.04243366792798042 Validation Loss: 0.0 Epoch loss: 0.0477824737808029965\n",
      "Epoch: 52\n"
     ]
    },
    {
     "data": {
      "application/vnd.jupyter.widget-view+json": {
       "model_id": "24416b66dab7417b8a34574d1f41b291",
       "version_major": 2,
       "version_minor": 0
      },
      "text/plain": [
       "Epoch: 52 Step:   0%|          | 0/17375 [00:00<?, ?it/s]"
      ]
     },
     "metadata": {},
     "output_type": "display_data"
    },
    {
     "name": "stdout",
     "output_type": "stream",
     "text": [
      "Step: 240 Training Loss: 0.05236115679144859 Validation Loss: 0.0 Epoch loss: 0.0468917733523994766\n",
      "Epoch: 53\n"
     ]
    },
    {
     "data": {
      "application/vnd.jupyter.widget-view+json": {
       "model_id": "bc95cbffa652489fb2e1fdc8f60dfb28",
       "version_major": 2,
       "version_minor": 0
      },
      "text/plain": [
       "Epoch: 53 Step:   0%|          | 0/17375 [00:00<?, ?it/s]"
      ]
     },
     "metadata": {},
     "output_type": "display_data"
    },
    {
     "name": "stdout",
     "output_type": "stream",
     "text": [
      "Step: 150 Training Loss: 0.03852308914065361 Validation Loss: 0.0 Epoch loss: 0.0456750392292936634\n",
      "Epoch: 54\n"
     ]
    },
    {
     "data": {
      "application/vnd.jupyter.widget-view+json": {
       "model_id": "4572c1a469734d2b872adda8f33e0997",
       "version_major": 2,
       "version_minor": 0
      },
      "text/plain": [
       "Epoch: 54 Step:   0%|          | 0/17375 [00:00<?, ?it/s]"
      ]
     },
     "metadata": {},
     "output_type": "display_data"
    },
    {
     "name": "stdout",
     "output_type": "stream",
     "text": [
      "Step: 140 Training Loss: 0.07415538281202316 Validation Loss: 0.0 Epoch loss: 0.0450481643501137444\n",
      "Epoch: 55\n"
     ]
    },
    {
     "data": {
      "application/vnd.jupyter.widget-view+json": {
       "model_id": "7db0627b000b47e9b0364a1e0c31eec7",
       "version_major": 2,
       "version_minor": 0
      },
      "text/plain": [
       "Epoch: 55 Step:   0%|          | 0/17375 [00:00<?, ?it/s]"
      ]
     },
     "metadata": {},
     "output_type": "display_data"
    },
    {
     "name": "stdout",
     "output_type": "stream",
     "text": [
      "Step: 241 Training Loss: 0.0377206988632679 Validation Loss: 0.0 Epoch loss: 0.04515955378436696875\n",
      "Epoch: 56\n"
     ]
    },
    {
     "data": {
      "application/vnd.jupyter.widget-view+json": {
       "model_id": "667dd12a464f4f57927e8d8855cb8717",
       "version_major": 2,
       "version_minor": 0
      },
      "text/plain": [
       "Epoch: 56 Step:   0%|          | 0/17375 [00:00<?, ?it/s]"
      ]
     },
     "metadata": {},
     "output_type": "display_data"
    },
    {
     "name": "stdout",
     "output_type": "stream",
     "text": [
      "Step: 1347 Training Loss: 0.040332186967134476 Validation Loss: 0.0 Epoch loss: 0.042805749180421876\n",
      "Epoch: 57\n"
     ]
    },
    {
     "data": {
      "application/vnd.jupyter.widget-view+json": {
       "model_id": "04c39533eb7a4775a7f558191b6305fd",
       "version_major": 2,
       "version_minor": 0
      },
      "text/plain": [
       "Epoch: 57 Step:   0%|          | 0/17375 [00:00<?, ?it/s]"
      ]
     },
     "metadata": {},
     "output_type": "display_data"
    },
    {
     "name": "stdout",
     "output_type": "stream",
     "text": [
      "Step: 43 Training Loss: 0.054161977022886276 Validation Loss: 0.0 Epoch loss: 0.042468412454391636\n",
      "Epoch: 58\n"
     ]
    },
    {
     "data": {
      "application/vnd.jupyter.widget-view+json": {
       "model_id": "609980195587449faefe3e9ab58b87b0",
       "version_major": 2,
       "version_minor": 0
      },
      "text/plain": [
       "Epoch: 58 Step:   0%|          | 0/17375 [00:00<?, ?it/s]"
      ]
     },
     "metadata": {},
     "output_type": "display_data"
    },
    {
     "name": "stdout",
     "output_type": "stream",
     "text": [
      "Step: 234 Training Loss: 0.07245410233736038 Validation Loss: 0.0 Epoch loss: 0.0407626661671023175\n",
      "Epoch: 59\n"
     ]
    },
    {
     "data": {
      "application/vnd.jupyter.widget-view+json": {
       "model_id": "b3bf95f00aa14b3a9fe6553d65e93c68",
       "version_major": 2,
       "version_minor": 0
      },
      "text/plain": [
       "Epoch: 59 Step:   0%|          | 0/17375 [00:00<?, ?it/s]"
      ]
     },
     "metadata": {},
     "output_type": "display_data"
    },
    {
     "name": "stdout",
     "output_type": "stream",
     "text": [
      "Step: 31 Training Loss: 0.042162779718637466 Validation Loss: 0.0 Epoch loss: 0.042133032254153685\n",
      "Epoch: 60\n"
     ]
    },
    {
     "data": {
      "application/vnd.jupyter.widget-view+json": {
       "model_id": "1760ab910b934525975a4de74c1fdc3e",
       "version_major": 2,
       "version_minor": 0
      },
      "text/plain": [
       "Epoch: 60 Step:   0%|          | 0/17375 [00:00<?, ?it/s]"
      ]
     },
     "metadata": {},
     "output_type": "display_data"
    },
    {
     "name": "stdout",
     "output_type": "stream",
     "text": [
      "Step: 163 Training Loss: 0.0318899042904377 Validation Loss: 0.0 Epoch loss: 0.03980290008697407614\n",
      "Epoch: 61\n"
     ]
    },
    {
     "data": {
      "application/vnd.jupyter.widget-view+json": {
       "model_id": "d4b3f6f5f9954998b0a554d1246da4f4",
       "version_major": 2,
       "version_minor": 0
      },
      "text/plain": [
       "Epoch: 61 Step:   0%|          | 0/17375 [00:00<?, ?it/s]"
      ]
     },
     "metadata": {},
     "output_type": "display_data"
    },
    {
     "name": "stdout",
     "output_type": "stream",
     "text": [
      "Step: 342 Training Loss: 0.04502744972705841 Validation Loss: 0.0 Epoch loss: 0.0393190558084793245\n",
      "Epoch: 62\n"
     ]
    },
    {
     "data": {
      "application/vnd.jupyter.widget-view+json": {
       "model_id": "817235dc5a6b47fd9332e630335b7dec",
       "version_major": 2,
       "version_minor": 0
      },
      "text/plain": [
       "Epoch: 62 Step:   0%|          | 0/17375 [00:00<?, ?it/s]"
      ]
     },
     "metadata": {},
     "output_type": "display_data"
    },
    {
     "name": "stdout",
     "output_type": "stream",
     "text": [
      "Step: 81 Training Loss: 0.03900834172964096 Validation Loss: 0.0 Epoch loss: 0.0381041174685513515\n",
      "Epoch: 63\n"
     ]
    },
    {
     "data": {
      "application/vnd.jupyter.widget-view+json": {
       "model_id": "fae4344f5e64441ea54fdc3fa5230271",
       "version_major": 2,
       "version_minor": 0
      },
      "text/plain": [
       "Epoch: 63 Step:   0%|          | 0/17375 [00:00<?, ?it/s]"
      ]
     },
     "metadata": {},
     "output_type": "display_data"
    },
    {
     "name": "stdout",
     "output_type": "stream",
     "text": [
      "Step: 10 Training Loss: 0.04077441990375519 Validation Loss: 0.0 Epoch loss: 0.040740508772432816\n",
      "Epoch: 64\n"
     ]
    },
    {
     "data": {
      "application/vnd.jupyter.widget-view+json": {
       "model_id": "1d9e6cdff3d642c1a3fb81aef6bd7158",
       "version_major": 2,
       "version_minor": 0
      },
      "text/plain": [
       "Epoch: 64 Step:   0%|          | 0/17375 [00:00<?, ?it/s]"
      ]
     },
     "metadata": {},
     "output_type": "display_data"
    },
    {
     "name": "stdout",
     "output_type": "stream",
     "text": [
      "Step: 472 Training Loss: 0.028022801503539085 Validation Loss: 0.0 Epoch loss: 0.038555327735809705\n",
      "Epoch: 65\n"
     ]
    },
    {
     "data": {
      "application/vnd.jupyter.widget-view+json": {
       "model_id": "4bb6ea0eabc64dcda65a4720815f9820",
       "version_major": 2,
       "version_minor": 0
      },
      "text/plain": [
       "Epoch: 65 Step:   0%|          | 0/17375 [00:00<?, ?it/s]"
      ]
     },
     "metadata": {},
     "output_type": "display_data"
    },
    {
     "name": "stdout",
     "output_type": "stream",
     "text": [
      "Step: 112 Training Loss: 0.05709226801991463 Validation Loss: 0.0 Epoch loss: 0.0373553687573543656\n",
      "Epoch: 66\n"
     ]
    },
    {
     "data": {
      "application/vnd.jupyter.widget-view+json": {
       "model_id": "4fe937e00e8644a1a749e58e0093d391",
       "version_major": 2,
       "version_minor": 0
      },
      "text/plain": [
       "Epoch: 66 Step:   0%|          | 0/17375 [00:00<?, ?it/s]"
      ]
     },
     "metadata": {},
     "output_type": "display_data"
    },
    {
     "name": "stdout",
     "output_type": "stream",
     "text": [
      "Step: 61 Training Loss: 0.03192489966750145 Validation Loss: 0.0 Epoch loss: 0.0383148516116083655\n",
      "Epoch: 67\n"
     ]
    },
    {
     "data": {
      "application/vnd.jupyter.widget-view+json": {
       "model_id": "a46a2905801343c091189c71df4ba195",
       "version_major": 2,
       "version_minor": 0
      },
      "text/plain": [
       "Epoch: 67 Step:   0%|          | 0/17375 [00:00<?, ?it/s]"
      ]
     },
     "metadata": {},
     "output_type": "display_data"
    },
    {
     "name": "stdout",
     "output_type": "stream",
     "text": [
      "Step: 85 Training Loss: 0.04080905765295029 Validation Loss: 0.0 Epoch loss: 0.0374329869142356966\n",
      "Epoch: 68\n"
     ]
    },
    {
     "data": {
      "application/vnd.jupyter.widget-view+json": {
       "model_id": "70d6973d6655484eb7b17bf9522e4d45",
       "version_major": 2,
       "version_minor": 0
      },
      "text/plain": [
       "Epoch: 68 Step:   0%|          | 0/17375 [00:00<?, ?it/s]"
      ]
     },
     "metadata": {},
     "output_type": "display_data"
    },
    {
     "name": "stdout",
     "output_type": "stream",
     "text": [
      "Step: 81 Training Loss: 0.03661579638719559 Validation Loss: 0.0 Epoch loss: 0.0362933649233093965\n",
      "Epoch: 69\n"
     ]
    },
    {
     "data": {
      "application/vnd.jupyter.widget-view+json": {
       "model_id": "16009680130649509ab5fe66d9f5b1cd",
       "version_major": 2,
       "version_minor": 0
      },
      "text/plain": [
       "Epoch: 69 Step:   0%|          | 0/17375 [00:00<?, ?it/s]"
      ]
     },
     "metadata": {},
     "output_type": "display_data"
    },
    {
     "name": "stdout",
     "output_type": "stream",
     "text": [
      "Step: 309 Training Loss: 0.036895234137773514 Validation Loss: 0.0 Epoch loss: 0.036228087390124994\n",
      "Epoch: 70\n"
     ]
    },
    {
     "data": {
      "application/vnd.jupyter.widget-view+json": {
       "model_id": "5e271f6ffbf14d798db1ce78c4710c93",
       "version_major": 2,
       "version_minor": 0
      },
      "text/plain": [
       "Epoch: 70 Step:   0%|          | 0/17375 [00:00<?, ?it/s]"
      ]
     },
     "metadata": {},
     "output_type": "display_data"
    },
    {
     "name": "stdout",
     "output_type": "stream",
     "text": [
      "Step: 130 Training Loss: 0.03393574804067612 Validation Loss: 0.0 Epoch loss: 0.0352154267378724545\n",
      "Epoch: 71\n"
     ]
    },
    {
     "data": {
      "application/vnd.jupyter.widget-view+json": {
       "model_id": "a4cbedb878924f47a087fb67aeeee8a0",
       "version_major": 2,
       "version_minor": 0
      },
      "text/plain": [
       "Epoch: 71 Step:   0%|          | 0/17375 [00:00<?, ?it/s]"
      ]
     },
     "metadata": {},
     "output_type": "display_data"
    },
    {
     "name": "stdout",
     "output_type": "stream",
     "text": [
      "Step: 237 Training Loss: 0.031328100711107254 Validation Loss: 0.0 Epoch loss: 0.035919102851914465\n",
      "Epoch: 72\n"
     ]
    },
    {
     "data": {
      "application/vnd.jupyter.widget-view+json": {
       "model_id": "183cca6fbf024fa1810afcdfa7da4b7b",
       "version_major": 2,
       "version_minor": 0
      },
      "text/plain": [
       "Epoch: 72 Step:   0%|          | 0/17375 [00:00<?, ?it/s]"
      ]
     },
     "metadata": {},
     "output_type": "display_data"
    },
    {
     "name": "stdout",
     "output_type": "stream",
     "text": [
      "Step: 616 Training Loss: 0.031569112092256546 Validation Loss: 0.0 Epoch loss: 0.035382184822886416\n",
      "Epoch: 73\n"
     ]
    },
    {
     "data": {
      "application/vnd.jupyter.widget-view+json": {
       "model_id": "ea7a6eecb46b47f28be64ae142dacbcc",
       "version_major": 2,
       "version_minor": 0
      },
      "text/plain": [
       "Epoch: 73 Step:   0%|          | 0/17375 [00:00<?, ?it/s]"
      ]
     },
     "metadata": {},
     "output_type": "display_data"
    },
    {
     "name": "stdout",
     "output_type": "stream",
     "text": [
      "Step: 39 Training Loss: 0.031458765268325806 Validation Loss: 0.0 Epoch loss: 0.033884631851926826\n",
      "Epoch: 74\n"
     ]
    },
    {
     "data": {
      "application/vnd.jupyter.widget-view+json": {
       "model_id": "ec939c1b2b824921b1f56745b9a2d0b2",
       "version_major": 2,
       "version_minor": 0
      },
      "text/plain": [
       "Epoch: 74 Step:   0%|          | 0/17375 [00:00<?, ?it/s]"
      ]
     },
     "metadata": {},
     "output_type": "display_data"
    },
    {
     "name": "stdout",
     "output_type": "stream",
     "text": [
      "Step: 300 Training Loss: 0.05293799564242363 Validation Loss: 0.0 Epoch loss: 0.0344809715511898255\n",
      "Epoch: 75\n"
     ]
    },
    {
     "data": {
      "application/vnd.jupyter.widget-view+json": {
       "model_id": "885d1f2e639c4fd1a16853710b7d4e57",
       "version_major": 2,
       "version_minor": 0
      },
      "text/plain": [
       "Epoch: 75 Step:   0%|          | 0/17375 [00:00<?, ?it/s]"
      ]
     },
     "metadata": {},
     "output_type": "display_data"
    },
    {
     "name": "stdout",
     "output_type": "stream",
     "text": [
      "Step: 125 Training Loss: 0.05044035241007805 Validation Loss: 0.0 Epoch loss: 0.0337264489382505404\n",
      "Epoch: 76\n"
     ]
    },
    {
     "data": {
      "application/vnd.jupyter.widget-view+json": {
       "model_id": "4641accc73c6458d99c26e0f5e57ebbc",
       "version_major": 2,
       "version_minor": 0
      },
      "text/plain": [
       "Epoch: 76 Step:   0%|          | 0/17375 [00:00<?, ?it/s]"
      ]
     },
     "metadata": {},
     "output_type": "display_data"
    },
    {
     "name": "stdout",
     "output_type": "stream",
     "text": [
      "Step: 375 Training Loss: 0.030756527557969093 Validation Loss: 0.0 Epoch loss: 0.033213886742790544\n",
      "Epoch: 77\n"
     ]
    },
    {
     "data": {
      "application/vnd.jupyter.widget-view+json": {
       "model_id": "c40027249a6644e9927f3fa9bf5ee630",
       "version_major": 2,
       "version_minor": 0
      },
      "text/plain": [
       "Epoch: 77 Step:   0%|          | 0/17375 [00:00<?, ?it/s]"
      ]
     },
     "metadata": {},
     "output_type": "display_data"
    },
    {
     "name": "stdout",
     "output_type": "stream",
     "text": [
      "Step: 204 Training Loss: 0.026477204635739326 Validation Loss: 0.0 Epoch loss: 0.032733375014846813\n",
      "Epoch: 78\n"
     ]
    },
    {
     "data": {
      "application/vnd.jupyter.widget-view+json": {
       "model_id": "4821052a715d47379141391ed6399d3f",
       "version_major": 2,
       "version_minor": 0
      },
      "text/plain": [
       "Epoch: 78 Step:   0%|          | 0/17375 [00:00<?, ?it/s]"
      ]
     },
     "metadata": {},
     "output_type": "display_data"
    },
    {
     "name": "stdout",
     "output_type": "stream",
     "text": [
      "Step: 171 Training Loss: 0.028873173519968987 Validation Loss: 0.0 Epoch loss: 0.032712933776235726\n",
      "Epoch: 79\n"
     ]
    },
    {
     "data": {
      "application/vnd.jupyter.widget-view+json": {
       "model_id": "c5b2c706c24e482daf68d7888deb1eb7",
       "version_major": 2,
       "version_minor": 0
      },
      "text/plain": [
       "Epoch: 79 Step:   0%|          | 0/17375 [00:00<?, ?it/s]"
      ]
     },
     "metadata": {},
     "output_type": "display_data"
    },
    {
     "name": "stdout",
     "output_type": "stream",
     "text": [
      "Step: 428 Training Loss: 0.03963570296764374 Validation Loss: 0.0 Epoch loss: 0.0320102119269981866\n",
      "Epoch: 80\n"
     ]
    },
    {
     "data": {
      "application/vnd.jupyter.widget-view+json": {
       "model_id": "0a007cc663f344afaadb33dba647a295",
       "version_major": 2,
       "version_minor": 0
      },
      "text/plain": [
       "Epoch: 80 Step:   0%|          | 0/17375 [00:00<?, ?it/s]"
      ]
     },
     "metadata": {},
     "output_type": "display_data"
    },
    {
     "name": "stdout",
     "output_type": "stream",
     "text": [
      "Step: 473 Training Loss: 0.04345565289258957 Validation Loss: 0.0 Epoch loss: 0.0313147639139037547\n",
      "Epoch: 81\n"
     ]
    },
    {
     "data": {
      "application/vnd.jupyter.widget-view+json": {
       "model_id": "b2607e2b7d384d86b5aded6153c925b2",
       "version_major": 2,
       "version_minor": 0
      },
      "text/plain": [
       "Epoch: 81 Step:   0%|          | 0/17375 [00:00<?, ?it/s]"
      ]
     },
     "metadata": {},
     "output_type": "display_data"
    },
    {
     "name": "stdout",
     "output_type": "stream",
     "text": [
      "Step: 160 Training Loss: 0.024954557418823242 Validation Loss: 0.0 Epoch loss: 0.030338916671462363\n",
      "Epoch: 82\n"
     ]
    },
    {
     "data": {
      "application/vnd.jupyter.widget-view+json": {
       "model_id": "0644750226d9479db5f8b74789c54503",
       "version_major": 2,
       "version_minor": 0
      },
      "text/plain": [
       "Epoch: 82 Step:   0%|          | 0/17375 [00:00<?, ?it/s]"
      ]
     },
     "metadata": {},
     "output_type": "display_data"
    },
    {
     "name": "stdout",
     "output_type": "stream",
     "text": [
      "Step: 61 Training Loss: 0.030416755005717278 Validation Loss: 0.0 Epoch loss: 0.030452083002348414\n",
      "Epoch: 83\n"
     ]
    },
    {
     "data": {
      "application/vnd.jupyter.widget-view+json": {
       "model_id": "9fd7ed04ac5745c89e5912d3db06ec0e",
       "version_major": 2,
       "version_minor": 0
      },
      "text/plain": [
       "Epoch: 83 Step:   0%|          | 0/17375 [00:00<?, ?it/s]"
      ]
     },
     "metadata": {},
     "output_type": "display_data"
    },
    {
     "name": "stdout",
     "output_type": "stream",
     "text": [
      "Step: 9 Training Loss: 0.037472378462553024 Validation Loss: 0.0 Epoch loss: 0.033574026905828056\n",
      "Epoch: 84\n"
     ]
    },
    {
     "data": {
      "application/vnd.jupyter.widget-view+json": {
       "model_id": "7c262eadd12144a084d60623fa8e3276",
       "version_major": 2,
       "version_minor": 0
      },
      "text/plain": [
       "Epoch: 84 Step:   0%|          | 0/17375 [00:00<?, ?it/s]"
      ]
     },
     "metadata": {},
     "output_type": "display_data"
    },
    {
     "name": "stdout",
     "output_type": "stream",
     "text": [
      "Step: 5 Training Loss: 0.03899829089641571 Validation Loss: 0.0 Epoch loss: 0.0371567621827125566\n",
      "Epoch: 85\n"
     ]
    },
    {
     "data": {
      "application/vnd.jupyter.widget-view+json": {
       "model_id": "4bd42c8e920f48d087be678c8ae7cf8c",
       "version_major": 2,
       "version_minor": 0
      },
      "text/plain": [
       "Epoch: 85 Step:   0%|          | 0/17375 [00:00<?, ?it/s]"
      ]
     },
     "metadata": {},
     "output_type": "display_data"
    },
    {
     "name": "stdout",
     "output_type": "stream",
     "text": [
      "Step: 1 Training Loss: 0.02851216495037079 Validation Loss: 0.0 Epoch loss: 0.02851216495037079\n",
      "Epoch: 86\n"
     ]
    },
    {
     "data": {
      "application/vnd.jupyter.widget-view+json": {
       "model_id": "2f9a91d6337642fba445ce65e701b574",
       "version_major": 2,
       "version_minor": 0
      },
      "text/plain": [
       "Epoch: 86 Step:   0%|          | 0/17375 [00:00<?, ?it/s]"
      ]
     },
     "metadata": {},
     "output_type": "display_data"
    },
    {
     "name": "stdout",
     "output_type": "stream",
     "text": [
      "\n",
      "Epoch: 87\n"
     ]
    },
    {
     "data": {
      "application/vnd.jupyter.widget-view+json": {
       "model_id": "0bfffa1201b041e39f6d60271a926931",
       "version_major": 2,
       "version_minor": 0
      },
      "text/plain": [
       "Epoch: 87 Step:   0%|          | 0/17375 [00:00<?, ?it/s]"
      ]
     },
     "metadata": {},
     "output_type": "display_data"
    },
    {
     "name": "stdout",
     "output_type": "stream",
     "text": [
      "\n",
      "Epoch: 88\n"
     ]
    },
    {
     "data": {
      "application/vnd.jupyter.widget-view+json": {
       "model_id": "9d356f0a7e2e4e49a696b2b4929499af",
       "version_major": 2,
       "version_minor": 0
      },
      "text/plain": [
       "Epoch: 88 Step:   0%|          | 0/17375 [00:00<?, ?it/s]"
      ]
     },
     "metadata": {},
     "output_type": "display_data"
    },
    {
     "name": "stdout",
     "output_type": "stream",
     "text": [
      "\n",
      "Epoch: 89\n"
     ]
    },
    {
     "data": {
      "application/vnd.jupyter.widget-view+json": {
       "model_id": "089f9e84ef364a909bf3d5527186ed66",
       "version_major": 2,
       "version_minor": 0
      },
      "text/plain": [
       "Epoch: 89 Step:   0%|          | 0/17375 [00:00<?, ?it/s]"
      ]
     },
     "metadata": {},
     "output_type": "display_data"
    },
    {
     "name": "stdout",
     "output_type": "stream",
     "text": [
      "\n",
      "Epoch: 90\n"
     ]
    },
    {
     "data": {
      "application/vnd.jupyter.widget-view+json": {
       "model_id": "2e740831200143489e89104acec44745",
       "version_major": 2,
       "version_minor": 0
      },
      "text/plain": [
       "Epoch: 90 Step:   0%|          | 0/17375 [00:00<?, ?it/s]"
      ]
     },
     "metadata": {},
     "output_type": "display_data"
    },
    {
     "name": "stdout",
     "output_type": "stream",
     "text": [
      "\n",
      "Epoch: 91\n"
     ]
    },
    {
     "data": {
      "application/vnd.jupyter.widget-view+json": {
       "model_id": "c3931c8f436342649d3dab3b23ef94fd",
       "version_major": 2,
       "version_minor": 0
      },
      "text/plain": [
       "Epoch: 91 Step:   0%|          | 0/17375 [00:00<?, ?it/s]"
      ]
     },
     "metadata": {},
     "output_type": "display_data"
    },
    {
     "name": "stdout",
     "output_type": "stream",
     "text": [
      "\n",
      "Epoch: 92\n"
     ]
    },
    {
     "data": {
      "application/vnd.jupyter.widget-view+json": {
       "model_id": "18aa4c850f2246298f6407679a5d0cb7",
       "version_major": 2,
       "version_minor": 0
      },
      "text/plain": [
       "Epoch: 92 Step:   0%|          | 0/17375 [00:00<?, ?it/s]"
      ]
     },
     "metadata": {},
     "output_type": "display_data"
    },
    {
     "name": "stdout",
     "output_type": "stream",
     "text": [
      "\n",
      "Epoch: 93\n"
     ]
    },
    {
     "data": {
      "application/vnd.jupyter.widget-view+json": {
       "model_id": "2521b5ff55074aa2a869f07b7df9616e",
       "version_major": 2,
       "version_minor": 0
      },
      "text/plain": [
       "Epoch: 93 Step:   0%|          | 0/17375 [00:00<?, ?it/s]"
      ]
     },
     "metadata": {},
     "output_type": "display_data"
    },
    {
     "name": "stdout",
     "output_type": "stream",
     "text": [
      "\n",
      "Epoch: 94\n"
     ]
    },
    {
     "data": {
      "application/vnd.jupyter.widget-view+json": {
       "model_id": "f30c7bf339c14b0888e5183ea5511ab0",
       "version_major": 2,
       "version_minor": 0
      },
      "text/plain": [
       "Epoch: 94 Step:   0%|          | 0/17375 [00:00<?, ?it/s]"
      ]
     },
     "metadata": {},
     "output_type": "display_data"
    },
    {
     "name": "stdout",
     "output_type": "stream",
     "text": [
      "\n",
      "Epoch: 95\n"
     ]
    },
    {
     "data": {
      "application/vnd.jupyter.widget-view+json": {
       "model_id": "f84c4033fed04bb3a95ea12fc2cb9b7e",
       "version_major": 2,
       "version_minor": 0
      },
      "text/plain": [
       "Epoch: 95 Step:   0%|          | 0/17375 [00:00<?, ?it/s]"
      ]
     },
     "metadata": {},
     "output_type": "display_data"
    },
    {
     "name": "stdout",
     "output_type": "stream",
     "text": [
      "\n",
      "Epoch: 96\n"
     ]
    },
    {
     "data": {
      "application/vnd.jupyter.widget-view+json": {
       "model_id": "be96677ceb114992b264e233dbd3847c",
       "version_major": 2,
       "version_minor": 0
      },
      "text/plain": [
       "Epoch: 96 Step:   0%|          | 0/17375 [00:00<?, ?it/s]"
      ]
     },
     "metadata": {},
     "output_type": "display_data"
    },
    {
     "name": "stdout",
     "output_type": "stream",
     "text": [
      "\n",
      "Epoch: 97\n"
     ]
    },
    {
     "data": {
      "application/vnd.jupyter.widget-view+json": {
       "model_id": "35e625acbbb14ed6bf88e3fb0cdfbbb6",
       "version_major": 2,
       "version_minor": 0
      },
      "text/plain": [
       "Epoch: 97 Step:   0%|          | 0/17375 [00:00<?, ?it/s]"
      ]
     },
     "metadata": {},
     "output_type": "display_data"
    },
    {
     "name": "stdout",
     "output_type": "stream",
     "text": [
      "\n",
      "Epoch: 98\n"
     ]
    },
    {
     "data": {
      "application/vnd.jupyter.widget-view+json": {
       "model_id": "b0fa280dce274dcfa0333ab67664011c",
       "version_major": 2,
       "version_minor": 0
      },
      "text/plain": [
       "Epoch: 98 Step:   0%|          | 0/17375 [00:00<?, ?it/s]"
      ]
     },
     "metadata": {},
     "output_type": "display_data"
    },
    {
     "name": "stdout",
     "output_type": "stream",
     "text": [
      "\n",
      "Epoch: 99\n"
     ]
    },
    {
     "data": {
      "application/vnd.jupyter.widget-view+json": {
       "model_id": "332b0f93852941e3816afd97ecc4bd3e",
       "version_major": 2,
       "version_minor": 0
      },
      "text/plain": [
       "Epoch: 99 Step:   0%|          | 0/17375 [00:00<?, ?it/s]"
      ]
     },
     "metadata": {},
     "output_type": "display_data"
    },
    {
     "name": "stdout",
     "output_type": "stream",
     "text": [
      "\n",
      "Epoch: 100\n"
     ]
    },
    {
     "data": {
      "application/vnd.jupyter.widget-view+json": {
       "model_id": "a795a784312c4a09a517f1d305b0105d",
       "version_major": 2,
       "version_minor": 0
      },
      "text/plain": [
       "Epoch: 100 Step:   0%|          | 0/17375 [00:00<?, ?it/s]"
      ]
     },
     "metadata": {},
     "output_type": "display_data"
    },
    {
     "name": "stdout",
     "output_type": "stream",
     "text": [
      "\n",
      "Epoch: 101\n"
     ]
    },
    {
     "data": {
      "application/vnd.jupyter.widget-view+json": {
       "model_id": "0e85f80125e84c809577d29db71b29b3",
       "version_major": 2,
       "version_minor": 0
      },
      "text/plain": [
       "Epoch: 101 Step:   0%|          | 0/17375 [00:00<?, ?it/s]"
      ]
     },
     "metadata": {},
     "output_type": "display_data"
    },
    {
     "name": "stdout",
     "output_type": "stream",
     "text": [
      "\n",
      "Epoch: 102\n"
     ]
    },
    {
     "data": {
      "application/vnd.jupyter.widget-view+json": {
       "model_id": "52e6fc7265f0429985810a3f5bb1d3ef",
       "version_major": 2,
       "version_minor": 0
      },
      "text/plain": [
       "Epoch: 102 Step:   0%|          | 0/17375 [00:00<?, ?it/s]"
      ]
     },
     "metadata": {},
     "output_type": "display_data"
    },
    {
     "name": "stdout",
     "output_type": "stream",
     "text": [
      "\n",
      "Epoch: 103\n"
     ]
    },
    {
     "data": {
      "application/vnd.jupyter.widget-view+json": {
       "model_id": "6a1e9d8d9a8b49edabe54310645cc24d",
       "version_major": 2,
       "version_minor": 0
      },
      "text/plain": [
       "Epoch: 103 Step:   0%|          | 0/17375 [00:00<?, ?it/s]"
      ]
     },
     "metadata": {},
     "output_type": "display_data"
    },
    {
     "name": "stdout",
     "output_type": "stream",
     "text": [
      "\n",
      "Epoch: 104\n"
     ]
    },
    {
     "data": {
      "application/vnd.jupyter.widget-view+json": {
       "model_id": "0321cf1f38b5413892b5d0f57f9863e3",
       "version_major": 2,
       "version_minor": 0
      },
      "text/plain": [
       "Epoch: 104 Step:   0%|          | 0/17375 [00:00<?, ?it/s]"
      ]
     },
     "metadata": {},
     "output_type": "display_data"
    },
    {
     "name": "stdout",
     "output_type": "stream",
     "text": [
      "\n",
      "Epoch: 105\n"
     ]
    },
    {
     "data": {
      "application/vnd.jupyter.widget-view+json": {
       "model_id": "dc5543cef2954995a407716fbf41a4f0",
       "version_major": 2,
       "version_minor": 0
      },
      "text/plain": [
       "Epoch: 105 Step:   0%|          | 0/17375 [00:00<?, ?it/s]"
      ]
     },
     "metadata": {},
     "output_type": "display_data"
    },
    {
     "name": "stdout",
     "output_type": "stream",
     "text": [
      "\n",
      "Epoch: 106\n"
     ]
    },
    {
     "data": {
      "application/vnd.jupyter.widget-view+json": {
       "model_id": "d11cf8e637ae4cb58e97814317e479ed",
       "version_major": 2,
       "version_minor": 0
      },
      "text/plain": [
       "Epoch: 106 Step:   0%|          | 0/17375 [00:00<?, ?it/s]"
      ]
     },
     "metadata": {},
     "output_type": "display_data"
    },
    {
     "name": "stdout",
     "output_type": "stream",
     "text": [
      "\n",
      "Epoch: 107\n"
     ]
    },
    {
     "data": {
      "application/vnd.jupyter.widget-view+json": {
       "model_id": "e8f01e6c5522417a8b988612b01740d7",
       "version_major": 2,
       "version_minor": 0
      },
      "text/plain": [
       "Epoch: 107 Step:   0%|          | 0/17375 [00:00<?, ?it/s]"
      ]
     },
     "metadata": {},
     "output_type": "display_data"
    },
    {
     "name": "stdout",
     "output_type": "stream",
     "text": [
      "\n",
      "Epoch: 108\n"
     ]
    },
    {
     "data": {
      "application/vnd.jupyter.widget-view+json": {
       "model_id": "3231ad06931e4630ba080ddec4175b9f",
       "version_major": 2,
       "version_minor": 0
      },
      "text/plain": [
       "Epoch: 108 Step:   0%|          | 0/17375 [00:00<?, ?it/s]"
      ]
     },
     "metadata": {},
     "output_type": "display_data"
    },
    {
     "name": "stdout",
     "output_type": "stream",
     "text": [
      "\n",
      "Epoch: 109\n"
     ]
    },
    {
     "data": {
      "application/vnd.jupyter.widget-view+json": {
       "model_id": "6360cad67e674d3d93364346afb730a8",
       "version_major": 2,
       "version_minor": 0
      },
      "text/plain": [
       "Epoch: 109 Step:   0%|          | 0/17375 [00:00<?, ?it/s]"
      ]
     },
     "metadata": {},
     "output_type": "display_data"
    },
    {
     "name": "stdout",
     "output_type": "stream",
     "text": [
      "\n",
      "Epoch: 110\n"
     ]
    },
    {
     "data": {
      "application/vnd.jupyter.widget-view+json": {
       "model_id": "78263693a4724fe5a722d0d940629e88",
       "version_major": 2,
       "version_minor": 0
      },
      "text/plain": [
       "Epoch: 110 Step:   0%|          | 0/17375 [00:00<?, ?it/s]"
      ]
     },
     "metadata": {},
     "output_type": "display_data"
    },
    {
     "name": "stdout",
     "output_type": "stream",
     "text": [
      "\n",
      "Epoch: 111\n"
     ]
    },
    {
     "data": {
      "application/vnd.jupyter.widget-view+json": {
       "model_id": "3e46588e07284d3f9946f84aa5312e50",
       "version_major": 2,
       "version_minor": 0
      },
      "text/plain": [
       "Epoch: 111 Step:   0%|          | 0/17375 [00:00<?, ?it/s]"
      ]
     },
     "metadata": {},
     "output_type": "display_data"
    },
    {
     "name": "stdout",
     "output_type": "stream",
     "text": [
      "\n",
      "Epoch: 112\n"
     ]
    },
    {
     "data": {
      "application/vnd.jupyter.widget-view+json": {
       "model_id": "adcd87751434457c88bc13a8415154bd",
       "version_major": 2,
       "version_minor": 0
      },
      "text/plain": [
       "Epoch: 112 Step:   0%|          | 0/17375 [00:00<?, ?it/s]"
      ]
     },
     "metadata": {},
     "output_type": "display_data"
    },
    {
     "name": "stdout",
     "output_type": "stream",
     "text": [
      "\n",
      "Epoch: 113\n"
     ]
    },
    {
     "data": {
      "application/vnd.jupyter.widget-view+json": {
       "model_id": "840becbc620d4a09908a918f1896e79f",
       "version_major": 2,
       "version_minor": 0
      },
      "text/plain": [
       "Epoch: 113 Step:   0%|          | 0/17375 [00:00<?, ?it/s]"
      ]
     },
     "metadata": {},
     "output_type": "display_data"
    },
    {
     "name": "stdout",
     "output_type": "stream",
     "text": [
      "\n",
      "Epoch: 114\n"
     ]
    },
    {
     "data": {
      "application/vnd.jupyter.widget-view+json": {
       "model_id": "be191d131a2742d79bd808d23444508b",
       "version_major": 2,
       "version_minor": 0
      },
      "text/plain": [
       "Epoch: 114 Step:   0%|          | 0/17375 [00:00<?, ?it/s]"
      ]
     },
     "metadata": {},
     "output_type": "display_data"
    },
    {
     "name": "stdout",
     "output_type": "stream",
     "text": [
      "\n",
      "Epoch: 115\n"
     ]
    },
    {
     "data": {
      "application/vnd.jupyter.widget-view+json": {
       "model_id": "2719cd440f3a483c975517bec47618c2",
       "version_major": 2,
       "version_minor": 0
      },
      "text/plain": [
       "Epoch: 115 Step:   0%|          | 0/17375 [00:00<?, ?it/s]"
      ]
     },
     "metadata": {},
     "output_type": "display_data"
    },
    {
     "name": "stdout",
     "output_type": "stream",
     "text": [
      "\n",
      "Epoch: 116\n"
     ]
    },
    {
     "data": {
      "application/vnd.jupyter.widget-view+json": {
       "model_id": "89d78adbe6ad44f791c763d78ce43fc7",
       "version_major": 2,
       "version_minor": 0
      },
      "text/plain": [
       "Epoch: 116 Step:   0%|          | 0/17375 [00:00<?, ?it/s]"
      ]
     },
     "metadata": {},
     "output_type": "display_data"
    },
    {
     "name": "stdout",
     "output_type": "stream",
     "text": [
      "\n",
      "Epoch: 117\n"
     ]
    },
    {
     "data": {
      "application/vnd.jupyter.widget-view+json": {
       "model_id": "b8199089ac8245b3ba353e27c7f3fbb7",
       "version_major": 2,
       "version_minor": 0
      },
      "text/plain": [
       "Epoch: 117 Step:   0%|          | 0/17375 [00:00<?, ?it/s]"
      ]
     },
     "metadata": {},
     "output_type": "display_data"
    },
    {
     "name": "stdout",
     "output_type": "stream",
     "text": [
      "\n",
      "Epoch: 118\n"
     ]
    },
    {
     "data": {
      "application/vnd.jupyter.widget-view+json": {
       "model_id": "ba6c1d7436ff41a183b55b221fa04f06",
       "version_major": 2,
       "version_minor": 0
      },
      "text/plain": [
       "Epoch: 118 Step:   0%|          | 0/17375 [00:00<?, ?it/s]"
      ]
     },
     "metadata": {},
     "output_type": "display_data"
    },
    {
     "name": "stdout",
     "output_type": "stream",
     "text": [
      "\n",
      "Epoch: 119\n"
     ]
    },
    {
     "data": {
      "application/vnd.jupyter.widget-view+json": {
       "model_id": "fdec78a9632c4f5d8dea7c3cee8e882f",
       "version_major": 2,
       "version_minor": 0
      },
      "text/plain": [
       "Epoch: 119 Step:   0%|          | 0/17375 [00:00<?, ?it/s]"
      ]
     },
     "metadata": {},
     "output_type": "display_data"
    },
    {
     "name": "stdout",
     "output_type": "stream",
     "text": [
      "\n",
      "Epoch: 120\n"
     ]
    },
    {
     "data": {
      "application/vnd.jupyter.widget-view+json": {
       "model_id": "6a82637e2b5f49469df6e86820215c0a",
       "version_major": 2,
       "version_minor": 0
      },
      "text/plain": [
       "Epoch: 120 Step:   0%|          | 0/17375 [00:00<?, ?it/s]"
      ]
     },
     "metadata": {},
     "output_type": "display_data"
    },
    {
     "name": "stdout",
     "output_type": "stream",
     "text": [
      "\n",
      "Epoch: 121\n"
     ]
    },
    {
     "data": {
      "application/vnd.jupyter.widget-view+json": {
       "model_id": "e916620e0f854c9c95bf9662efbf4138",
       "version_major": 2,
       "version_minor": 0
      },
      "text/plain": [
       "Epoch: 121 Step:   0%|          | 0/17375 [00:00<?, ?it/s]"
      ]
     },
     "metadata": {},
     "output_type": "display_data"
    },
    {
     "name": "stdout",
     "output_type": "stream",
     "text": [
      "\n",
      "Epoch: 122\n"
     ]
    },
    {
     "data": {
      "application/vnd.jupyter.widget-view+json": {
       "model_id": "3bda03e7673947049ead39ded532b7bf",
       "version_major": 2,
       "version_minor": 0
      },
      "text/plain": [
       "Epoch: 122 Step:   0%|          | 0/17375 [00:00<?, ?it/s]"
      ]
     },
     "metadata": {},
     "output_type": "display_data"
    },
    {
     "name": "stdout",
     "output_type": "stream",
     "text": [
      "\n",
      "Epoch: 123\n"
     ]
    },
    {
     "data": {
      "application/vnd.jupyter.widget-view+json": {
       "model_id": "f4ba37c4731b4c26b33469497a2d207f",
       "version_major": 2,
       "version_minor": 0
      },
      "text/plain": [
       "Epoch: 123 Step:   0%|          | 0/17375 [00:00<?, ?it/s]"
      ]
     },
     "metadata": {},
     "output_type": "display_data"
    },
    {
     "name": "stdout",
     "output_type": "stream",
     "text": [
      "\n",
      "Epoch: 124\n"
     ]
    },
    {
     "data": {
      "application/vnd.jupyter.widget-view+json": {
       "model_id": "c1cb4079ee4647ba9744f0002fb0b42c",
       "version_major": 2,
       "version_minor": 0
      },
      "text/plain": [
       "Epoch: 124 Step:   0%|          | 0/17375 [00:00<?, ?it/s]"
      ]
     },
     "metadata": {},
     "output_type": "display_data"
    },
    {
     "name": "stdout",
     "output_type": "stream",
     "text": [
      "\n",
      "Epoch: 125\n"
     ]
    },
    {
     "data": {
      "application/vnd.jupyter.widget-view+json": {
       "model_id": "d3b47eb8eb424ebe9d97becb1269cd73",
       "version_major": 2,
       "version_minor": 0
      },
      "text/plain": [
       "Epoch: 125 Step:   0%|          | 0/17375 [00:00<?, ?it/s]"
      ]
     },
     "metadata": {},
     "output_type": "display_data"
    },
    {
     "name": "stdout",
     "output_type": "stream",
     "text": [
      "\n",
      "Epoch: 126\n"
     ]
    },
    {
     "data": {
      "application/vnd.jupyter.widget-view+json": {
       "model_id": "21cb742c2e684e5ca78821627f36b600",
       "version_major": 2,
       "version_minor": 0
      },
      "text/plain": [
       "Epoch: 126 Step:   0%|          | 0/17375 [00:00<?, ?it/s]"
      ]
     },
     "metadata": {},
     "output_type": "display_data"
    },
    {
     "name": "stdout",
     "output_type": "stream",
     "text": [
      "\n",
      "Epoch: 127\n"
     ]
    },
    {
     "data": {
      "application/vnd.jupyter.widget-view+json": {
       "model_id": "c88f5816888347c39fbab2a9cf9cb5ac",
       "version_major": 2,
       "version_minor": 0
      },
      "text/plain": [
       "Epoch: 127 Step:   0%|          | 0/17375 [00:00<?, ?it/s]"
      ]
     },
     "metadata": {},
     "output_type": "display_data"
    },
    {
     "name": "stdout",
     "output_type": "stream",
     "text": [
      "\n",
      "Epoch: 128\n"
     ]
    },
    {
     "data": {
      "application/vnd.jupyter.widget-view+json": {
       "model_id": "94bcadf72ad3485585714ab05e4b96af",
       "version_major": 2,
       "version_minor": 0
      },
      "text/plain": [
       "Epoch: 128 Step:   0%|          | 0/17375 [00:00<?, ?it/s]"
      ]
     },
     "metadata": {},
     "output_type": "display_data"
    },
    {
     "name": "stdout",
     "output_type": "stream",
     "text": [
      "\n",
      "Epoch: 129\n"
     ]
    },
    {
     "data": {
      "application/vnd.jupyter.widget-view+json": {
       "model_id": "cc2abcfcbaf144d79a6436223cdea029",
       "version_major": 2,
       "version_minor": 0
      },
      "text/plain": [
       "Epoch: 129 Step:   0%|          | 0/17375 [00:00<?, ?it/s]"
      ]
     },
     "metadata": {},
     "output_type": "display_data"
    },
    {
     "name": "stdout",
     "output_type": "stream",
     "text": [
      "\n",
      "Epoch: 130\n"
     ]
    },
    {
     "data": {
      "application/vnd.jupyter.widget-view+json": {
       "model_id": "3e0007c1e9514899af9ed08885be4058",
       "version_major": 2,
       "version_minor": 0
      },
      "text/plain": [
       "Epoch: 130 Step:   0%|          | 0/17375 [00:00<?, ?it/s]"
      ]
     },
     "metadata": {},
     "output_type": "display_data"
    },
    {
     "name": "stdout",
     "output_type": "stream",
     "text": [
      "\n",
      "Epoch: 131\n"
     ]
    },
    {
     "data": {
      "application/vnd.jupyter.widget-view+json": {
       "model_id": "d15738449698491b85cb834eb5ef06a4",
       "version_major": 2,
       "version_minor": 0
      },
      "text/plain": [
       "Epoch: 131 Step:   0%|          | 0/17375 [00:00<?, ?it/s]"
      ]
     },
     "metadata": {},
     "output_type": "display_data"
    },
    {
     "name": "stdout",
     "output_type": "stream",
     "text": [
      "\n",
      "Epoch: 132\n"
     ]
    },
    {
     "data": {
      "application/vnd.jupyter.widget-view+json": {
       "model_id": "0613e0f0474249039e977ab87a236f5b",
       "version_major": 2,
       "version_minor": 0
      },
      "text/plain": [
       "Epoch: 132 Step:   0%|          | 0/17375 [00:00<?, ?it/s]"
      ]
     },
     "metadata": {},
     "output_type": "display_data"
    },
    {
     "name": "stdout",
     "output_type": "stream",
     "text": [
      "\n",
      "Epoch: 133\n"
     ]
    },
    {
     "data": {
      "application/vnd.jupyter.widget-view+json": {
       "model_id": "be835102bce64512954a2e97da2bfab9",
       "version_major": 2,
       "version_minor": 0
      },
      "text/plain": [
       "Epoch: 133 Step:   0%|          | 0/17375 [00:00<?, ?it/s]"
      ]
     },
     "metadata": {},
     "output_type": "display_data"
    },
    {
     "name": "stdout",
     "output_type": "stream",
     "text": [
      "\n",
      "Epoch: 134\n"
     ]
    },
    {
     "data": {
      "application/vnd.jupyter.widget-view+json": {
       "model_id": "971ff61e7c674d53a4d7b4a91aec2819",
       "version_major": 2,
       "version_minor": 0
      },
      "text/plain": [
       "Epoch: 134 Step:   0%|          | 0/17375 [00:00<?, ?it/s]"
      ]
     },
     "metadata": {},
     "output_type": "display_data"
    },
    {
     "name": "stdout",
     "output_type": "stream",
     "text": [
      "\n",
      "Epoch: 135\n"
     ]
    },
    {
     "data": {
      "application/vnd.jupyter.widget-view+json": {
       "model_id": "80ed6c3489f54cc5a28edc1cc5011940",
       "version_major": 2,
       "version_minor": 0
      },
      "text/plain": [
       "Epoch: 135 Step:   0%|          | 0/17375 [00:00<?, ?it/s]"
      ]
     },
     "metadata": {},
     "output_type": "display_data"
    },
    {
     "name": "stdout",
     "output_type": "stream",
     "text": [
      "\n",
      "Epoch: 136\n"
     ]
    },
    {
     "data": {
      "application/vnd.jupyter.widget-view+json": {
       "model_id": "bf39d9ccc9e94320a2db88acaa583b7b",
       "version_major": 2,
       "version_minor": 0
      },
      "text/plain": [
       "Epoch: 136 Step:   0%|          | 0/17375 [00:00<?, ?it/s]"
      ]
     },
     "metadata": {},
     "output_type": "display_data"
    },
    {
     "name": "stdout",
     "output_type": "stream",
     "text": [
      "\n",
      "Epoch: 137\n"
     ]
    },
    {
     "data": {
      "application/vnd.jupyter.widget-view+json": {
       "model_id": "8c233083e8be4fb6bdb9c288376164f4",
       "version_major": 2,
       "version_minor": 0
      },
      "text/plain": [
       "Epoch: 137 Step:   0%|          | 0/17375 [00:00<?, ?it/s]"
      ]
     },
     "metadata": {},
     "output_type": "display_data"
    },
    {
     "name": "stdout",
     "output_type": "stream",
     "text": [
      "\n",
      "Epoch: 138\n"
     ]
    },
    {
     "data": {
      "application/vnd.jupyter.widget-view+json": {
       "model_id": "d02602e7830046fa94afcf5735742e9d",
       "version_major": 2,
       "version_minor": 0
      },
      "text/plain": [
       "Epoch: 138 Step:   0%|          | 0/17375 [00:00<?, ?it/s]"
      ]
     },
     "metadata": {},
     "output_type": "display_data"
    },
    {
     "name": "stdout",
     "output_type": "stream",
     "text": [
      "\n",
      "Epoch: 139\n"
     ]
    },
    {
     "data": {
      "application/vnd.jupyter.widget-view+json": {
       "model_id": "21743310a51a4bb08b0063a58f016b20",
       "version_major": 2,
       "version_minor": 0
      },
      "text/plain": [
       "Epoch: 139 Step:   0%|          | 0/17375 [00:00<?, ?it/s]"
      ]
     },
     "metadata": {},
     "output_type": "display_data"
    },
    {
     "name": "stdout",
     "output_type": "stream",
     "text": [
      "\n",
      "Epoch: 140\n"
     ]
    },
    {
     "data": {
      "application/vnd.jupyter.widget-view+json": {
       "model_id": "215c936ddb814603b474d2c6264e19eb",
       "version_major": 2,
       "version_minor": 0
      },
      "text/plain": [
       "Epoch: 140 Step:   0%|          | 0/17375 [00:00<?, ?it/s]"
      ]
     },
     "metadata": {},
     "output_type": "display_data"
    },
    {
     "name": "stdout",
     "output_type": "stream",
     "text": [
      "\n",
      "Epoch: 141\n"
     ]
    },
    {
     "data": {
      "application/vnd.jupyter.widget-view+json": {
       "model_id": "9f2883f1296f454dba8e370a28f160e4",
       "version_major": 2,
       "version_minor": 0
      },
      "text/plain": [
       "Epoch: 141 Step:   0%|          | 0/17375 [00:00<?, ?it/s]"
      ]
     },
     "metadata": {},
     "output_type": "display_data"
    },
    {
     "name": "stdout",
     "output_type": "stream",
     "text": [
      "\n",
      "Epoch: 142\n"
     ]
    },
    {
     "data": {
      "application/vnd.jupyter.widget-view+json": {
       "model_id": "2fbaa6f4bba94001af5e338cee855ba3",
       "version_major": 2,
       "version_minor": 0
      },
      "text/plain": [
       "Epoch: 142 Step:   0%|          | 0/17375 [00:00<?, ?it/s]"
      ]
     },
     "metadata": {},
     "output_type": "display_data"
    },
    {
     "name": "stdout",
     "output_type": "stream",
     "text": [
      "\n",
      "Epoch: 143\n"
     ]
    },
    {
     "data": {
      "application/vnd.jupyter.widget-view+json": {
       "model_id": "c12b4ce3b05f424e8765428c0c986758",
       "version_major": 2,
       "version_minor": 0
      },
      "text/plain": [
       "Epoch: 143 Step:   0%|          | 0/17375 [00:00<?, ?it/s]"
      ]
     },
     "metadata": {},
     "output_type": "display_data"
    },
    {
     "name": "stdout",
     "output_type": "stream",
     "text": [
      "\n",
      "Epoch: 144\n"
     ]
    },
    {
     "data": {
      "application/vnd.jupyter.widget-view+json": {
       "model_id": "de437c3c131e4d3db8db3bba370e1661",
       "version_major": 2,
       "version_minor": 0
      },
      "text/plain": [
       "Epoch: 144 Step:   0%|          | 0/17375 [00:00<?, ?it/s]"
      ]
     },
     "metadata": {},
     "output_type": "display_data"
    },
    {
     "name": "stdout",
     "output_type": "stream",
     "text": [
      "\n",
      "Epoch: 145\n"
     ]
    },
    {
     "data": {
      "application/vnd.jupyter.widget-view+json": {
       "model_id": "85e1fcf33a1448c9ba5ee5e73d81177d",
       "version_major": 2,
       "version_minor": 0
      },
      "text/plain": [
       "Epoch: 145 Step:   0%|          | 0/17375 [00:00<?, ?it/s]"
      ]
     },
     "metadata": {},
     "output_type": "display_data"
    },
    {
     "name": "stdout",
     "output_type": "stream",
     "text": [
      "\n",
      "Epoch: 146\n"
     ]
    },
    {
     "data": {
      "application/vnd.jupyter.widget-view+json": {
       "model_id": "760d51653e9a46c0b660d82b5bd2b669",
       "version_major": 2,
       "version_minor": 0
      },
      "text/plain": [
       "Epoch: 146 Step:   0%|          | 0/17375 [00:00<?, ?it/s]"
      ]
     },
     "metadata": {},
     "output_type": "display_data"
    },
    {
     "name": "stdout",
     "output_type": "stream",
     "text": [
      "\n",
      "Epoch: 147\n"
     ]
    },
    {
     "data": {
      "application/vnd.jupyter.widget-view+json": {
       "model_id": "eefd81a0bcea4652abbe4a30bbff0f2b",
       "version_major": 2,
       "version_minor": 0
      },
      "text/plain": [
       "Epoch: 147 Step:   0%|          | 0/17375 [00:00<?, ?it/s]"
      ]
     },
     "metadata": {},
     "output_type": "display_data"
    },
    {
     "name": "stdout",
     "output_type": "stream",
     "text": [
      "\n",
      "Epoch: 148\n"
     ]
    },
    {
     "data": {
      "application/vnd.jupyter.widget-view+json": {
       "model_id": "b98ac98efd4d40ce9207d5546147e980",
       "version_major": 2,
       "version_minor": 0
      },
      "text/plain": [
       "Epoch: 148 Step:   0%|          | 0/17375 [00:00<?, ?it/s]"
      ]
     },
     "metadata": {},
     "output_type": "display_data"
    },
    {
     "name": "stdout",
     "output_type": "stream",
     "text": [
      "\n",
      "Epoch: 149\n"
     ]
    },
    {
     "data": {
      "application/vnd.jupyter.widget-view+json": {
       "model_id": "180d9edbe61c4a69b116d5a062b942f2",
       "version_major": 2,
       "version_minor": 0
      },
      "text/plain": [
       "Epoch: 149 Step:   0%|          | 0/17375 [00:00<?, ?it/s]"
      ]
     },
     "metadata": {},
     "output_type": "display_data"
    },
    {
     "name": "stdout",
     "output_type": "stream",
     "text": [
      "\n",
      "Epoch: 150\n"
     ]
    },
    {
     "data": {
      "application/vnd.jupyter.widget-view+json": {
       "model_id": "d57e33f9454e4d6a9e0bb869c7eae5ab",
       "version_major": 2,
       "version_minor": 0
      },
      "text/plain": [
       "Epoch: 150 Step:   0%|          | 0/17375 [00:00<?, ?it/s]"
      ]
     },
     "metadata": {},
     "output_type": "display_data"
    },
    {
     "name": "stdout",
     "output_type": "stream",
     "text": [
      "\n",
      "Epoch: 151\n"
     ]
    },
    {
     "data": {
      "application/vnd.jupyter.widget-view+json": {
       "model_id": "a6198b63a2ac43c7ae3b5926ab19e422",
       "version_major": 2,
       "version_minor": 0
      },
      "text/plain": [
       "Epoch: 151 Step:   0%|          | 0/17375 [00:00<?, ?it/s]"
      ]
     },
     "metadata": {},
     "output_type": "display_data"
    },
    {
     "name": "stdout",
     "output_type": "stream",
     "text": [
      "\n",
      "Epoch: 152\n"
     ]
    },
    {
     "data": {
      "application/vnd.jupyter.widget-view+json": {
       "model_id": "9dee21a3ffb945209fdeba16b5f4eb76",
       "version_major": 2,
       "version_minor": 0
      },
      "text/plain": [
       "Epoch: 152 Step:   0%|          | 0/17375 [00:00<?, ?it/s]"
      ]
     },
     "metadata": {},
     "output_type": "display_data"
    },
    {
     "name": "stdout",
     "output_type": "stream",
     "text": [
      "\n",
      "Epoch: 153\n"
     ]
    },
    {
     "data": {
      "application/vnd.jupyter.widget-view+json": {
       "model_id": "3e099fd93d1e4bc497c4ad91eaad91c7",
       "version_major": 2,
       "version_minor": 0
      },
      "text/plain": [
       "Epoch: 153 Step:   0%|          | 0/17375 [00:00<?, ?it/s]"
      ]
     },
     "metadata": {},
     "output_type": "display_data"
    },
    {
     "name": "stdout",
     "output_type": "stream",
     "text": [
      "\n",
      "Epoch: 154\n"
     ]
    },
    {
     "data": {
      "application/vnd.jupyter.widget-view+json": {
       "model_id": "01cfdc04c7b145d3b54de50a50bc3861",
       "version_major": 2,
       "version_minor": 0
      },
      "text/plain": [
       "Epoch: 154 Step:   0%|          | 0/17375 [00:00<?, ?it/s]"
      ]
     },
     "metadata": {},
     "output_type": "display_data"
    },
    {
     "name": "stdout",
     "output_type": "stream",
     "text": [
      "\n",
      "Epoch: 155\n"
     ]
    },
    {
     "data": {
      "application/vnd.jupyter.widget-view+json": {
       "model_id": "ab64beca2ccd4e1e88367490ee51c782",
       "version_major": 2,
       "version_minor": 0
      },
      "text/plain": [
       "Epoch: 155 Step:   0%|          | 0/17375 [00:00<?, ?it/s]"
      ]
     },
     "metadata": {},
     "output_type": "display_data"
    },
    {
     "name": "stdout",
     "output_type": "stream",
     "text": [
      "\n",
      "Epoch: 156\n"
     ]
    },
    {
     "data": {
      "application/vnd.jupyter.widget-view+json": {
       "model_id": "88388cdcdf3347fdb930e07115c58617",
       "version_major": 2,
       "version_minor": 0
      },
      "text/plain": [
       "Epoch: 156 Step:   0%|          | 0/17375 [00:00<?, ?it/s]"
      ]
     },
     "metadata": {},
     "output_type": "display_data"
    },
    {
     "name": "stdout",
     "output_type": "stream",
     "text": [
      "\n",
      "Epoch: 157\n"
     ]
    },
    {
     "data": {
      "application/vnd.jupyter.widget-view+json": {
       "model_id": "68bd908785064c5095b5d516b71fede3",
       "version_major": 2,
       "version_minor": 0
      },
      "text/plain": [
       "Epoch: 157 Step:   0%|          | 0/17375 [00:00<?, ?it/s]"
      ]
     },
     "metadata": {},
     "output_type": "display_data"
    },
    {
     "name": "stdout",
     "output_type": "stream",
     "text": [
      "\n",
      "Epoch: 158\n"
     ]
    },
    {
     "data": {
      "application/vnd.jupyter.widget-view+json": {
       "model_id": "0e6f3446f61549d98c873acadcf3c566",
       "version_major": 2,
       "version_minor": 0
      },
      "text/plain": [
       "Epoch: 158 Step:   0%|          | 0/17375 [00:00<?, ?it/s]"
      ]
     },
     "metadata": {},
     "output_type": "display_data"
    },
    {
     "name": "stdout",
     "output_type": "stream",
     "text": [
      "\n",
      "Epoch: 159\n"
     ]
    },
    {
     "data": {
      "application/vnd.jupyter.widget-view+json": {
       "model_id": "31415332703c49db87b0623441617909",
       "version_major": 2,
       "version_minor": 0
      },
      "text/plain": [
       "Epoch: 159 Step:   0%|          | 0/17375 [00:00<?, ?it/s]"
      ]
     },
     "metadata": {},
     "output_type": "display_data"
    },
    {
     "name": "stdout",
     "output_type": "stream",
     "text": [
      "\n",
      "Epoch: 160\n"
     ]
    },
    {
     "data": {
      "application/vnd.jupyter.widget-view+json": {
       "model_id": "6301cb23b52c4fbf8d0e099cfac49c6f",
       "version_major": 2,
       "version_minor": 0
      },
      "text/plain": [
       "Epoch: 160 Step:   0%|          | 0/17375 [00:00<?, ?it/s]"
      ]
     },
     "metadata": {},
     "output_type": "display_data"
    },
    {
     "name": "stdout",
     "output_type": "stream",
     "text": [
      "\n",
      "Epoch: 161\n"
     ]
    },
    {
     "data": {
      "application/vnd.jupyter.widget-view+json": {
       "model_id": "4e65958d73d641889c20fddbd1657a85",
       "version_major": 2,
       "version_minor": 0
      },
      "text/plain": [
       "Epoch: 161 Step:   0%|          | 0/17375 [00:00<?, ?it/s]"
      ]
     },
     "metadata": {},
     "output_type": "display_data"
    },
    {
     "name": "stdout",
     "output_type": "stream",
     "text": [
      "\n",
      "Epoch: 162\n"
     ]
    },
    {
     "data": {
      "application/vnd.jupyter.widget-view+json": {
       "model_id": "f152b659781b4ccda4975a227825dbd3",
       "version_major": 2,
       "version_minor": 0
      },
      "text/plain": [
       "Epoch: 162 Step:   0%|          | 0/17375 [00:00<?, ?it/s]"
      ]
     },
     "metadata": {},
     "output_type": "display_data"
    },
    {
     "name": "stdout",
     "output_type": "stream",
     "text": [
      "\n",
      "Epoch: 163\n"
     ]
    },
    {
     "data": {
      "application/vnd.jupyter.widget-view+json": {
       "model_id": "8e77b24833074d71ac2b412658a5d97f",
       "version_major": 2,
       "version_minor": 0
      },
      "text/plain": [
       "Epoch: 163 Step:   0%|          | 0/17375 [00:00<?, ?it/s]"
      ]
     },
     "metadata": {},
     "output_type": "display_data"
    },
    {
     "name": "stdout",
     "output_type": "stream",
     "text": [
      "\n",
      "Epoch: 164\n"
     ]
    },
    {
     "data": {
      "application/vnd.jupyter.widget-view+json": {
       "model_id": "018643806fef4d87a9f3dce4e4c37490",
       "version_major": 2,
       "version_minor": 0
      },
      "text/plain": [
       "Epoch: 164 Step:   0%|          | 0/17375 [00:00<?, ?it/s]"
      ]
     },
     "metadata": {},
     "output_type": "display_data"
    },
    {
     "name": "stdout",
     "output_type": "stream",
     "text": [
      "\n",
      "Epoch: 165\n"
     ]
    },
    {
     "data": {
      "application/vnd.jupyter.widget-view+json": {
       "model_id": "21778d2ebd8c4b6c8bafe6fa986b15a8",
       "version_major": 2,
       "version_minor": 0
      },
      "text/plain": [
       "Epoch: 165 Step:   0%|          | 0/17375 [00:00<?, ?it/s]"
      ]
     },
     "metadata": {},
     "output_type": "display_data"
    },
    {
     "name": "stdout",
     "output_type": "stream",
     "text": [
      "\n",
      "Epoch: 166\n"
     ]
    },
    {
     "data": {
      "application/vnd.jupyter.widget-view+json": {
       "model_id": "69a2716c8a284ce2926c7041be7eecf3",
       "version_major": 2,
       "version_minor": 0
      },
      "text/plain": [
       "Epoch: 166 Step:   0%|          | 0/17375 [00:00<?, ?it/s]"
      ]
     },
     "metadata": {},
     "output_type": "display_data"
    },
    {
     "name": "stdout",
     "output_type": "stream",
     "text": [
      "\n",
      "Epoch: 167\n"
     ]
    },
    {
     "data": {
      "application/vnd.jupyter.widget-view+json": {
       "model_id": "f86eb990919d4c34a341d043619e04b2",
       "version_major": 2,
       "version_minor": 0
      },
      "text/plain": [
       "Epoch: 167 Step:   0%|          | 0/17375 [00:00<?, ?it/s]"
      ]
     },
     "metadata": {},
     "output_type": "display_data"
    },
    {
     "name": "stdout",
     "output_type": "stream",
     "text": [
      "\n",
      "Epoch: 168\n"
     ]
    },
    {
     "data": {
      "application/vnd.jupyter.widget-view+json": {
       "model_id": "32f44b35b6e84b7a8e41220bab2ca0f7",
       "version_major": 2,
       "version_minor": 0
      },
      "text/plain": [
       "Epoch: 168 Step:   0%|          | 0/17375 [00:00<?, ?it/s]"
      ]
     },
     "metadata": {},
     "output_type": "display_data"
    },
    {
     "name": "stdout",
     "output_type": "stream",
     "text": [
      "\n",
      "Epoch: 169\n"
     ]
    },
    {
     "data": {
      "application/vnd.jupyter.widget-view+json": {
       "model_id": "22d8653d415f4722bd76ea2774525dd7",
       "version_major": 2,
       "version_minor": 0
      },
      "text/plain": [
       "Epoch: 169 Step:   0%|          | 0/17375 [00:00<?, ?it/s]"
      ]
     },
     "metadata": {},
     "output_type": "display_data"
    },
    {
     "name": "stdout",
     "output_type": "stream",
     "text": [
      "\n",
      "Epoch: 170\n"
     ]
    },
    {
     "data": {
      "application/vnd.jupyter.widget-view+json": {
       "model_id": "0b2c1fcc7763474a966963347e7234c8",
       "version_major": 2,
       "version_minor": 0
      },
      "text/plain": [
       "Epoch: 170 Step:   0%|          | 0/17375 [00:00<?, ?it/s]"
      ]
     },
     "metadata": {},
     "output_type": "display_data"
    },
    {
     "name": "stdout",
     "output_type": "stream",
     "text": [
      "\n",
      "Epoch: 171\n"
     ]
    },
    {
     "data": {
      "application/vnd.jupyter.widget-view+json": {
       "model_id": "c6b158ac35584dde98096eaf6e0b9e0f",
       "version_major": 2,
       "version_minor": 0
      },
      "text/plain": [
       "Epoch: 171 Step:   0%|          | 0/17375 [00:00<?, ?it/s]"
      ]
     },
     "metadata": {},
     "output_type": "display_data"
    },
    {
     "name": "stdout",
     "output_type": "stream",
     "text": [
      "\n",
      "Epoch: 172\n"
     ]
    },
    {
     "data": {
      "application/vnd.jupyter.widget-view+json": {
       "model_id": "266b2923a3fa4e7791c8b58d2a5747e7",
       "version_major": 2,
       "version_minor": 0
      },
      "text/plain": [
       "Epoch: 172 Step:   0%|          | 0/17375 [00:00<?, ?it/s]"
      ]
     },
     "metadata": {},
     "output_type": "display_data"
    },
    {
     "name": "stdout",
     "output_type": "stream",
     "text": [
      "\n",
      "Epoch: 173\n"
     ]
    },
    {
     "data": {
      "application/vnd.jupyter.widget-view+json": {
       "model_id": "6e724a9109a04b0685b5e393c5372fae",
       "version_major": 2,
       "version_minor": 0
      },
      "text/plain": [
       "Epoch: 173 Step:   0%|          | 0/17375 [00:00<?, ?it/s]"
      ]
     },
     "metadata": {},
     "output_type": "display_data"
    },
    {
     "name": "stdout",
     "output_type": "stream",
     "text": [
      "\n",
      "Epoch: 174\n"
     ]
    },
    {
     "data": {
      "application/vnd.jupyter.widget-view+json": {
       "model_id": "691d6afacba34c7c81a369fd2846ca68",
       "version_major": 2,
       "version_minor": 0
      },
      "text/plain": [
       "Epoch: 174 Step:   0%|          | 0/17375 [00:00<?, ?it/s]"
      ]
     },
     "metadata": {},
     "output_type": "display_data"
    },
    {
     "name": "stdout",
     "output_type": "stream",
     "text": [
      "\n",
      "Epoch: 175\n"
     ]
    },
    {
     "data": {
      "application/vnd.jupyter.widget-view+json": {
       "model_id": "1cefc56950c54514917218bc2698af8d",
       "version_major": 2,
       "version_minor": 0
      },
      "text/plain": [
       "Epoch: 175 Step:   0%|          | 0/17375 [00:00<?, ?it/s]"
      ]
     },
     "metadata": {},
     "output_type": "display_data"
    },
    {
     "name": "stdout",
     "output_type": "stream",
     "text": [
      "\n",
      "Epoch: 176\n"
     ]
    },
    {
     "data": {
      "application/vnd.jupyter.widget-view+json": {
       "model_id": "5526b8707a854e478c81a2308a9acb9f",
       "version_major": 2,
       "version_minor": 0
      },
      "text/plain": [
       "Epoch: 176 Step:   0%|          | 0/17375 [00:00<?, ?it/s]"
      ]
     },
     "metadata": {},
     "output_type": "display_data"
    },
    {
     "name": "stdout",
     "output_type": "stream",
     "text": [
      "\n",
      "Epoch: 177\n"
     ]
    },
    {
     "data": {
      "application/vnd.jupyter.widget-view+json": {
       "model_id": "2b4e226e6bd946f4b840a2c9f7694e0e",
       "version_major": 2,
       "version_minor": 0
      },
      "text/plain": [
       "Epoch: 177 Step:   0%|          | 0/17375 [00:00<?, ?it/s]"
      ]
     },
     "metadata": {},
     "output_type": "display_data"
    },
    {
     "name": "stdout",
     "output_type": "stream",
     "text": [
      "\n",
      "Epoch: 178\n"
     ]
    },
    {
     "data": {
      "application/vnd.jupyter.widget-view+json": {
       "model_id": "206897b866124d87bf6fbd11f6481655",
       "version_major": 2,
       "version_minor": 0
      },
      "text/plain": [
       "Epoch: 178 Step:   0%|          | 0/17375 [00:00<?, ?it/s]"
      ]
     },
     "metadata": {},
     "output_type": "display_data"
    },
    {
     "name": "stdout",
     "output_type": "stream",
     "text": [
      "\n",
      "Epoch: 179\n"
     ]
    },
    {
     "data": {
      "application/vnd.jupyter.widget-view+json": {
       "model_id": "7c590c7ce80840ea916268a746181c20",
       "version_major": 2,
       "version_minor": 0
      },
      "text/plain": [
       "Epoch: 179 Step:   0%|          | 0/17375 [00:00<?, ?it/s]"
      ]
     },
     "metadata": {},
     "output_type": "display_data"
    },
    {
     "name": "stdout",
     "output_type": "stream",
     "text": [
      "\n",
      "Epoch: 180\n"
     ]
    },
    {
     "data": {
      "application/vnd.jupyter.widget-view+json": {
       "model_id": "9ae35870ddf9464c8e3c0ee27fe2db2d",
       "version_major": 2,
       "version_minor": 0
      },
      "text/plain": [
       "Epoch: 180 Step:   0%|          | 0/17375 [00:00<?, ?it/s]"
      ]
     },
     "metadata": {},
     "output_type": "display_data"
    },
    {
     "name": "stdout",
     "output_type": "stream",
     "text": [
      "\n",
      "Epoch: 181\n"
     ]
    },
    {
     "data": {
      "application/vnd.jupyter.widget-view+json": {
       "model_id": "8b4575b53d074b0985cf01af8e68e528",
       "version_major": 2,
       "version_minor": 0
      },
      "text/plain": [
       "Epoch: 181 Step:   0%|          | 0/17375 [00:00<?, ?it/s]"
      ]
     },
     "metadata": {},
     "output_type": "display_data"
    },
    {
     "name": "stdout",
     "output_type": "stream",
     "text": [
      "\n",
      "Epoch: 182\n"
     ]
    },
    {
     "data": {
      "application/vnd.jupyter.widget-view+json": {
       "model_id": "52354ab1133e4a829b43df346e1ba1c8",
       "version_major": 2,
       "version_minor": 0
      },
      "text/plain": [
       "Epoch: 182 Step:   0%|          | 0/17375 [00:00<?, ?it/s]"
      ]
     },
     "metadata": {},
     "output_type": "display_data"
    },
    {
     "name": "stdout",
     "output_type": "stream",
     "text": [
      "\n",
      "Epoch: 183\n"
     ]
    },
    {
     "data": {
      "application/vnd.jupyter.widget-view+json": {
       "model_id": "7940b608f55c465ba6f0d7b65f910897",
       "version_major": 2,
       "version_minor": 0
      },
      "text/plain": [
       "Epoch: 183 Step:   0%|          | 0/17375 [00:00<?, ?it/s]"
      ]
     },
     "metadata": {},
     "output_type": "display_data"
    },
    {
     "name": "stdout",
     "output_type": "stream",
     "text": [
      "\n",
      "Epoch: 184\n"
     ]
    },
    {
     "data": {
      "application/vnd.jupyter.widget-view+json": {
       "model_id": "1abab3564b6d47bab213e840b6f8d768",
       "version_major": 2,
       "version_minor": 0
      },
      "text/plain": [
       "Epoch: 184 Step:   0%|          | 0/17375 [00:00<?, ?it/s]"
      ]
     },
     "metadata": {},
     "output_type": "display_data"
    },
    {
     "name": "stdout",
     "output_type": "stream",
     "text": [
      "\n",
      "Epoch: 185\n"
     ]
    },
    {
     "data": {
      "application/vnd.jupyter.widget-view+json": {
       "model_id": "34d3ffb108554c7f9efe0f92c185f2de",
       "version_major": 2,
       "version_minor": 0
      },
      "text/plain": [
       "Epoch: 185 Step:   0%|          | 0/17375 [00:00<?, ?it/s]"
      ]
     },
     "metadata": {},
     "output_type": "display_data"
    },
    {
     "name": "stdout",
     "output_type": "stream",
     "text": [
      "\n",
      "Epoch: 186\n"
     ]
    },
    {
     "data": {
      "application/vnd.jupyter.widget-view+json": {
       "model_id": "3131eba31ffe41f181f5e44f9306273e",
       "version_major": 2,
       "version_minor": 0
      },
      "text/plain": [
       "Epoch: 186 Step:   0%|          | 0/17375 [00:00<?, ?it/s]"
      ]
     },
     "metadata": {},
     "output_type": "display_data"
    },
    {
     "name": "stdout",
     "output_type": "stream",
     "text": [
      "\n",
      "Epoch: 187\n"
     ]
    },
    {
     "data": {
      "application/vnd.jupyter.widget-view+json": {
       "model_id": "9c3bd609b4ab40c881c87c724c866ad6",
       "version_major": 2,
       "version_minor": 0
      },
      "text/plain": [
       "Epoch: 187 Step:   0%|          | 0/17375 [00:00<?, ?it/s]"
      ]
     },
     "metadata": {},
     "output_type": "display_data"
    },
    {
     "name": "stdout",
     "output_type": "stream",
     "text": [
      "\n",
      "Epoch: 188\n"
     ]
    },
    {
     "data": {
      "application/vnd.jupyter.widget-view+json": {
       "model_id": "21116e0bd47e466fa3593cf2d025543e",
       "version_major": 2,
       "version_minor": 0
      },
      "text/plain": [
       "Epoch: 188 Step:   0%|          | 0/17375 [00:00<?, ?it/s]"
      ]
     },
     "metadata": {},
     "output_type": "display_data"
    },
    {
     "name": "stdout",
     "output_type": "stream",
     "text": [
      "\n",
      "Epoch: 189\n"
     ]
    },
    {
     "data": {
      "application/vnd.jupyter.widget-view+json": {
       "model_id": "aeb963a1c7304173b9b84a63539da39a",
       "version_major": 2,
       "version_minor": 0
      },
      "text/plain": [
       "Epoch: 189 Step:   0%|          | 0/17375 [00:00<?, ?it/s]"
      ]
     },
     "metadata": {},
     "output_type": "display_data"
    },
    {
     "name": "stdout",
     "output_type": "stream",
     "text": [
      "\n",
      "Epoch: 190\n"
     ]
    },
    {
     "data": {
      "application/vnd.jupyter.widget-view+json": {
       "model_id": "398d0c36dbe44f129d137a5b61c95f7d",
       "version_major": 2,
       "version_minor": 0
      },
      "text/plain": [
       "Epoch: 190 Step:   0%|          | 0/17375 [00:00<?, ?it/s]"
      ]
     },
     "metadata": {},
     "output_type": "display_data"
    },
    {
     "name": "stdout",
     "output_type": "stream",
     "text": [
      "\n",
      "Epoch: 191\n"
     ]
    },
    {
     "data": {
      "application/vnd.jupyter.widget-view+json": {
       "model_id": "a90999a352f44461b22d5b6a778e3aa7",
       "version_major": 2,
       "version_minor": 0
      },
      "text/plain": [
       "Epoch: 191 Step:   0%|          | 0/17375 [00:00<?, ?it/s]"
      ]
     },
     "metadata": {},
     "output_type": "display_data"
    },
    {
     "name": "stdout",
     "output_type": "stream",
     "text": [
      "\n",
      "Epoch: 192\n"
     ]
    },
    {
     "data": {
      "application/vnd.jupyter.widget-view+json": {
       "model_id": "2a7da444c14d4a719a411d6d29098630",
       "version_major": 2,
       "version_minor": 0
      },
      "text/plain": [
       "Epoch: 192 Step:   0%|          | 0/17375 [00:00<?, ?it/s]"
      ]
     },
     "metadata": {},
     "output_type": "display_data"
    },
    {
     "name": "stdout",
     "output_type": "stream",
     "text": [
      "\n",
      "Epoch: 193\n"
     ]
    },
    {
     "data": {
      "application/vnd.jupyter.widget-view+json": {
       "model_id": "1de7ab37b1844df6851cb6a82a4bd82f",
       "version_major": 2,
       "version_minor": 0
      },
      "text/plain": [
       "Epoch: 193 Step:   0%|          | 0/17375 [00:00<?, ?it/s]"
      ]
     },
     "metadata": {},
     "output_type": "display_data"
    },
    {
     "name": "stdout",
     "output_type": "stream",
     "text": [
      "\n",
      "Epoch: 194\n"
     ]
    },
    {
     "data": {
      "application/vnd.jupyter.widget-view+json": {
       "model_id": "4b957deb41214348b4e0bb496eab1da3",
       "version_major": 2,
       "version_minor": 0
      },
      "text/plain": [
       "Epoch: 194 Step:   0%|          | 0/17375 [00:00<?, ?it/s]"
      ]
     },
     "metadata": {},
     "output_type": "display_data"
    },
    {
     "name": "stdout",
     "output_type": "stream",
     "text": [
      "\n",
      "Epoch: 195\n"
     ]
    },
    {
     "data": {
      "application/vnd.jupyter.widget-view+json": {
       "model_id": "639fca18a06a4399a4504403764ae69d",
       "version_major": 2,
       "version_minor": 0
      },
      "text/plain": [
       "Epoch: 195 Step:   0%|          | 0/17375 [00:00<?, ?it/s]"
      ]
     },
     "metadata": {},
     "output_type": "display_data"
    },
    {
     "name": "stdout",
     "output_type": "stream",
     "text": [
      "\n",
      "Epoch: 196\n"
     ]
    },
    {
     "data": {
      "application/vnd.jupyter.widget-view+json": {
       "model_id": "80d6eeaff3d643398ade9aac3f16b171",
       "version_major": 2,
       "version_minor": 0
      },
      "text/plain": [
       "Epoch: 196 Step:   0%|          | 0/17375 [00:00<?, ?it/s]"
      ]
     },
     "metadata": {},
     "output_type": "display_data"
    },
    {
     "name": "stdout",
     "output_type": "stream",
     "text": [
      "\n",
      "Epoch: 197\n"
     ]
    },
    {
     "data": {
      "application/vnd.jupyter.widget-view+json": {
       "model_id": "e5ddb7b09a564a03ad4e2cfaa4a3dbba",
       "version_major": 2,
       "version_minor": 0
      },
      "text/plain": [
       "Epoch: 197 Step:   0%|          | 0/17375 [00:00<?, ?it/s]"
      ]
     },
     "metadata": {},
     "output_type": "display_data"
    },
    {
     "name": "stdout",
     "output_type": "stream",
     "text": [
      "\n",
      "Epoch: 198\n"
     ]
    },
    {
     "data": {
      "application/vnd.jupyter.widget-view+json": {
       "model_id": "bb38674eb7e94c0dba7ce03a7f768bca",
       "version_major": 2,
       "version_minor": 0
      },
      "text/plain": [
       "Epoch: 198 Step:   0%|          | 0/17375 [00:00<?, ?it/s]"
      ]
     },
     "metadata": {},
     "output_type": "display_data"
    },
    {
     "name": "stdout",
     "output_type": "stream",
     "text": [
      "\n",
      "Epoch: 199\n"
     ]
    },
    {
     "data": {
      "application/vnd.jupyter.widget-view+json": {
       "model_id": "be06a89ef2b549b086164378ebbc74c5",
       "version_major": 2,
       "version_minor": 0
      },
      "text/plain": [
       "Epoch: 199 Step:   0%|          | 0/17375 [00:00<?, ?it/s]"
      ]
     },
     "metadata": {},
     "output_type": "display_data"
    },
    {
     "name": "stdout",
     "output_type": "stream",
     "text": [
      "\n",
      "Epoch: 200\n"
     ]
    },
    {
     "data": {
      "application/vnd.jupyter.widget-view+json": {
       "model_id": "e4d95a1c9a1a4565b337e7f3ae8d4972",
       "version_major": 2,
       "version_minor": 0
      },
      "text/plain": [
       "Epoch: 200 Step:   0%|          | 0/17375 [00:00<?, ?it/s]"
      ]
     },
     "metadata": {},
     "output_type": "display_data"
    },
    {
     "name": "stdout",
     "output_type": "stream",
     "text": [
      "\n",
      "Epoch: 201\n"
     ]
    },
    {
     "data": {
      "application/vnd.jupyter.widget-view+json": {
       "model_id": "3370c68d8b9f45e8bf938b10daba5cb2",
       "version_major": 2,
       "version_minor": 0
      },
      "text/plain": [
       "Epoch: 201 Step:   0%|          | 0/17375 [00:00<?, ?it/s]"
      ]
     },
     "metadata": {},
     "output_type": "display_data"
    },
    {
     "name": "stdout",
     "output_type": "stream",
     "text": [
      "\n",
      "Epoch: 202\n"
     ]
    },
    {
     "data": {
      "application/vnd.jupyter.widget-view+json": {
       "model_id": "9373accb59544092aa9e9beaa8b7037c",
       "version_major": 2,
       "version_minor": 0
      },
      "text/plain": [
       "Epoch: 202 Step:   0%|          | 0/17375 [00:00<?, ?it/s]"
      ]
     },
     "metadata": {},
     "output_type": "display_data"
    },
    {
     "name": "stdout",
     "output_type": "stream",
     "text": [
      "\n",
      "Epoch: 203\n"
     ]
    },
    {
     "data": {
      "application/vnd.jupyter.widget-view+json": {
       "model_id": "ef038340f3884ad4a9ebd6cd605857e6",
       "version_major": 2,
       "version_minor": 0
      },
      "text/plain": [
       "Epoch: 203 Step:   0%|          | 0/17375 [00:00<?, ?it/s]"
      ]
     },
     "metadata": {},
     "output_type": "display_data"
    },
    {
     "name": "stdout",
     "output_type": "stream",
     "text": [
      "\n",
      "Epoch: 204\n"
     ]
    },
    {
     "data": {
      "application/vnd.jupyter.widget-view+json": {
       "model_id": "53bdd881f2514c2bac5d2bd246184449",
       "version_major": 2,
       "version_minor": 0
      },
      "text/plain": [
       "Epoch: 204 Step:   0%|          | 0/17375 [00:00<?, ?it/s]"
      ]
     },
     "metadata": {},
     "output_type": "display_data"
    },
    {
     "name": "stdout",
     "output_type": "stream",
     "text": [
      "\n",
      "Epoch: 205\n"
     ]
    },
    {
     "data": {
      "application/vnd.jupyter.widget-view+json": {
       "model_id": "17a9032e92234624976696764bd54771",
       "version_major": 2,
       "version_minor": 0
      },
      "text/plain": [
       "Epoch: 205 Step:   0%|          | 0/17375 [00:00<?, ?it/s]"
      ]
     },
     "metadata": {},
     "output_type": "display_data"
    },
    {
     "name": "stdout",
     "output_type": "stream",
     "text": [
      "\n",
      "Epoch: 206\n"
     ]
    },
    {
     "data": {
      "application/vnd.jupyter.widget-view+json": {
       "model_id": "8146b3b8a2614e919a962d39763c3b4a",
       "version_major": 2,
       "version_minor": 0
      },
      "text/plain": [
       "Epoch: 206 Step:   0%|          | 0/17375 [00:00<?, ?it/s]"
      ]
     },
     "metadata": {},
     "output_type": "display_data"
    },
    {
     "name": "stdout",
     "output_type": "stream",
     "text": [
      "\n",
      "Epoch: 207\n"
     ]
    },
    {
     "data": {
      "application/vnd.jupyter.widget-view+json": {
       "model_id": "a80789c2cd5b4616a62c919d6b57c42a",
       "version_major": 2,
       "version_minor": 0
      },
      "text/plain": [
       "Epoch: 207 Step:   0%|          | 0/17375 [00:00<?, ?it/s]"
      ]
     },
     "metadata": {},
     "output_type": "display_data"
    },
    {
     "name": "stdout",
     "output_type": "stream",
     "text": [
      "\n",
      "Epoch: 208\n"
     ]
    },
    {
     "data": {
      "application/vnd.jupyter.widget-view+json": {
       "model_id": "7e988b00f0cd4d37b1cc08b4aa703245",
       "version_major": 2,
       "version_minor": 0
      },
      "text/plain": [
       "Epoch: 208 Step:   0%|          | 0/17375 [00:00<?, ?it/s]"
      ]
     },
     "metadata": {},
     "output_type": "display_data"
    },
    {
     "name": "stdout",
     "output_type": "stream",
     "text": [
      "\n",
      "Epoch: 209\n"
     ]
    },
    {
     "data": {
      "application/vnd.jupyter.widget-view+json": {
       "model_id": "c0384b1313694774bf031a38a4e47513",
       "version_major": 2,
       "version_minor": 0
      },
      "text/plain": [
       "Epoch: 209 Step:   0%|          | 0/17375 [00:00<?, ?it/s]"
      ]
     },
     "metadata": {},
     "output_type": "display_data"
    },
    {
     "name": "stdout",
     "output_type": "stream",
     "text": [
      "\n",
      "Epoch: 210\n"
     ]
    },
    {
     "data": {
      "application/vnd.jupyter.widget-view+json": {
       "model_id": "6dc8483043c1401bb452f4e4311eeb46",
       "version_major": 2,
       "version_minor": 0
      },
      "text/plain": [
       "Epoch: 210 Step:   0%|          | 0/17375 [00:00<?, ?it/s]"
      ]
     },
     "metadata": {},
     "output_type": "display_data"
    },
    {
     "name": "stdout",
     "output_type": "stream",
     "text": [
      "\n",
      "Epoch: 211\n"
     ]
    },
    {
     "data": {
      "application/vnd.jupyter.widget-view+json": {
       "model_id": "021e7879709245f7895e77485086acb4",
       "version_major": 2,
       "version_minor": 0
      },
      "text/plain": [
       "Epoch: 211 Step:   0%|          | 0/17375 [00:00<?, ?it/s]"
      ]
     },
     "metadata": {},
     "output_type": "display_data"
    },
    {
     "name": "stdout",
     "output_type": "stream",
     "text": [
      "\n",
      "Epoch: 212\n"
     ]
    },
    {
     "data": {
      "application/vnd.jupyter.widget-view+json": {
       "model_id": "a5504368e730433aa0871c51d64f54bc",
       "version_major": 2,
       "version_minor": 0
      },
      "text/plain": [
       "Epoch: 212 Step:   0%|          | 0/17375 [00:00<?, ?it/s]"
      ]
     },
     "metadata": {},
     "output_type": "display_data"
    },
    {
     "name": "stdout",
     "output_type": "stream",
     "text": [
      "\n",
      "Epoch: 213\n"
     ]
    },
    {
     "data": {
      "application/vnd.jupyter.widget-view+json": {
       "model_id": "c3405ef5cea445d382c74ef62afdda47",
       "version_major": 2,
       "version_minor": 0
      },
      "text/plain": [
       "Epoch: 213 Step:   0%|          | 0/17375 [00:00<?, ?it/s]"
      ]
     },
     "metadata": {},
     "output_type": "display_data"
    },
    {
     "name": "stdout",
     "output_type": "stream",
     "text": [
      "\n",
      "Epoch: 214\n"
     ]
    },
    {
     "data": {
      "application/vnd.jupyter.widget-view+json": {
       "model_id": "93d88b83c2644a9484ed851d92b9aa1e",
       "version_major": 2,
       "version_minor": 0
      },
      "text/plain": [
       "Epoch: 214 Step:   0%|          | 0/17375 [00:00<?, ?it/s]"
      ]
     },
     "metadata": {},
     "output_type": "display_data"
    },
    {
     "name": "stdout",
     "output_type": "stream",
     "text": [
      "\n",
      "Epoch: 215\n"
     ]
    },
    {
     "data": {
      "application/vnd.jupyter.widget-view+json": {
       "model_id": "fbc3a5f29b5a46c09a92d8c4e0ba1811",
       "version_major": 2,
       "version_minor": 0
      },
      "text/plain": [
       "Epoch: 215 Step:   0%|          | 0/17375 [00:00<?, ?it/s]"
      ]
     },
     "metadata": {},
     "output_type": "display_data"
    },
    {
     "name": "stdout",
     "output_type": "stream",
     "text": [
      "\n",
      "Epoch: 216\n"
     ]
    },
    {
     "data": {
      "application/vnd.jupyter.widget-view+json": {
       "model_id": "337de00e520a41c5b1633b60c76136de",
       "version_major": 2,
       "version_minor": 0
      },
      "text/plain": [
       "Epoch: 216 Step:   0%|          | 0/17375 [00:00<?, ?it/s]"
      ]
     },
     "metadata": {},
     "output_type": "display_data"
    },
    {
     "name": "stdout",
     "output_type": "stream",
     "text": [
      "\n",
      "Epoch: 217\n"
     ]
    },
    {
     "data": {
      "application/vnd.jupyter.widget-view+json": {
       "model_id": "9a0a001227ff4baa90c92cd5415afa02",
       "version_major": 2,
       "version_minor": 0
      },
      "text/plain": [
       "Epoch: 217 Step:   0%|          | 0/17375 [00:00<?, ?it/s]"
      ]
     },
     "metadata": {},
     "output_type": "display_data"
    },
    {
     "name": "stdout",
     "output_type": "stream",
     "text": [
      "\n",
      "Epoch: 218\n"
     ]
    },
    {
     "data": {
      "application/vnd.jupyter.widget-view+json": {
       "model_id": "87fbb1a841184c1c8b8ac177c3ed1a8c",
       "version_major": 2,
       "version_minor": 0
      },
      "text/plain": [
       "Epoch: 218 Step:   0%|          | 0/17375 [00:00<?, ?it/s]"
      ]
     },
     "metadata": {},
     "output_type": "display_data"
    },
    {
     "name": "stdout",
     "output_type": "stream",
     "text": [
      "\n",
      "Epoch: 219\n"
     ]
    },
    {
     "data": {
      "application/vnd.jupyter.widget-view+json": {
       "model_id": "d6d5ae3cc2fd4b2e8d30f78926db48ca",
       "version_major": 2,
       "version_minor": 0
      },
      "text/plain": [
       "Epoch: 219 Step:   0%|          | 0/17375 [00:00<?, ?it/s]"
      ]
     },
     "metadata": {},
     "output_type": "display_data"
    },
    {
     "name": "stdout",
     "output_type": "stream",
     "text": [
      "\n",
      "Epoch: 220\n"
     ]
    },
    {
     "data": {
      "application/vnd.jupyter.widget-view+json": {
       "model_id": "286b09ca874a477eab43b4b0983a235b",
       "version_major": 2,
       "version_minor": 0
      },
      "text/plain": [
       "Epoch: 220 Step:   0%|          | 0/17375 [00:00<?, ?it/s]"
      ]
     },
     "metadata": {},
     "output_type": "display_data"
    },
    {
     "name": "stdout",
     "output_type": "stream",
     "text": [
      "\n",
      "Epoch: 221\n"
     ]
    },
    {
     "data": {
      "application/vnd.jupyter.widget-view+json": {
       "model_id": "8a4f529d96d749e39d2eec7b713161f2",
       "version_major": 2,
       "version_minor": 0
      },
      "text/plain": [
       "Epoch: 221 Step:   0%|          | 0/17375 [00:00<?, ?it/s]"
      ]
     },
     "metadata": {},
     "output_type": "display_data"
    },
    {
     "name": "stdout",
     "output_type": "stream",
     "text": [
      "\n",
      "Epoch: 222\n"
     ]
    },
    {
     "data": {
      "application/vnd.jupyter.widget-view+json": {
       "model_id": "dcf2ac9a59224aff90afcbc6d4a8dc45",
       "version_major": 2,
       "version_minor": 0
      },
      "text/plain": [
       "Epoch: 222 Step:   0%|          | 0/17375 [00:00<?, ?it/s]"
      ]
     },
     "metadata": {},
     "output_type": "display_data"
    },
    {
     "name": "stdout",
     "output_type": "stream",
     "text": [
      "\n",
      "Epoch: 223\n"
     ]
    },
    {
     "data": {
      "application/vnd.jupyter.widget-view+json": {
       "model_id": "bd0afb0316e940eea370fc09b8e2399f",
       "version_major": 2,
       "version_minor": 0
      },
      "text/plain": [
       "Epoch: 223 Step:   0%|          | 0/17375 [00:00<?, ?it/s]"
      ]
     },
     "metadata": {},
     "output_type": "display_data"
    },
    {
     "name": "stdout",
     "output_type": "stream",
     "text": [
      "\n",
      "Epoch: 224\n"
     ]
    },
    {
     "data": {
      "application/vnd.jupyter.widget-view+json": {
       "model_id": "eff76a5f12f24e05852660e5aa828845",
       "version_major": 2,
       "version_minor": 0
      },
      "text/plain": [
       "Epoch: 224 Step:   0%|          | 0/17375 [00:00<?, ?it/s]"
      ]
     },
     "metadata": {},
     "output_type": "display_data"
    },
    {
     "name": "stdout",
     "output_type": "stream",
     "text": [
      "\n",
      "Epoch: 225\n"
     ]
    },
    {
     "data": {
      "application/vnd.jupyter.widget-view+json": {
       "model_id": "d6ecfb0b515a46c8bff4bafaa3f5512b",
       "version_major": 2,
       "version_minor": 0
      },
      "text/plain": [
       "Epoch: 225 Step:   0%|          | 0/17375 [00:00<?, ?it/s]"
      ]
     },
     "metadata": {},
     "output_type": "display_data"
    },
    {
     "name": "stdout",
     "output_type": "stream",
     "text": [
      "\n",
      "Epoch: 226\n"
     ]
    },
    {
     "data": {
      "application/vnd.jupyter.widget-view+json": {
       "model_id": "fb3dc3570d4f446590d3387022fecc3f",
       "version_major": 2,
       "version_minor": 0
      },
      "text/plain": [
       "Epoch: 226 Step:   0%|          | 0/17375 [00:00<?, ?it/s]"
      ]
     },
     "metadata": {},
     "output_type": "display_data"
    },
    {
     "name": "stdout",
     "output_type": "stream",
     "text": [
      "\n",
      "Epoch: 227\n"
     ]
    },
    {
     "data": {
      "application/vnd.jupyter.widget-view+json": {
       "model_id": "2542e6974e904fa4a4aae24911437a86",
       "version_major": 2,
       "version_minor": 0
      },
      "text/plain": [
       "Epoch: 227 Step:   0%|          | 0/17375 [00:00<?, ?it/s]"
      ]
     },
     "metadata": {},
     "output_type": "display_data"
    },
    {
     "name": "stdout",
     "output_type": "stream",
     "text": [
      "\n",
      "Epoch: 228\n"
     ]
    },
    {
     "data": {
      "application/vnd.jupyter.widget-view+json": {
       "model_id": "2b663fc5ac2d45709232f7ecf6d2b436",
       "version_major": 2,
       "version_minor": 0
      },
      "text/plain": [
       "Epoch: 228 Step:   0%|          | 0/17375 [00:00<?, ?it/s]"
      ]
     },
     "metadata": {},
     "output_type": "display_data"
    },
    {
     "name": "stdout",
     "output_type": "stream",
     "text": [
      "\n",
      "Epoch: 229\n"
     ]
    },
    {
     "data": {
      "application/vnd.jupyter.widget-view+json": {
       "model_id": "ecad35bb019d46c688c85baa12f7fff9",
       "version_major": 2,
       "version_minor": 0
      },
      "text/plain": [
       "Epoch: 229 Step:   0%|          | 0/17375 [00:00<?, ?it/s]"
      ]
     },
     "metadata": {},
     "output_type": "display_data"
    },
    {
     "name": "stdout",
     "output_type": "stream",
     "text": [
      "\n",
      "Epoch: 230\n"
     ]
    },
    {
     "data": {
      "application/vnd.jupyter.widget-view+json": {
       "model_id": "a56c8106f3c443f6a28001d1db66243a",
       "version_major": 2,
       "version_minor": 0
      },
      "text/plain": [
       "Epoch: 230 Step:   0%|          | 0/17375 [00:00<?, ?it/s]"
      ]
     },
     "metadata": {},
     "output_type": "display_data"
    },
    {
     "name": "stdout",
     "output_type": "stream",
     "text": [
      "\n",
      "Epoch: 231\n"
     ]
    },
    {
     "data": {
      "application/vnd.jupyter.widget-view+json": {
       "model_id": "55dec9901b59444ebf37fe54afb02347",
       "version_major": 2,
       "version_minor": 0
      },
      "text/plain": [
       "Epoch: 231 Step:   0%|          | 0/17375 [00:00<?, ?it/s]"
      ]
     },
     "metadata": {},
     "output_type": "display_data"
    },
    {
     "name": "stdout",
     "output_type": "stream",
     "text": [
      "\n",
      "Epoch: 232\n"
     ]
    },
    {
     "data": {
      "application/vnd.jupyter.widget-view+json": {
       "model_id": "bcc54f2d67ec4d74b823b96f812cf386",
       "version_major": 2,
       "version_minor": 0
      },
      "text/plain": [
       "Epoch: 232 Step:   0%|          | 0/17375 [00:00<?, ?it/s]"
      ]
     },
     "metadata": {},
     "output_type": "display_data"
    },
    {
     "name": "stdout",
     "output_type": "stream",
     "text": [
      "\n",
      "Epoch: 233\n"
     ]
    },
    {
     "data": {
      "application/vnd.jupyter.widget-view+json": {
       "model_id": "6166953b215344908385160f8cf405e7",
       "version_major": 2,
       "version_minor": 0
      },
      "text/plain": [
       "Epoch: 233 Step:   0%|          | 0/17375 [00:00<?, ?it/s]"
      ]
     },
     "metadata": {},
     "output_type": "display_data"
    },
    {
     "name": "stdout",
     "output_type": "stream",
     "text": [
      "\n",
      "Epoch: 234\n"
     ]
    },
    {
     "data": {
      "application/vnd.jupyter.widget-view+json": {
       "model_id": "e5ef4b72a34741f9a3d8dfc81e97c9be",
       "version_major": 2,
       "version_minor": 0
      },
      "text/plain": [
       "Epoch: 234 Step:   0%|          | 0/17375 [00:00<?, ?it/s]"
      ]
     },
     "metadata": {},
     "output_type": "display_data"
    },
    {
     "name": "stdout",
     "output_type": "stream",
     "text": [
      "\n",
      "Epoch: 235\n"
     ]
    },
    {
     "data": {
      "application/vnd.jupyter.widget-view+json": {
       "model_id": "c06d7da2d1aa446ab1bada32f75143ee",
       "version_major": 2,
       "version_minor": 0
      },
      "text/plain": [
       "Epoch: 235 Step:   0%|          | 0/17375 [00:00<?, ?it/s]"
      ]
     },
     "metadata": {},
     "output_type": "display_data"
    },
    {
     "name": "stdout",
     "output_type": "stream",
     "text": [
      "\n",
      "Epoch: 236\n"
     ]
    },
    {
     "data": {
      "application/vnd.jupyter.widget-view+json": {
       "model_id": "b54a1a90e5e1489e90ee655f623dad09",
       "version_major": 2,
       "version_minor": 0
      },
      "text/plain": [
       "Epoch: 236 Step:   0%|          | 0/17375 [00:00<?, ?it/s]"
      ]
     },
     "metadata": {},
     "output_type": "display_data"
    },
    {
     "name": "stdout",
     "output_type": "stream",
     "text": [
      "\n",
      "Epoch: 237\n"
     ]
    },
    {
     "data": {
      "application/vnd.jupyter.widget-view+json": {
       "model_id": "08621ba063bc4e209f99802cb18347e5",
       "version_major": 2,
       "version_minor": 0
      },
      "text/plain": [
       "Epoch: 237 Step:   0%|          | 0/17375 [00:00<?, ?it/s]"
      ]
     },
     "metadata": {},
     "output_type": "display_data"
    },
    {
     "name": "stdout",
     "output_type": "stream",
     "text": [
      "\n",
      "Epoch: 238\n"
     ]
    },
    {
     "data": {
      "application/vnd.jupyter.widget-view+json": {
       "model_id": "51a92c0ed313493bbb341390281659a0",
       "version_major": 2,
       "version_minor": 0
      },
      "text/plain": [
       "Epoch: 238 Step:   0%|          | 0/17375 [00:00<?, ?it/s]"
      ]
     },
     "metadata": {},
     "output_type": "display_data"
    },
    {
     "name": "stdout",
     "output_type": "stream",
     "text": [
      "\n",
      "Epoch: 239\n"
     ]
    },
    {
     "data": {
      "application/vnd.jupyter.widget-view+json": {
       "model_id": "7165a2fcf97347f99fad3c9324c02a3c",
       "version_major": 2,
       "version_minor": 0
      },
      "text/plain": [
       "Epoch: 239 Step:   0%|          | 0/17375 [00:00<?, ?it/s]"
      ]
     },
     "metadata": {},
     "output_type": "display_data"
    },
    {
     "name": "stdout",
     "output_type": "stream",
     "text": [
      "\n",
      "Epoch: 240\n"
     ]
    },
    {
     "data": {
      "application/vnd.jupyter.widget-view+json": {
       "model_id": "5489aa40197b4325b5bf975d1cddd03e",
       "version_major": 2,
       "version_minor": 0
      },
      "text/plain": [
       "Epoch: 240 Step:   0%|          | 0/17375 [00:00<?, ?it/s]"
      ]
     },
     "metadata": {},
     "output_type": "display_data"
    },
    {
     "name": "stdout",
     "output_type": "stream",
     "text": [
      "\n",
      "Epoch: 241\n"
     ]
    },
    {
     "data": {
      "application/vnd.jupyter.widget-view+json": {
       "model_id": "958aca7779ca4bb5b65f6fbd47ea1e90",
       "version_major": 2,
       "version_minor": 0
      },
      "text/plain": [
       "Epoch: 241 Step:   0%|          | 0/17375 [00:00<?, ?it/s]"
      ]
     },
     "metadata": {},
     "output_type": "display_data"
    },
    {
     "name": "stdout",
     "output_type": "stream",
     "text": [
      "\n",
      "Epoch: 242\n"
     ]
    },
    {
     "data": {
      "application/vnd.jupyter.widget-view+json": {
       "model_id": "8592e068841e482a82c97f62500de8ee",
       "version_major": 2,
       "version_minor": 0
      },
      "text/plain": [
       "Epoch: 242 Step:   0%|          | 0/17375 [00:00<?, ?it/s]"
      ]
     },
     "metadata": {},
     "output_type": "display_data"
    },
    {
     "name": "stdout",
     "output_type": "stream",
     "text": [
      "\n",
      "Epoch: 243\n"
     ]
    },
    {
     "data": {
      "application/vnd.jupyter.widget-view+json": {
       "model_id": "9b4bbbbb9a4943e8b6a3169ddf016e0d",
       "version_major": 2,
       "version_minor": 0
      },
      "text/plain": [
       "Epoch: 243 Step:   0%|          | 0/17375 [00:00<?, ?it/s]"
      ]
     },
     "metadata": {},
     "output_type": "display_data"
    },
    {
     "name": "stdout",
     "output_type": "stream",
     "text": [
      "\n",
      "Epoch: 244\n"
     ]
    },
    {
     "data": {
      "application/vnd.jupyter.widget-view+json": {
       "model_id": "60121d71c6344f429d98aa7545d19e71",
       "version_major": 2,
       "version_minor": 0
      },
      "text/plain": [
       "Epoch: 244 Step:   0%|          | 0/17375 [00:00<?, ?it/s]"
      ]
     },
     "metadata": {},
     "output_type": "display_data"
    },
    {
     "name": "stdout",
     "output_type": "stream",
     "text": [
      "\n",
      "Epoch: 245\n"
     ]
    },
    {
     "data": {
      "application/vnd.jupyter.widget-view+json": {
       "model_id": "13ce2792c68a458f9572d360e8bb267a",
       "version_major": 2,
       "version_minor": 0
      },
      "text/plain": [
       "Epoch: 245 Step:   0%|          | 0/17375 [00:00<?, ?it/s]"
      ]
     },
     "metadata": {},
     "output_type": "display_data"
    },
    {
     "name": "stdout",
     "output_type": "stream",
     "text": [
      "\n",
      "Epoch: 246\n"
     ]
    },
    {
     "data": {
      "application/vnd.jupyter.widget-view+json": {
       "model_id": "a8bc4072aba74fe5bc3f2f90dce7b88b",
       "version_major": 2,
       "version_minor": 0
      },
      "text/plain": [
       "Epoch: 246 Step:   0%|          | 0/17375 [00:00<?, ?it/s]"
      ]
     },
     "metadata": {},
     "output_type": "display_data"
    },
    {
     "name": "stdout",
     "output_type": "stream",
     "text": [
      "\n",
      "Epoch: 247\n"
     ]
    },
    {
     "data": {
      "application/vnd.jupyter.widget-view+json": {
       "model_id": "b95b643baa014491b8bbd376256f6eca",
       "version_major": 2,
       "version_minor": 0
      },
      "text/plain": [
       "Epoch: 247 Step:   0%|          | 0/17375 [00:00<?, ?it/s]"
      ]
     },
     "metadata": {},
     "output_type": "display_data"
    },
    {
     "name": "stdout",
     "output_type": "stream",
     "text": [
      "\n",
      "Epoch: 248\n"
     ]
    },
    {
     "data": {
      "application/vnd.jupyter.widget-view+json": {
       "model_id": "cef71901a1db4c6d9d7a01c40086071c",
       "version_major": 2,
       "version_minor": 0
      },
      "text/plain": [
       "Epoch: 248 Step:   0%|          | 0/17375 [00:00<?, ?it/s]"
      ]
     },
     "metadata": {},
     "output_type": "display_data"
    },
    {
     "name": "stdout",
     "output_type": "stream",
     "text": [
      "\n",
      "Epoch: 249\n"
     ]
    },
    {
     "data": {
      "application/vnd.jupyter.widget-view+json": {
       "model_id": "b892e98a1ac54c9d9bd57cd57607f034",
       "version_major": 2,
       "version_minor": 0
      },
      "text/plain": [
       "Epoch: 249 Step:   0%|          | 0/17375 [00:00<?, ?it/s]"
      ]
     },
     "metadata": {},
     "output_type": "display_data"
    },
    {
     "name": "stdout",
     "output_type": "stream",
     "text": [
      "\n",
      "Epoch: 250\n"
     ]
    },
    {
     "data": {
      "application/vnd.jupyter.widget-view+json": {
       "model_id": "fa26589e5f334ee680e80f8505e13fec",
       "version_major": 2,
       "version_minor": 0
      },
      "text/plain": [
       "Epoch: 250 Step:   0%|          | 0/17375 [00:00<?, ?it/s]"
      ]
     },
     "metadata": {},
     "output_type": "display_data"
    },
    {
     "name": "stdout",
     "output_type": "stream",
     "text": [
      "\n",
      "Epoch: 251\n"
     ]
    },
    {
     "data": {
      "application/vnd.jupyter.widget-view+json": {
       "model_id": "e9d07a24b96f4fcba99c8aeb9afada0d",
       "version_major": 2,
       "version_minor": 0
      },
      "text/plain": [
       "Epoch: 251 Step:   0%|          | 0/17375 [00:00<?, ?it/s]"
      ]
     },
     "metadata": {},
     "output_type": "display_data"
    },
    {
     "name": "stdout",
     "output_type": "stream",
     "text": [
      "\n",
      "Epoch: 252\n"
     ]
    },
    {
     "data": {
      "application/vnd.jupyter.widget-view+json": {
       "model_id": "146620a499df4ba3876f1753c574513e",
       "version_major": 2,
       "version_minor": 0
      },
      "text/plain": [
       "Epoch: 252 Step:   0%|          | 0/17375 [00:00<?, ?it/s]"
      ]
     },
     "metadata": {},
     "output_type": "display_data"
    },
    {
     "name": "stdout",
     "output_type": "stream",
     "text": [
      "\n",
      "Epoch: 253\n"
     ]
    },
    {
     "data": {
      "application/vnd.jupyter.widget-view+json": {
       "model_id": "bdb188bf4de149d2b2ef9bfc5e34b813",
       "version_major": 2,
       "version_minor": 0
      },
      "text/plain": [
       "Epoch: 253 Step:   0%|          | 0/17375 [00:00<?, ?it/s]"
      ]
     },
     "metadata": {},
     "output_type": "display_data"
    },
    {
     "name": "stdout",
     "output_type": "stream",
     "text": [
      "\n",
      "Epoch: 254\n"
     ]
    },
    {
     "data": {
      "application/vnd.jupyter.widget-view+json": {
       "model_id": "11edb32d224542e9b47639501b277410",
       "version_major": 2,
       "version_minor": 0
      },
      "text/plain": [
       "Epoch: 254 Step:   0%|          | 0/17375 [00:00<?, ?it/s]"
      ]
     },
     "metadata": {},
     "output_type": "display_data"
    },
    {
     "name": "stdout",
     "output_type": "stream",
     "text": [
      "\n",
      "Epoch: 255\n"
     ]
    },
    {
     "data": {
      "application/vnd.jupyter.widget-view+json": {
       "model_id": "b89b873b92354e0ca711f4f9a8b58fb1",
       "version_major": 2,
       "version_minor": 0
      },
      "text/plain": [
       "Epoch: 255 Step:   0%|          | 0/17375 [00:00<?, ?it/s]"
      ]
     },
     "metadata": {},
     "output_type": "display_data"
    },
    {
     "name": "stdout",
     "output_type": "stream",
     "text": [
      "\n",
      "Epoch: 256\n"
     ]
    },
    {
     "data": {
      "application/vnd.jupyter.widget-view+json": {
       "model_id": "35b939fd1337436187f058d45e30beff",
       "version_major": 2,
       "version_minor": 0
      },
      "text/plain": [
       "Epoch: 256 Step:   0%|          | 0/17375 [00:00<?, ?it/s]"
      ]
     },
     "metadata": {},
     "output_type": "display_data"
    },
    {
     "name": "stdout",
     "output_type": "stream",
     "text": [
      "\n",
      "Epoch: 257\n"
     ]
    },
    {
     "data": {
      "application/vnd.jupyter.widget-view+json": {
       "model_id": "7d5497520ced446bae5d1b6d1a2cb4c0",
       "version_major": 2,
       "version_minor": 0
      },
      "text/plain": [
       "Epoch: 257 Step:   0%|          | 0/17375 [00:00<?, ?it/s]"
      ]
     },
     "metadata": {},
     "output_type": "display_data"
    },
    {
     "name": "stdout",
     "output_type": "stream",
     "text": [
      "\n",
      "Epoch: 258\n"
     ]
    },
    {
     "data": {
      "application/vnd.jupyter.widget-view+json": {
       "model_id": "96ef8c58b33641e78964954e222ce05b",
       "version_major": 2,
       "version_minor": 0
      },
      "text/plain": [
       "Epoch: 258 Step:   0%|          | 0/17375 [00:00<?, ?it/s]"
      ]
     },
     "metadata": {},
     "output_type": "display_data"
    },
    {
     "name": "stdout",
     "output_type": "stream",
     "text": [
      "\n",
      "Epoch: 259\n"
     ]
    },
    {
     "data": {
      "application/vnd.jupyter.widget-view+json": {
       "model_id": "dcd4ca26b4e245b7b2025ee76acffac6",
       "version_major": 2,
       "version_minor": 0
      },
      "text/plain": [
       "Epoch: 259 Step:   0%|          | 0/17375 [00:00<?, ?it/s]"
      ]
     },
     "metadata": {},
     "output_type": "display_data"
    },
    {
     "name": "stdout",
     "output_type": "stream",
     "text": [
      "\n",
      "Epoch: 260\n"
     ]
    },
    {
     "data": {
      "application/vnd.jupyter.widget-view+json": {
       "model_id": "5b6329b95d6b4010aac5bb5a5a59877b",
       "version_major": 2,
       "version_minor": 0
      },
      "text/plain": [
       "Epoch: 260 Step:   0%|          | 0/17375 [00:00<?, ?it/s]"
      ]
     },
     "metadata": {},
     "output_type": "display_data"
    },
    {
     "name": "stdout",
     "output_type": "stream",
     "text": [
      "\n",
      "Epoch: 261\n"
     ]
    },
    {
     "data": {
      "application/vnd.jupyter.widget-view+json": {
       "model_id": "6ca7c3becaf249879d0a716b1c963f04",
       "version_major": 2,
       "version_minor": 0
      },
      "text/plain": [
       "Epoch: 261 Step:   0%|          | 0/17375 [00:00<?, ?it/s]"
      ]
     },
     "metadata": {},
     "output_type": "display_data"
    },
    {
     "name": "stdout",
     "output_type": "stream",
     "text": [
      "\n",
      "Epoch: 262\n"
     ]
    },
    {
     "data": {
      "application/vnd.jupyter.widget-view+json": {
       "model_id": "507930f905c54b8ab0a55cb7bbe537e4",
       "version_major": 2,
       "version_minor": 0
      },
      "text/plain": [
       "Epoch: 262 Step:   0%|          | 0/17375 [00:00<?, ?it/s]"
      ]
     },
     "metadata": {},
     "output_type": "display_data"
    },
    {
     "name": "stdout",
     "output_type": "stream",
     "text": [
      "\n",
      "Epoch: 263\n"
     ]
    },
    {
     "data": {
      "application/vnd.jupyter.widget-view+json": {
       "model_id": "99a2d005e24a42218ca433ffd4f34294",
       "version_major": 2,
       "version_minor": 0
      },
      "text/plain": [
       "Epoch: 263 Step:   0%|          | 0/17375 [00:00<?, ?it/s]"
      ]
     },
     "metadata": {},
     "output_type": "display_data"
    },
    {
     "name": "stdout",
     "output_type": "stream",
     "text": [
      "\n",
      "Epoch: 264\n"
     ]
    },
    {
     "data": {
      "application/vnd.jupyter.widget-view+json": {
       "model_id": "de736275eee3440f88776d916c2f2290",
       "version_major": 2,
       "version_minor": 0
      },
      "text/plain": [
       "Epoch: 264 Step:   0%|          | 0/17375 [00:00<?, ?it/s]"
      ]
     },
     "metadata": {},
     "output_type": "display_data"
    },
    {
     "name": "stdout",
     "output_type": "stream",
     "text": [
      "\n",
      "Epoch: 265\n"
     ]
    },
    {
     "data": {
      "application/vnd.jupyter.widget-view+json": {
       "model_id": "39e001273e4945ceaa38a76904b0deca",
       "version_major": 2,
       "version_minor": 0
      },
      "text/plain": [
       "Epoch: 265 Step:   0%|          | 0/17375 [00:00<?, ?it/s]"
      ]
     },
     "metadata": {},
     "output_type": "display_data"
    },
    {
     "name": "stdout",
     "output_type": "stream",
     "text": [
      "\n",
      "Epoch: 266\n"
     ]
    },
    {
     "data": {
      "application/vnd.jupyter.widget-view+json": {
       "model_id": "1f50d798ca344c1fbd466df0368e1283",
       "version_major": 2,
       "version_minor": 0
      },
      "text/plain": [
       "Epoch: 266 Step:   0%|          | 0/17375 [00:00<?, ?it/s]"
      ]
     },
     "metadata": {},
     "output_type": "display_data"
    },
    {
     "name": "stdout",
     "output_type": "stream",
     "text": [
      "\n",
      "Epoch: 267\n"
     ]
    },
    {
     "data": {
      "application/vnd.jupyter.widget-view+json": {
       "model_id": "e8e5801b34a7421e840dd17debf07f6a",
       "version_major": 2,
       "version_minor": 0
      },
      "text/plain": [
       "Epoch: 267 Step:   0%|          | 0/17375 [00:00<?, ?it/s]"
      ]
     },
     "metadata": {},
     "output_type": "display_data"
    },
    {
     "name": "stdout",
     "output_type": "stream",
     "text": [
      "\n",
      "Epoch: 268\n"
     ]
    },
    {
     "data": {
      "application/vnd.jupyter.widget-view+json": {
       "model_id": "bd560ac0fdbd43c2902e08e371d9a7dc",
       "version_major": 2,
       "version_minor": 0
      },
      "text/plain": [
       "Epoch: 268 Step:   0%|          | 0/17375 [00:00<?, ?it/s]"
      ]
     },
     "metadata": {},
     "output_type": "display_data"
    },
    {
     "name": "stdout",
     "output_type": "stream",
     "text": [
      "\n",
      "Epoch: 269\n"
     ]
    },
    {
     "data": {
      "application/vnd.jupyter.widget-view+json": {
       "model_id": "db235ed0b2544603a89ca6ce5697a1cc",
       "version_major": 2,
       "version_minor": 0
      },
      "text/plain": [
       "Epoch: 269 Step:   0%|          | 0/17375 [00:00<?, ?it/s]"
      ]
     },
     "metadata": {},
     "output_type": "display_data"
    },
    {
     "name": "stdout",
     "output_type": "stream",
     "text": [
      "\n",
      "Epoch: 270\n"
     ]
    },
    {
     "data": {
      "application/vnd.jupyter.widget-view+json": {
       "model_id": "b62c1e15e0bf4d5f9385200d09c873d0",
       "version_major": 2,
       "version_minor": 0
      },
      "text/plain": [
       "Epoch: 270 Step:   0%|          | 0/17375 [00:00<?, ?it/s]"
      ]
     },
     "metadata": {},
     "output_type": "display_data"
    },
    {
     "name": "stdout",
     "output_type": "stream",
     "text": [
      "\n",
      "Epoch: 271\n"
     ]
    },
    {
     "data": {
      "application/vnd.jupyter.widget-view+json": {
       "model_id": "2c7fb014c5d449b0953c809e2d6bbab3",
       "version_major": 2,
       "version_minor": 0
      },
      "text/plain": [
       "Epoch: 271 Step:   0%|          | 0/17375 [00:00<?, ?it/s]"
      ]
     },
     "metadata": {},
     "output_type": "display_data"
    },
    {
     "name": "stdout",
     "output_type": "stream",
     "text": [
      "\n",
      "Epoch: 272\n"
     ]
    },
    {
     "data": {
      "application/vnd.jupyter.widget-view+json": {
       "model_id": "bf486f8bc89d4de4b0d1fccf94893aa1",
       "version_major": 2,
       "version_minor": 0
      },
      "text/plain": [
       "Epoch: 272 Step:   0%|          | 0/17375 [00:00<?, ?it/s]"
      ]
     },
     "metadata": {},
     "output_type": "display_data"
    },
    {
     "name": "stdout",
     "output_type": "stream",
     "text": [
      "\n",
      "Epoch: 273\n"
     ]
    },
    {
     "data": {
      "application/vnd.jupyter.widget-view+json": {
       "model_id": "73ccf5d2c4414bf8a4002220f4a7e3ad",
       "version_major": 2,
       "version_minor": 0
      },
      "text/plain": [
       "Epoch: 273 Step:   0%|          | 0/17375 [00:00<?, ?it/s]"
      ]
     },
     "metadata": {},
     "output_type": "display_data"
    },
    {
     "name": "stdout",
     "output_type": "stream",
     "text": [
      "\n",
      "Epoch: 274\n"
     ]
    },
    {
     "data": {
      "application/vnd.jupyter.widget-view+json": {
       "model_id": "53f30a671c104ec596b5ced2d88d0f3d",
       "version_major": 2,
       "version_minor": 0
      },
      "text/plain": [
       "Epoch: 274 Step:   0%|          | 0/17375 [00:00<?, ?it/s]"
      ]
     },
     "metadata": {},
     "output_type": "display_data"
    },
    {
     "name": "stdout",
     "output_type": "stream",
     "text": [
      "\n",
      "Epoch: 275\n"
     ]
    },
    {
     "data": {
      "application/vnd.jupyter.widget-view+json": {
       "model_id": "b836900a80ac42dc9ff576a695ca6668",
       "version_major": 2,
       "version_minor": 0
      },
      "text/plain": [
       "Epoch: 275 Step:   0%|          | 0/17375 [00:00<?, ?it/s]"
      ]
     },
     "metadata": {},
     "output_type": "display_data"
    },
    {
     "name": "stdout",
     "output_type": "stream",
     "text": [
      "\n",
      "Epoch: 276\n"
     ]
    },
    {
     "data": {
      "application/vnd.jupyter.widget-view+json": {
       "model_id": "e14e803cee2f4a32af08b85d15665968",
       "version_major": 2,
       "version_minor": 0
      },
      "text/plain": [
       "Epoch: 276 Step:   0%|          | 0/17375 [00:00<?, ?it/s]"
      ]
     },
     "metadata": {},
     "output_type": "display_data"
    },
    {
     "name": "stdout",
     "output_type": "stream",
     "text": [
      "\n",
      "Epoch: 277\n"
     ]
    },
    {
     "data": {
      "application/vnd.jupyter.widget-view+json": {
       "model_id": "3e15de7687c8441fa3575cd3daf30f46",
       "version_major": 2,
       "version_minor": 0
      },
      "text/plain": [
       "Epoch: 277 Step:   0%|          | 0/17375 [00:00<?, ?it/s]"
      ]
     },
     "metadata": {},
     "output_type": "display_data"
    },
    {
     "name": "stdout",
     "output_type": "stream",
     "text": [
      "\n",
      "Epoch: 278\n"
     ]
    },
    {
     "data": {
      "application/vnd.jupyter.widget-view+json": {
       "model_id": "aa6777ee94f14eb49b6556fa78b7f801",
       "version_major": 2,
       "version_minor": 0
      },
      "text/plain": [
       "Epoch: 278 Step:   0%|          | 0/17375 [00:00<?, ?it/s]"
      ]
     },
     "metadata": {},
     "output_type": "display_data"
    },
    {
     "name": "stdout",
     "output_type": "stream",
     "text": [
      "\n",
      "Epoch: 279\n"
     ]
    },
    {
     "data": {
      "application/vnd.jupyter.widget-view+json": {
       "model_id": "d90d8c702d444972b548ca70bd519c5e",
       "version_major": 2,
       "version_minor": 0
      },
      "text/plain": [
       "Epoch: 279 Step:   0%|          | 0/17375 [00:00<?, ?it/s]"
      ]
     },
     "metadata": {},
     "output_type": "display_data"
    },
    {
     "name": "stdout",
     "output_type": "stream",
     "text": [
      "\n",
      "Epoch: 280\n"
     ]
    },
    {
     "data": {
      "application/vnd.jupyter.widget-view+json": {
       "model_id": "270c45d5d9964a0391c1a34bdcad2705",
       "version_major": 2,
       "version_minor": 0
      },
      "text/plain": [
       "Epoch: 280 Step:   0%|          | 0/17375 [00:00<?, ?it/s]"
      ]
     },
     "metadata": {},
     "output_type": "display_data"
    },
    {
     "name": "stdout",
     "output_type": "stream",
     "text": [
      "\n",
      "Epoch: 281\n"
     ]
    },
    {
     "data": {
      "application/vnd.jupyter.widget-view+json": {
       "model_id": "d0a712a4003942c183489142428d38aa",
       "version_major": 2,
       "version_minor": 0
      },
      "text/plain": [
       "Epoch: 281 Step:   0%|          | 0/17375 [00:00<?, ?it/s]"
      ]
     },
     "metadata": {},
     "output_type": "display_data"
    },
    {
     "name": "stdout",
     "output_type": "stream",
     "text": [
      "\n",
      "Epoch: 282\n"
     ]
    },
    {
     "data": {
      "application/vnd.jupyter.widget-view+json": {
       "model_id": "e36e5c0ca58742afaa72bc9333f959f1",
       "version_major": 2,
       "version_minor": 0
      },
      "text/plain": [
       "Epoch: 282 Step:   0%|          | 0/17375 [00:00<?, ?it/s]"
      ]
     },
     "metadata": {},
     "output_type": "display_data"
    },
    {
     "name": "stdout",
     "output_type": "stream",
     "text": [
      "\n",
      "Epoch: 283\n"
     ]
    },
    {
     "data": {
      "application/vnd.jupyter.widget-view+json": {
       "model_id": "e4fc02d1470c40e0b6b10c7eeb441d1e",
       "version_major": 2,
       "version_minor": 0
      },
      "text/plain": [
       "Epoch: 283 Step:   0%|          | 0/17375 [00:00<?, ?it/s]"
      ]
     },
     "metadata": {},
     "output_type": "display_data"
    },
    {
     "name": "stdout",
     "output_type": "stream",
     "text": [
      "\n",
      "Epoch: 284\n"
     ]
    },
    {
     "data": {
      "application/vnd.jupyter.widget-view+json": {
       "model_id": "752d4851aee4448ea2861e95c82695f0",
       "version_major": 2,
       "version_minor": 0
      },
      "text/plain": [
       "Epoch: 284 Step:   0%|          | 0/17375 [00:00<?, ?it/s]"
      ]
     },
     "metadata": {},
     "output_type": "display_data"
    },
    {
     "name": "stdout",
     "output_type": "stream",
     "text": [
      "\n",
      "Epoch: 285\n"
     ]
    },
    {
     "data": {
      "application/vnd.jupyter.widget-view+json": {
       "model_id": "2270d3ad593f4ab7b1380d7f904c3823",
       "version_major": 2,
       "version_minor": 0
      },
      "text/plain": [
       "Epoch: 285 Step:   0%|          | 0/17375 [00:00<?, ?it/s]"
      ]
     },
     "metadata": {},
     "output_type": "display_data"
    },
    {
     "name": "stdout",
     "output_type": "stream",
     "text": [
      "\n",
      "Epoch: 286\n"
     ]
    },
    {
     "data": {
      "application/vnd.jupyter.widget-view+json": {
       "model_id": "ebc59c4b759a4ac0a5ca10d6a3ac5f5a",
       "version_major": 2,
       "version_minor": 0
      },
      "text/plain": [
       "Epoch: 286 Step:   0%|          | 0/17375 [00:00<?, ?it/s]"
      ]
     },
     "metadata": {},
     "output_type": "display_data"
    },
    {
     "name": "stdout",
     "output_type": "stream",
     "text": [
      "\n",
      "Epoch: 287\n"
     ]
    },
    {
     "data": {
      "application/vnd.jupyter.widget-view+json": {
       "model_id": "519cce1daa29430e9689485464eafe1c",
       "version_major": 2,
       "version_minor": 0
      },
      "text/plain": [
       "Epoch: 287 Step:   0%|          | 0/17375 [00:00<?, ?it/s]"
      ]
     },
     "metadata": {},
     "output_type": "display_data"
    },
    {
     "name": "stdout",
     "output_type": "stream",
     "text": [
      "\n",
      "Epoch: 288\n"
     ]
    },
    {
     "data": {
      "application/vnd.jupyter.widget-view+json": {
       "model_id": "bd39f2af0766466f84117975b9597023",
       "version_major": 2,
       "version_minor": 0
      },
      "text/plain": [
       "Epoch: 288 Step:   0%|          | 0/17375 [00:00<?, ?it/s]"
      ]
     },
     "metadata": {},
     "output_type": "display_data"
    },
    {
     "name": "stdout",
     "output_type": "stream",
     "text": [
      "\n",
      "Epoch: 289\n"
     ]
    },
    {
     "data": {
      "application/vnd.jupyter.widget-view+json": {
       "model_id": "980255ae3e0a45b6b38a28130ffc958a",
       "version_major": 2,
       "version_minor": 0
      },
      "text/plain": [
       "Epoch: 289 Step:   0%|          | 0/17375 [00:00<?, ?it/s]"
      ]
     },
     "metadata": {},
     "output_type": "display_data"
    },
    {
     "name": "stdout",
     "output_type": "stream",
     "text": [
      "\n",
      "Epoch: 290\n"
     ]
    },
    {
     "data": {
      "application/vnd.jupyter.widget-view+json": {
       "model_id": "752276b6cdd749ff9d8c7bce0c3b3a7d",
       "version_major": 2,
       "version_minor": 0
      },
      "text/plain": [
       "Epoch: 290 Step:   0%|          | 0/17375 [00:00<?, ?it/s]"
      ]
     },
     "metadata": {},
     "output_type": "display_data"
    },
    {
     "name": "stdout",
     "output_type": "stream",
     "text": [
      "\n",
      "Epoch: 291\n"
     ]
    },
    {
     "data": {
      "application/vnd.jupyter.widget-view+json": {
       "model_id": "5e6d3784b24648c7aae800bf9a61496b",
       "version_major": 2,
       "version_minor": 0
      },
      "text/plain": [
       "Epoch: 291 Step:   0%|          | 0/17375 [00:00<?, ?it/s]"
      ]
     },
     "metadata": {},
     "output_type": "display_data"
    },
    {
     "name": "stdout",
     "output_type": "stream",
     "text": [
      "\n",
      "Epoch: 292\n"
     ]
    },
    {
     "data": {
      "application/vnd.jupyter.widget-view+json": {
       "model_id": "7b9eaa26a94d4d0a8438ff434eedafce",
       "version_major": 2,
       "version_minor": 0
      },
      "text/plain": [
       "Epoch: 292 Step:   0%|          | 0/17375 [00:00<?, ?it/s]"
      ]
     },
     "metadata": {},
     "output_type": "display_data"
    },
    {
     "name": "stdout",
     "output_type": "stream",
     "text": [
      "\n",
      "Epoch: 293\n"
     ]
    },
    {
     "data": {
      "application/vnd.jupyter.widget-view+json": {
       "model_id": "95d68904e77544c8858d934fa646fc58",
       "version_major": 2,
       "version_minor": 0
      },
      "text/plain": [
       "Epoch: 293 Step:   0%|          | 0/17375 [00:00<?, ?it/s]"
      ]
     },
     "metadata": {},
     "output_type": "display_data"
    },
    {
     "name": "stdout",
     "output_type": "stream",
     "text": [
      "\n",
      "Epoch: 294\n"
     ]
    },
    {
     "data": {
      "application/vnd.jupyter.widget-view+json": {
       "model_id": "3817bcebbed84de79a15c2cf1b8b6a89",
       "version_major": 2,
       "version_minor": 0
      },
      "text/plain": [
       "Epoch: 294 Step:   0%|          | 0/17375 [00:00<?, ?it/s]"
      ]
     },
     "metadata": {},
     "output_type": "display_data"
    },
    {
     "name": "stdout",
     "output_type": "stream",
     "text": [
      "\n",
      "Epoch: 295\n"
     ]
    },
    {
     "data": {
      "application/vnd.jupyter.widget-view+json": {
       "model_id": "b2b36c22d9ff4f2b91a568d02f9881ac",
       "version_major": 2,
       "version_minor": 0
      },
      "text/plain": [
       "Epoch: 295 Step:   0%|          | 0/17375 [00:00<?, ?it/s]"
      ]
     },
     "metadata": {},
     "output_type": "display_data"
    },
    {
     "name": "stdout",
     "output_type": "stream",
     "text": [
      "\n",
      "Epoch: 296\n"
     ]
    },
    {
     "data": {
      "application/vnd.jupyter.widget-view+json": {
       "model_id": "c61390d43126455880a2db50a0a89e8a",
       "version_major": 2,
       "version_minor": 0
      },
      "text/plain": [
       "Epoch: 296 Step:   0%|          | 0/17375 [00:00<?, ?it/s]"
      ]
     },
     "metadata": {},
     "output_type": "display_data"
    },
    {
     "name": "stdout",
     "output_type": "stream",
     "text": [
      "\n",
      "Epoch: 297\n"
     ]
    },
    {
     "data": {
      "application/vnd.jupyter.widget-view+json": {
       "model_id": "752e2f24f47942a284d2d8e40cea41cc",
       "version_major": 2,
       "version_minor": 0
      },
      "text/plain": [
       "Epoch: 297 Step:   0%|          | 0/17375 [00:00<?, ?it/s]"
      ]
     },
     "metadata": {},
     "output_type": "display_data"
    },
    {
     "name": "stdout",
     "output_type": "stream",
     "text": [
      "\n",
      "Epoch: 298\n"
     ]
    },
    {
     "data": {
      "application/vnd.jupyter.widget-view+json": {
       "model_id": "63eda7dd85a945e4abb0617f7ca23fec",
       "version_major": 2,
       "version_minor": 0
      },
      "text/plain": [
       "Epoch: 298 Step:   0%|          | 0/17375 [00:00<?, ?it/s]"
      ]
     },
     "metadata": {},
     "output_type": "display_data"
    },
    {
     "name": "stdout",
     "output_type": "stream",
     "text": [
      "\n",
      "Epoch: 299\n"
     ]
    },
    {
     "data": {
      "application/vnd.jupyter.widget-view+json": {
       "model_id": "df5ea95b0be44c41bc023eb9d1648c4d",
       "version_major": 2,
       "version_minor": 0
      },
      "text/plain": [
       "Epoch: 299 Step:   0%|          | 0/17375 [00:00<?, ?it/s]"
      ]
     },
     "metadata": {},
     "output_type": "display_data"
    },
    {
     "name": "stdout",
     "output_type": "stream",
     "text": [
      "\n",
      "Epoch: 300\n"
     ]
    },
    {
     "data": {
      "application/vnd.jupyter.widget-view+json": {
       "model_id": "a36a52a4916f45a1970ae41fff589b26",
       "version_major": 2,
       "version_minor": 0
      },
      "text/plain": [
       "Epoch: 300 Step:   0%|          | 0/17375 [00:00<?, ?it/s]"
      ]
     },
     "metadata": {},
     "output_type": "display_data"
    },
    {
     "name": "stdout",
     "output_type": "stream",
     "text": [
      "\n",
      "Epoch: 301\n"
     ]
    },
    {
     "data": {
      "application/vnd.jupyter.widget-view+json": {
       "model_id": "d32133f2fd72444f99acd061b6bc88e3",
       "version_major": 2,
       "version_minor": 0
      },
      "text/plain": [
       "Epoch: 301 Step:   0%|          | 0/17375 [00:00<?, ?it/s]"
      ]
     },
     "metadata": {},
     "output_type": "display_data"
    },
    {
     "name": "stdout",
     "output_type": "stream",
     "text": [
      "\n",
      "Epoch: 302\n"
     ]
    },
    {
     "data": {
      "application/vnd.jupyter.widget-view+json": {
       "model_id": "aefc343a178845e09bb35cab980b5a7c",
       "version_major": 2,
       "version_minor": 0
      },
      "text/plain": [
       "Epoch: 302 Step:   0%|          | 0/17375 [00:00<?, ?it/s]"
      ]
     },
     "metadata": {},
     "output_type": "display_data"
    },
    {
     "name": "stdout",
     "output_type": "stream",
     "text": [
      "\n",
      "Epoch: 303\n"
     ]
    },
    {
     "data": {
      "application/vnd.jupyter.widget-view+json": {
       "model_id": "dd1498b423544ab18d810320fb5aaa70",
       "version_major": 2,
       "version_minor": 0
      },
      "text/plain": [
       "Epoch: 303 Step:   0%|          | 0/17375 [00:00<?, ?it/s]"
      ]
     },
     "metadata": {},
     "output_type": "display_data"
    },
    {
     "name": "stdout",
     "output_type": "stream",
     "text": [
      "\n",
      "Epoch: 304\n"
     ]
    },
    {
     "data": {
      "application/vnd.jupyter.widget-view+json": {
       "model_id": "a637a41acd4142709338438d321b0f10",
       "version_major": 2,
       "version_minor": 0
      },
      "text/plain": [
       "Epoch: 304 Step:   0%|          | 0/17375 [00:00<?, ?it/s]"
      ]
     },
     "metadata": {},
     "output_type": "display_data"
    },
    {
     "name": "stdout",
     "output_type": "stream",
     "text": [
      "\n",
      "Epoch: 305\n"
     ]
    },
    {
     "data": {
      "application/vnd.jupyter.widget-view+json": {
       "model_id": "61e8686e35c44b41997fcdfd5ece2fd3",
       "version_major": 2,
       "version_minor": 0
      },
      "text/plain": [
       "Epoch: 305 Step:   0%|          | 0/17375 [00:00<?, ?it/s]"
      ]
     },
     "metadata": {},
     "output_type": "display_data"
    },
    {
     "name": "stdout",
     "output_type": "stream",
     "text": [
      "\n",
      "Epoch: 306\n"
     ]
    },
    {
     "data": {
      "application/vnd.jupyter.widget-view+json": {
       "model_id": "5f2df9ac8cb14fe9b29d73deca8c874c",
       "version_major": 2,
       "version_minor": 0
      },
      "text/plain": [
       "Epoch: 306 Step:   0%|          | 0/17375 [00:00<?, ?it/s]"
      ]
     },
     "metadata": {},
     "output_type": "display_data"
    },
    {
     "name": "stdout",
     "output_type": "stream",
     "text": [
      "\n",
      "Epoch: 307\n"
     ]
    },
    {
     "data": {
      "application/vnd.jupyter.widget-view+json": {
       "model_id": "f179b67577d24eabaa6c473e6db3718f",
       "version_major": 2,
       "version_minor": 0
      },
      "text/plain": [
       "Epoch: 307 Step:   0%|          | 0/17375 [00:00<?, ?it/s]"
      ]
     },
     "metadata": {},
     "output_type": "display_data"
    },
    {
     "name": "stdout",
     "output_type": "stream",
     "text": [
      "\n",
      "Epoch: 308\n"
     ]
    },
    {
     "data": {
      "application/vnd.jupyter.widget-view+json": {
       "model_id": "1506db84b2cf479d9f17756b13f2aec3",
       "version_major": 2,
       "version_minor": 0
      },
      "text/plain": [
       "Epoch: 308 Step:   0%|          | 0/17375 [00:00<?, ?it/s]"
      ]
     },
     "metadata": {},
     "output_type": "display_data"
    },
    {
     "name": "stdout",
     "output_type": "stream",
     "text": [
      "\n",
      "Epoch: 309\n"
     ]
    },
    {
     "data": {
      "application/vnd.jupyter.widget-view+json": {
       "model_id": "9aa0f9dd8fba45e78abf81b313bd0894",
       "version_major": 2,
       "version_minor": 0
      },
      "text/plain": [
       "Epoch: 309 Step:   0%|          | 0/17375 [00:00<?, ?it/s]"
      ]
     },
     "metadata": {},
     "output_type": "display_data"
    },
    {
     "name": "stdout",
     "output_type": "stream",
     "text": [
      "\n",
      "Epoch: 310\n"
     ]
    },
    {
     "data": {
      "application/vnd.jupyter.widget-view+json": {
       "model_id": "fe89e11edddc4f39b2ec1ad2629cbd3b",
       "version_major": 2,
       "version_minor": 0
      },
      "text/plain": [
       "Epoch: 310 Step:   0%|          | 0/17375 [00:00<?, ?it/s]"
      ]
     },
     "metadata": {},
     "output_type": "display_data"
    },
    {
     "name": "stdout",
     "output_type": "stream",
     "text": [
      "\n",
      "Epoch: 311\n"
     ]
    },
    {
     "data": {
      "application/vnd.jupyter.widget-view+json": {
       "model_id": "ea20350d9a814285b5698bd0f83b74f0",
       "version_major": 2,
       "version_minor": 0
      },
      "text/plain": [
       "Epoch: 311 Step:   0%|          | 0/17375 [00:00<?, ?it/s]"
      ]
     },
     "metadata": {},
     "output_type": "display_data"
    },
    {
     "name": "stdout",
     "output_type": "stream",
     "text": [
      "\n",
      "Epoch: 312\n"
     ]
    },
    {
     "data": {
      "application/vnd.jupyter.widget-view+json": {
       "model_id": "de618403e9884ef3a8711085e5ee1f35",
       "version_major": 2,
       "version_minor": 0
      },
      "text/plain": [
       "Epoch: 312 Step:   0%|          | 0/17375 [00:00<?, ?it/s]"
      ]
     },
     "metadata": {},
     "output_type": "display_data"
    },
    {
     "name": "stdout",
     "output_type": "stream",
     "text": [
      "\n",
      "Epoch: 313\n"
     ]
    },
    {
     "data": {
      "application/vnd.jupyter.widget-view+json": {
       "model_id": "206c6e3cf95e4e54815c6a8f51c8d47c",
       "version_major": 2,
       "version_minor": 0
      },
      "text/plain": [
       "Epoch: 313 Step:   0%|          | 0/17375 [00:00<?, ?it/s]"
      ]
     },
     "metadata": {},
     "output_type": "display_data"
    },
    {
     "name": "stdout",
     "output_type": "stream",
     "text": [
      "\n",
      "Epoch: 314\n"
     ]
    },
    {
     "data": {
      "application/vnd.jupyter.widget-view+json": {
       "model_id": "2d6b233828aa4453b17abc0245b23354",
       "version_major": 2,
       "version_minor": 0
      },
      "text/plain": [
       "Epoch: 314 Step:   0%|          | 0/17375 [00:00<?, ?it/s]"
      ]
     },
     "metadata": {},
     "output_type": "display_data"
    },
    {
     "name": "stdout",
     "output_type": "stream",
     "text": [
      "\n",
      "Epoch: 315\n"
     ]
    },
    {
     "data": {
      "application/vnd.jupyter.widget-view+json": {
       "model_id": "20394fd0441940dc9e15a41744a5f53b",
       "version_major": 2,
       "version_minor": 0
      },
      "text/plain": [
       "Epoch: 315 Step:   0%|          | 0/17375 [00:00<?, ?it/s]"
      ]
     },
     "metadata": {},
     "output_type": "display_data"
    },
    {
     "name": "stdout",
     "output_type": "stream",
     "text": [
      "\n",
      "Epoch: 316\n"
     ]
    },
    {
     "data": {
      "application/vnd.jupyter.widget-view+json": {
       "model_id": "7b70afe462d34f5a90fae639d5cf2aff",
       "version_major": 2,
       "version_minor": 0
      },
      "text/plain": [
       "Epoch: 316 Step:   0%|          | 0/17375 [00:00<?, ?it/s]"
      ]
     },
     "metadata": {},
     "output_type": "display_data"
    },
    {
     "name": "stdout",
     "output_type": "stream",
     "text": [
      "\n",
      "Epoch: 317\n"
     ]
    },
    {
     "data": {
      "application/vnd.jupyter.widget-view+json": {
       "model_id": "fc7bd4384ac045928c488b7f5676c82f",
       "version_major": 2,
       "version_minor": 0
      },
      "text/plain": [
       "Epoch: 317 Step:   0%|          | 0/17375 [00:00<?, ?it/s]"
      ]
     },
     "metadata": {},
     "output_type": "display_data"
    },
    {
     "name": "stdout",
     "output_type": "stream",
     "text": [
      "\n",
      "Epoch: 318\n"
     ]
    },
    {
     "data": {
      "application/vnd.jupyter.widget-view+json": {
       "model_id": "9dd51d541ce84df583d1b3a1aacd4ac6",
       "version_major": 2,
       "version_minor": 0
      },
      "text/plain": [
       "Epoch: 318 Step:   0%|          | 0/17375 [00:00<?, ?it/s]"
      ]
     },
     "metadata": {},
     "output_type": "display_data"
    },
    {
     "name": "stdout",
     "output_type": "stream",
     "text": [
      "\n",
      "Epoch: 319\n"
     ]
    },
    {
     "data": {
      "application/vnd.jupyter.widget-view+json": {
       "model_id": "db87bbc958a04752b1fb2823f7ce086d",
       "version_major": 2,
       "version_minor": 0
      },
      "text/plain": [
       "Epoch: 319 Step:   0%|          | 0/17375 [00:00<?, ?it/s]"
      ]
     },
     "metadata": {},
     "output_type": "display_data"
    },
    {
     "name": "stdout",
     "output_type": "stream",
     "text": [
      "\n",
      "Epoch: 320\n"
     ]
    },
    {
     "data": {
      "application/vnd.jupyter.widget-view+json": {
       "model_id": "8bb77c33f69a424cb008d406300f42b6",
       "version_major": 2,
       "version_minor": 0
      },
      "text/plain": [
       "Epoch: 320 Step:   0%|          | 0/17375 [00:00<?, ?it/s]"
      ]
     },
     "metadata": {},
     "output_type": "display_data"
    },
    {
     "name": "stdout",
     "output_type": "stream",
     "text": [
      "\n",
      "Epoch: 321\n"
     ]
    },
    {
     "data": {
      "application/vnd.jupyter.widget-view+json": {
       "model_id": "f90085bea00d42448a89242a7f38eadc",
       "version_major": 2,
       "version_minor": 0
      },
      "text/plain": [
       "Epoch: 321 Step:   0%|          | 0/17375 [00:00<?, ?it/s]"
      ]
     },
     "metadata": {},
     "output_type": "display_data"
    },
    {
     "name": "stdout",
     "output_type": "stream",
     "text": [
      "\n",
      "Epoch: 322\n"
     ]
    },
    {
     "data": {
      "application/vnd.jupyter.widget-view+json": {
       "model_id": "20c1a25fadfd4f31b486af6ed167668d",
       "version_major": 2,
       "version_minor": 0
      },
      "text/plain": [
       "Epoch: 322 Step:   0%|          | 0/17375 [00:00<?, ?it/s]"
      ]
     },
     "metadata": {},
     "output_type": "display_data"
    },
    {
     "name": "stdout",
     "output_type": "stream",
     "text": [
      "\n",
      "Epoch: 323\n"
     ]
    },
    {
     "data": {
      "application/vnd.jupyter.widget-view+json": {
       "model_id": "dd33f19a368c47a0a2a00f06a1977345",
       "version_major": 2,
       "version_minor": 0
      },
      "text/plain": [
       "Epoch: 323 Step:   0%|          | 0/17375 [00:00<?, ?it/s]"
      ]
     },
     "metadata": {},
     "output_type": "display_data"
    },
    {
     "name": "stdout",
     "output_type": "stream",
     "text": [
      "\n",
      "Epoch: 324\n"
     ]
    },
    {
     "data": {
      "application/vnd.jupyter.widget-view+json": {
       "model_id": "3ead89f495ce47b38ffd4e7154bcf179",
       "version_major": 2,
       "version_minor": 0
      },
      "text/plain": [
       "Epoch: 324 Step:   0%|          | 0/17375 [00:00<?, ?it/s]"
      ]
     },
     "metadata": {},
     "output_type": "display_data"
    },
    {
     "name": "stdout",
     "output_type": "stream",
     "text": [
      "\n",
      "Epoch: 325\n"
     ]
    },
    {
     "data": {
      "application/vnd.jupyter.widget-view+json": {
       "model_id": "30e3a0fb8045486ca670704e9ff636e4",
       "version_major": 2,
       "version_minor": 0
      },
      "text/plain": [
       "Epoch: 325 Step:   0%|          | 0/17375 [00:00<?, ?it/s]"
      ]
     },
     "metadata": {},
     "output_type": "display_data"
    },
    {
     "name": "stdout",
     "output_type": "stream",
     "text": [
      "\n",
      "Epoch: 326\n"
     ]
    },
    {
     "data": {
      "application/vnd.jupyter.widget-view+json": {
       "model_id": "308d969fabb449e79569e2bf44794c0a",
       "version_major": 2,
       "version_minor": 0
      },
      "text/plain": [
       "Epoch: 326 Step:   0%|          | 0/17375 [00:00<?, ?it/s]"
      ]
     },
     "metadata": {},
     "output_type": "display_data"
    },
    {
     "name": "stdout",
     "output_type": "stream",
     "text": [
      "\n",
      "Epoch: 327\n"
     ]
    },
    {
     "data": {
      "application/vnd.jupyter.widget-view+json": {
       "model_id": "32904e7433f64bf2977b92c80822e82b",
       "version_major": 2,
       "version_minor": 0
      },
      "text/plain": [
       "Epoch: 327 Step:   0%|          | 0/17375 [00:00<?, ?it/s]"
      ]
     },
     "metadata": {},
     "output_type": "display_data"
    },
    {
     "name": "stdout",
     "output_type": "stream",
     "text": [
      "\n",
      "Epoch: 328\n"
     ]
    },
    {
     "data": {
      "application/vnd.jupyter.widget-view+json": {
       "model_id": "77a18d256b5542cdb46a5011891ad102",
       "version_major": 2,
       "version_minor": 0
      },
      "text/plain": [
       "Epoch: 328 Step:   0%|          | 0/17375 [00:00<?, ?it/s]"
      ]
     },
     "metadata": {},
     "output_type": "display_data"
    },
    {
     "name": "stdout",
     "output_type": "stream",
     "text": [
      "\n",
      "Epoch: 329\n"
     ]
    },
    {
     "data": {
      "application/vnd.jupyter.widget-view+json": {
       "model_id": "874c1755ecad4d34b33c52cd6582f136",
       "version_major": 2,
       "version_minor": 0
      },
      "text/plain": [
       "Epoch: 329 Step:   0%|          | 0/17375 [00:00<?, ?it/s]"
      ]
     },
     "metadata": {},
     "output_type": "display_data"
    },
    {
     "name": "stdout",
     "output_type": "stream",
     "text": [
      "\n",
      "Epoch: 330\n"
     ]
    },
    {
     "data": {
      "application/vnd.jupyter.widget-view+json": {
       "model_id": "d58edc0391994fd7b893e7e945740348",
       "version_major": 2,
       "version_minor": 0
      },
      "text/plain": [
       "Epoch: 330 Step:   0%|          | 0/17375 [00:00<?, ?it/s]"
      ]
     },
     "metadata": {},
     "output_type": "display_data"
    },
    {
     "name": "stdout",
     "output_type": "stream",
     "text": [
      "\n",
      "Epoch: 331\n"
     ]
    },
    {
     "data": {
      "application/vnd.jupyter.widget-view+json": {
       "model_id": "acd14efb6c794c07b1be7e85e67561bf",
       "version_major": 2,
       "version_minor": 0
      },
      "text/plain": [
       "Epoch: 331 Step:   0%|          | 0/17375 [00:00<?, ?it/s]"
      ]
     },
     "metadata": {},
     "output_type": "display_data"
    },
    {
     "name": "stdout",
     "output_type": "stream",
     "text": [
      "\n",
      "Epoch: 332\n"
     ]
    },
    {
     "data": {
      "application/vnd.jupyter.widget-view+json": {
       "model_id": "fcb7cd10b9c5451f8b87f51887d41a9a",
       "version_major": 2,
       "version_minor": 0
      },
      "text/plain": [
       "Epoch: 332 Step:   0%|          | 0/17375 [00:00<?, ?it/s]"
      ]
     },
     "metadata": {},
     "output_type": "display_data"
    },
    {
     "name": "stdout",
     "output_type": "stream",
     "text": [
      "\n",
      "Epoch: 333\n"
     ]
    },
    {
     "data": {
      "application/vnd.jupyter.widget-view+json": {
       "model_id": "fc0b9daa7e184e3ca142e53356b2c3af",
       "version_major": 2,
       "version_minor": 0
      },
      "text/plain": [
       "Epoch: 333 Step:   0%|          | 0/17375 [00:00<?, ?it/s]"
      ]
     },
     "metadata": {},
     "output_type": "display_data"
    },
    {
     "name": "stdout",
     "output_type": "stream",
     "text": [
      "\n",
      "Epoch: 334\n"
     ]
    },
    {
     "data": {
      "application/vnd.jupyter.widget-view+json": {
       "model_id": "1ad33842212449a78d34977fbb0f1eed",
       "version_major": 2,
       "version_minor": 0
      },
      "text/plain": [
       "Epoch: 334 Step:   0%|          | 0/17375 [00:00<?, ?it/s]"
      ]
     },
     "metadata": {},
     "output_type": "display_data"
    },
    {
     "name": "stdout",
     "output_type": "stream",
     "text": [
      "\n",
      "Epoch: 335\n"
     ]
    },
    {
     "data": {
      "application/vnd.jupyter.widget-view+json": {
       "model_id": "f44adf4b00084cdeb54e772039d407a6",
       "version_major": 2,
       "version_minor": 0
      },
      "text/plain": [
       "Epoch: 335 Step:   0%|          | 0/17375 [00:00<?, ?it/s]"
      ]
     },
     "metadata": {},
     "output_type": "display_data"
    },
    {
     "name": "stdout",
     "output_type": "stream",
     "text": [
      "\n",
      "Epoch: 336\n"
     ]
    },
    {
     "data": {
      "application/vnd.jupyter.widget-view+json": {
       "model_id": "14e4e5c46e1943a8a471cf531d6f17c3",
       "version_major": 2,
       "version_minor": 0
      },
      "text/plain": [
       "Epoch: 336 Step:   0%|          | 0/17375 [00:00<?, ?it/s]"
      ]
     },
     "metadata": {},
     "output_type": "display_data"
    },
    {
     "name": "stdout",
     "output_type": "stream",
     "text": [
      "\n",
      "Epoch: 337\n"
     ]
    },
    {
     "data": {
      "application/vnd.jupyter.widget-view+json": {
       "model_id": "935b887438a144419546db2311d3f119",
       "version_major": 2,
       "version_minor": 0
      },
      "text/plain": [
       "Epoch: 337 Step:   0%|          | 0/17375 [00:00<?, ?it/s]"
      ]
     },
     "metadata": {},
     "output_type": "display_data"
    },
    {
     "name": "stdout",
     "output_type": "stream",
     "text": [
      "\n",
      "Epoch: 338\n"
     ]
    },
    {
     "data": {
      "application/vnd.jupyter.widget-view+json": {
       "model_id": "551149ba74c74a8c96a5c1b83a92d2bd",
       "version_major": 2,
       "version_minor": 0
      },
      "text/plain": [
       "Epoch: 338 Step:   0%|          | 0/17375 [00:00<?, ?it/s]"
      ]
     },
     "metadata": {},
     "output_type": "display_data"
    },
    {
     "name": "stdout",
     "output_type": "stream",
     "text": [
      "\n",
      "Epoch: 339\n"
     ]
    },
    {
     "data": {
      "application/vnd.jupyter.widget-view+json": {
       "model_id": "e222a7b811b44391b12c128167a70743",
       "version_major": 2,
       "version_minor": 0
      },
      "text/plain": [
       "Epoch: 339 Step:   0%|          | 0/17375 [00:00<?, ?it/s]"
      ]
     },
     "metadata": {},
     "output_type": "display_data"
    },
    {
     "name": "stdout",
     "output_type": "stream",
     "text": [
      "\n",
      "Epoch: 340\n"
     ]
    },
    {
     "data": {
      "application/vnd.jupyter.widget-view+json": {
       "model_id": "de5f8f4b79594082af53481fb71e5e0e",
       "version_major": 2,
       "version_minor": 0
      },
      "text/plain": [
       "Epoch: 340 Step:   0%|          | 0/17375 [00:00<?, ?it/s]"
      ]
     },
     "metadata": {},
     "output_type": "display_data"
    },
    {
     "name": "stdout",
     "output_type": "stream",
     "text": [
      "\n",
      "Epoch: 341\n"
     ]
    },
    {
     "data": {
      "application/vnd.jupyter.widget-view+json": {
       "model_id": "cb8304b4e7c9454ebc38efc752cb9679",
       "version_major": 2,
       "version_minor": 0
      },
      "text/plain": [
       "Epoch: 341 Step:   0%|          | 0/17375 [00:00<?, ?it/s]"
      ]
     },
     "metadata": {},
     "output_type": "display_data"
    },
    {
     "name": "stdout",
     "output_type": "stream",
     "text": [
      "\n",
      "Epoch: 342\n"
     ]
    },
    {
     "data": {
      "application/vnd.jupyter.widget-view+json": {
       "model_id": "ace3d8da19db40dc979685024dce9c04",
       "version_major": 2,
       "version_minor": 0
      },
      "text/plain": [
       "Epoch: 342 Step:   0%|          | 0/17375 [00:00<?, ?it/s]"
      ]
     },
     "metadata": {},
     "output_type": "display_data"
    },
    {
     "name": "stdout",
     "output_type": "stream",
     "text": [
      "\n",
      "Epoch: 343\n"
     ]
    },
    {
     "data": {
      "application/vnd.jupyter.widget-view+json": {
       "model_id": "4c865a3d7d9542829c362c0b698b6800",
       "version_major": 2,
       "version_minor": 0
      },
      "text/plain": [
       "Epoch: 343 Step:   0%|          | 0/17375 [00:00<?, ?it/s]"
      ]
     },
     "metadata": {},
     "output_type": "display_data"
    },
    {
     "name": "stdout",
     "output_type": "stream",
     "text": [
      "\n",
      "Epoch: 344\n"
     ]
    },
    {
     "data": {
      "application/vnd.jupyter.widget-view+json": {
       "model_id": "695f2c907b374ec78fd3ad12dbd5c8ec",
       "version_major": 2,
       "version_minor": 0
      },
      "text/plain": [
       "Epoch: 344 Step:   0%|          | 0/17375 [00:00<?, ?it/s]"
      ]
     },
     "metadata": {},
     "output_type": "display_data"
    },
    {
     "name": "stdout",
     "output_type": "stream",
     "text": [
      "\n",
      "Epoch: 345\n"
     ]
    },
    {
     "data": {
      "application/vnd.jupyter.widget-view+json": {
       "model_id": "ef9e6f356c1b44aeae58c51bcb5dc2e0",
       "version_major": 2,
       "version_minor": 0
      },
      "text/plain": [
       "Epoch: 345 Step:   0%|          | 0/17375 [00:00<?, ?it/s]"
      ]
     },
     "metadata": {},
     "output_type": "display_data"
    },
    {
     "name": "stdout",
     "output_type": "stream",
     "text": [
      "\n",
      "Epoch: 346\n"
     ]
    },
    {
     "data": {
      "application/vnd.jupyter.widget-view+json": {
       "model_id": "f5d01c4970084cb5acd6b1f05615df63",
       "version_major": 2,
       "version_minor": 0
      },
      "text/plain": [
       "Epoch: 346 Step:   0%|          | 0/17375 [00:00<?, ?it/s]"
      ]
     },
     "metadata": {},
     "output_type": "display_data"
    },
    {
     "name": "stdout",
     "output_type": "stream",
     "text": [
      "\n",
      "Epoch: 347\n"
     ]
    },
    {
     "data": {
      "application/vnd.jupyter.widget-view+json": {
       "model_id": "51b676c64a8a45fe9f58f5093ea23fc2",
       "version_major": 2,
       "version_minor": 0
      },
      "text/plain": [
       "Epoch: 347 Step:   0%|          | 0/17375 [00:00<?, ?it/s]"
      ]
     },
     "metadata": {},
     "output_type": "display_data"
    },
    {
     "name": "stdout",
     "output_type": "stream",
     "text": [
      "\n",
      "Epoch: 348\n"
     ]
    },
    {
     "data": {
      "application/vnd.jupyter.widget-view+json": {
       "model_id": "50dfe058fcf34bfca1ad2b2f1dce3466",
       "version_major": 2,
       "version_minor": 0
      },
      "text/plain": [
       "Epoch: 348 Step:   0%|          | 0/17375 [00:00<?, ?it/s]"
      ]
     },
     "metadata": {},
     "output_type": "display_data"
    },
    {
     "name": "stdout",
     "output_type": "stream",
     "text": [
      "\n",
      "Epoch: 349\n"
     ]
    },
    {
     "data": {
      "application/vnd.jupyter.widget-view+json": {
       "model_id": "2f9e795910164829a43a1543170edc9f",
       "version_major": 2,
       "version_minor": 0
      },
      "text/plain": [
       "Epoch: 349 Step:   0%|          | 0/17375 [00:00<?, ?it/s]"
      ]
     },
     "metadata": {},
     "output_type": "display_data"
    },
    {
     "name": "stdout",
     "output_type": "stream",
     "text": [
      "\n",
      "Epoch: 350\n"
     ]
    },
    {
     "data": {
      "application/vnd.jupyter.widget-view+json": {
       "model_id": "3a816077b254440884b12f1419ed0bff",
       "version_major": 2,
       "version_minor": 0
      },
      "text/plain": [
       "Epoch: 350 Step:   0%|          | 0/17375 [00:00<?, ?it/s]"
      ]
     },
     "metadata": {},
     "output_type": "display_data"
    },
    {
     "name": "stdout",
     "output_type": "stream",
     "text": [
      "\n",
      "Epoch: 351\n"
     ]
    },
    {
     "data": {
      "application/vnd.jupyter.widget-view+json": {
       "model_id": "04b84d9b411b4adfb533061b76fc9b55",
       "version_major": 2,
       "version_minor": 0
      },
      "text/plain": [
       "Epoch: 351 Step:   0%|          | 0/17375 [00:00<?, ?it/s]"
      ]
     },
     "metadata": {},
     "output_type": "display_data"
    },
    {
     "name": "stdout",
     "output_type": "stream",
     "text": [
      "\n",
      "Epoch: 352\n"
     ]
    },
    {
     "data": {
      "application/vnd.jupyter.widget-view+json": {
       "model_id": "f01aeb770562464285d34f21aa005f39",
       "version_major": 2,
       "version_minor": 0
      },
      "text/plain": [
       "Epoch: 352 Step:   0%|          | 0/17375 [00:00<?, ?it/s]"
      ]
     },
     "metadata": {},
     "output_type": "display_data"
    },
    {
     "name": "stdout",
     "output_type": "stream",
     "text": [
      "\n",
      "Epoch: 353\n"
     ]
    },
    {
     "data": {
      "application/vnd.jupyter.widget-view+json": {
       "model_id": "aead55d8b2de495c9abe5dd6ac073cbb",
       "version_major": 2,
       "version_minor": 0
      },
      "text/plain": [
       "Epoch: 353 Step:   0%|          | 0/17375 [00:00<?, ?it/s]"
      ]
     },
     "metadata": {},
     "output_type": "display_data"
    },
    {
     "name": "stdout",
     "output_type": "stream",
     "text": [
      "\n",
      "Epoch: 354\n"
     ]
    },
    {
     "data": {
      "application/vnd.jupyter.widget-view+json": {
       "model_id": "492e4587cca042ab9bb174770453142e",
       "version_major": 2,
       "version_minor": 0
      },
      "text/plain": [
       "Epoch: 354 Step:   0%|          | 0/17375 [00:00<?, ?it/s]"
      ]
     },
     "metadata": {},
     "output_type": "display_data"
    },
    {
     "name": "stdout",
     "output_type": "stream",
     "text": [
      "\n",
      "Epoch: 355\n"
     ]
    },
    {
     "data": {
      "application/vnd.jupyter.widget-view+json": {
       "model_id": "22b7514761774c338892f20816ec4938",
       "version_major": 2,
       "version_minor": 0
      },
      "text/plain": [
       "Epoch: 355 Step:   0%|          | 0/17375 [00:00<?, ?it/s]"
      ]
     },
     "metadata": {},
     "output_type": "display_data"
    },
    {
     "name": "stdout",
     "output_type": "stream",
     "text": [
      "\n",
      "Epoch: 356\n"
     ]
    },
    {
     "data": {
      "application/vnd.jupyter.widget-view+json": {
       "model_id": "dee8493ffa7140fcb3582ca56fd0327b",
       "version_major": 2,
       "version_minor": 0
      },
      "text/plain": [
       "Epoch: 356 Step:   0%|          | 0/17375 [00:00<?, ?it/s]"
      ]
     },
     "metadata": {},
     "output_type": "display_data"
    },
    {
     "name": "stdout",
     "output_type": "stream",
     "text": [
      "\n",
      "Epoch: 357\n"
     ]
    },
    {
     "data": {
      "application/vnd.jupyter.widget-view+json": {
       "model_id": "b8bd4ea1df1c4f0cadbba97915e6dc48",
       "version_major": 2,
       "version_minor": 0
      },
      "text/plain": [
       "Epoch: 357 Step:   0%|          | 0/17375 [00:00<?, ?it/s]"
      ]
     },
     "metadata": {},
     "output_type": "display_data"
    },
    {
     "name": "stdout",
     "output_type": "stream",
     "text": [
      "\n",
      "Epoch: 358\n"
     ]
    },
    {
     "data": {
      "application/vnd.jupyter.widget-view+json": {
       "model_id": "ae6480e637ef4974b8db4a9c973369c6",
       "version_major": 2,
       "version_minor": 0
      },
      "text/plain": [
       "Epoch: 358 Step:   0%|          | 0/17375 [00:00<?, ?it/s]"
      ]
     },
     "metadata": {},
     "output_type": "display_data"
    },
    {
     "name": "stdout",
     "output_type": "stream",
     "text": [
      "\n",
      "Epoch: 359\n"
     ]
    },
    {
     "data": {
      "application/vnd.jupyter.widget-view+json": {
       "model_id": "419a10d0fbbc4a28a3c09541b2f7685b",
       "version_major": 2,
       "version_minor": 0
      },
      "text/plain": [
       "Epoch: 359 Step:   0%|          | 0/17375 [00:00<?, ?it/s]"
      ]
     },
     "metadata": {},
     "output_type": "display_data"
    },
    {
     "name": "stdout",
     "output_type": "stream",
     "text": [
      "\n",
      "Epoch: 360\n"
     ]
    },
    {
     "data": {
      "application/vnd.jupyter.widget-view+json": {
       "model_id": "93a108c5b6d6443f89fbd08728852b64",
       "version_major": 2,
       "version_minor": 0
      },
      "text/plain": [
       "Epoch: 360 Step:   0%|          | 0/17375 [00:00<?, ?it/s]"
      ]
     },
     "metadata": {},
     "output_type": "display_data"
    },
    {
     "name": "stdout",
     "output_type": "stream",
     "text": [
      "\n",
      "Epoch: 361\n"
     ]
    },
    {
     "data": {
      "application/vnd.jupyter.widget-view+json": {
       "model_id": "5b0dad98b3904666859e744941a23d4a",
       "version_major": 2,
       "version_minor": 0
      },
      "text/plain": [
       "Epoch: 361 Step:   0%|          | 0/17375 [00:00<?, ?it/s]"
      ]
     },
     "metadata": {},
     "output_type": "display_data"
    },
    {
     "name": "stdout",
     "output_type": "stream",
     "text": [
      "\n",
      "Epoch: 362\n"
     ]
    },
    {
     "data": {
      "application/vnd.jupyter.widget-view+json": {
       "model_id": "c66c4345b06643efb775ce63cbdb8c7a",
       "version_major": 2,
       "version_minor": 0
      },
      "text/plain": [
       "Epoch: 362 Step:   0%|          | 0/17375 [00:00<?, ?it/s]"
      ]
     },
     "metadata": {},
     "output_type": "display_data"
    },
    {
     "name": "stdout",
     "output_type": "stream",
     "text": [
      "\n",
      "Epoch: 363\n"
     ]
    },
    {
     "data": {
      "application/vnd.jupyter.widget-view+json": {
       "model_id": "26dce756196a4edca37d3f54c30c4f90",
       "version_major": 2,
       "version_minor": 0
      },
      "text/plain": [
       "Epoch: 363 Step:   0%|          | 0/17375 [00:00<?, ?it/s]"
      ]
     },
     "metadata": {},
     "output_type": "display_data"
    },
    {
     "name": "stdout",
     "output_type": "stream",
     "text": [
      "\n",
      "Epoch: 364\n"
     ]
    },
    {
     "data": {
      "application/vnd.jupyter.widget-view+json": {
       "model_id": "e63b2763a1b5489e81078d9e2a7fe2c4",
       "version_major": 2,
       "version_minor": 0
      },
      "text/plain": [
       "Epoch: 364 Step:   0%|          | 0/17375 [00:00<?, ?it/s]"
      ]
     },
     "metadata": {},
     "output_type": "display_data"
    },
    {
     "name": "stdout",
     "output_type": "stream",
     "text": [
      "\n",
      "Epoch: 365\n"
     ]
    },
    {
     "data": {
      "application/vnd.jupyter.widget-view+json": {
       "model_id": "459fdf2699c743b3bfeb76a8c0ae99aa",
       "version_major": 2,
       "version_minor": 0
      },
      "text/plain": [
       "Epoch: 365 Step:   0%|          | 0/17375 [00:00<?, ?it/s]"
      ]
     },
     "metadata": {},
     "output_type": "display_data"
    },
    {
     "name": "stdout",
     "output_type": "stream",
     "text": [
      "\n",
      "Epoch: 366\n"
     ]
    },
    {
     "data": {
      "application/vnd.jupyter.widget-view+json": {
       "model_id": "435e25f3dc8946b38c52841cefe809df",
       "version_major": 2,
       "version_minor": 0
      },
      "text/plain": [
       "Epoch: 366 Step:   0%|          | 0/17375 [00:00<?, ?it/s]"
      ]
     },
     "metadata": {},
     "output_type": "display_data"
    },
    {
     "name": "stdout",
     "output_type": "stream",
     "text": [
      "\n",
      "Epoch: 367\n"
     ]
    },
    {
     "data": {
      "application/vnd.jupyter.widget-view+json": {
       "model_id": "64652954dd454551a0e8d082dfcde7ea",
       "version_major": 2,
       "version_minor": 0
      },
      "text/plain": [
       "Epoch: 367 Step:   0%|          | 0/17375 [00:00<?, ?it/s]"
      ]
     },
     "metadata": {},
     "output_type": "display_data"
    },
    {
     "name": "stdout",
     "output_type": "stream",
     "text": [
      "\n",
      "Epoch: 368\n"
     ]
    },
    {
     "data": {
      "application/vnd.jupyter.widget-view+json": {
       "model_id": "d5c17e9f4a8d49a497af760f5ac3b0b9",
       "version_major": 2,
       "version_minor": 0
      },
      "text/plain": [
       "Epoch: 368 Step:   0%|          | 0/17375 [00:00<?, ?it/s]"
      ]
     },
     "metadata": {},
     "output_type": "display_data"
    },
    {
     "name": "stdout",
     "output_type": "stream",
     "text": [
      "\n",
      "Epoch: 369\n"
     ]
    },
    {
     "data": {
      "application/vnd.jupyter.widget-view+json": {
       "model_id": "6548480604754636917e51f90b31c05b",
       "version_major": 2,
       "version_minor": 0
      },
      "text/plain": [
       "Epoch: 369 Step:   0%|          | 0/17375 [00:00<?, ?it/s]"
      ]
     },
     "metadata": {},
     "output_type": "display_data"
    },
    {
     "name": "stdout",
     "output_type": "stream",
     "text": [
      "\n",
      "Epoch: 370\n"
     ]
    },
    {
     "data": {
      "application/vnd.jupyter.widget-view+json": {
       "model_id": "268c16513f8e45538c6cdac3618c9a81",
       "version_major": 2,
       "version_minor": 0
      },
      "text/plain": [
       "Epoch: 370 Step:   0%|          | 0/17375 [00:00<?, ?it/s]"
      ]
     },
     "metadata": {},
     "output_type": "display_data"
    },
    {
     "name": "stdout",
     "output_type": "stream",
     "text": [
      "\n",
      "Epoch: 371\n"
     ]
    },
    {
     "data": {
      "application/vnd.jupyter.widget-view+json": {
       "model_id": "9ae4e3fd169e47e39f0e7469671b8b10",
       "version_major": 2,
       "version_minor": 0
      },
      "text/plain": [
       "Epoch: 371 Step:   0%|          | 0/17375 [00:00<?, ?it/s]"
      ]
     },
     "metadata": {},
     "output_type": "display_data"
    },
    {
     "name": "stdout",
     "output_type": "stream",
     "text": [
      "\n",
      "Epoch: 372\n"
     ]
    },
    {
     "data": {
      "application/vnd.jupyter.widget-view+json": {
       "model_id": "53f92344fbfa42d28ad4a6f33c3eb618",
       "version_major": 2,
       "version_minor": 0
      },
      "text/plain": [
       "Epoch: 372 Step:   0%|          | 0/17375 [00:00<?, ?it/s]"
      ]
     },
     "metadata": {},
     "output_type": "display_data"
    },
    {
     "name": "stdout",
     "output_type": "stream",
     "text": [
      "\n",
      "Epoch: 373\n"
     ]
    },
    {
     "data": {
      "application/vnd.jupyter.widget-view+json": {
       "model_id": "b062cba430334dcbaa97ebb0b563d9c1",
       "version_major": 2,
       "version_minor": 0
      },
      "text/plain": [
       "Epoch: 373 Step:   0%|          | 0/17375 [00:00<?, ?it/s]"
      ]
     },
     "metadata": {},
     "output_type": "display_data"
    },
    {
     "name": "stdout",
     "output_type": "stream",
     "text": [
      "\n",
      "Epoch: 374\n"
     ]
    },
    {
     "data": {
      "application/vnd.jupyter.widget-view+json": {
       "model_id": "84f9af4e72144a3898110d2cbefb8cf8",
       "version_major": 2,
       "version_minor": 0
      },
      "text/plain": [
       "Epoch: 374 Step:   0%|          | 0/17375 [00:00<?, ?it/s]"
      ]
     },
     "metadata": {},
     "output_type": "display_data"
    },
    {
     "name": "stdout",
     "output_type": "stream",
     "text": [
      "\n",
      "Epoch: 375\n"
     ]
    },
    {
     "data": {
      "application/vnd.jupyter.widget-view+json": {
       "model_id": "404645b4954d4f8fb4aaa5e3628c6bed",
       "version_major": 2,
       "version_minor": 0
      },
      "text/plain": [
       "Epoch: 375 Step:   0%|          | 0/17375 [00:00<?, ?it/s]"
      ]
     },
     "metadata": {},
     "output_type": "display_data"
    },
    {
     "name": "stdout",
     "output_type": "stream",
     "text": [
      "\n",
      "Epoch: 376\n"
     ]
    },
    {
     "data": {
      "application/vnd.jupyter.widget-view+json": {
       "model_id": "3115883a73d74597bfdb31fe36a009c9",
       "version_major": 2,
       "version_minor": 0
      },
      "text/plain": [
       "Epoch: 376 Step:   0%|          | 0/17375 [00:00<?, ?it/s]"
      ]
     },
     "metadata": {},
     "output_type": "display_data"
    },
    {
     "name": "stdout",
     "output_type": "stream",
     "text": [
      "\n",
      "Epoch: 377\n"
     ]
    },
    {
     "data": {
      "application/vnd.jupyter.widget-view+json": {
       "model_id": "b7b49ef18fcf48b7987a366c88d031fa",
       "version_major": 2,
       "version_minor": 0
      },
      "text/plain": [
       "Epoch: 377 Step:   0%|          | 0/17375 [00:00<?, ?it/s]"
      ]
     },
     "metadata": {},
     "output_type": "display_data"
    },
    {
     "name": "stdout",
     "output_type": "stream",
     "text": [
      "\n",
      "Epoch: 378\n"
     ]
    },
    {
     "data": {
      "application/vnd.jupyter.widget-view+json": {
       "model_id": "0735b826ddb544a9b1ed3b98030225f8",
       "version_major": 2,
       "version_minor": 0
      },
      "text/plain": [
       "Epoch: 378 Step:   0%|          | 0/17375 [00:00<?, ?it/s]"
      ]
     },
     "metadata": {},
     "output_type": "display_data"
    },
    {
     "name": "stdout",
     "output_type": "stream",
     "text": [
      "\n",
      "Epoch: 379\n"
     ]
    },
    {
     "data": {
      "application/vnd.jupyter.widget-view+json": {
       "model_id": "e17e08c999dc468b82f22c996dda3912",
       "version_major": 2,
       "version_minor": 0
      },
      "text/plain": [
       "Epoch: 379 Step:   0%|          | 0/17375 [00:00<?, ?it/s]"
      ]
     },
     "metadata": {},
     "output_type": "display_data"
    },
    {
     "name": "stdout",
     "output_type": "stream",
     "text": [
      "\n",
      "Epoch: 380\n"
     ]
    },
    {
     "data": {
      "application/vnd.jupyter.widget-view+json": {
       "model_id": "c722426a12be430ab8c262ee16152b9c",
       "version_major": 2,
       "version_minor": 0
      },
      "text/plain": [
       "Epoch: 380 Step:   0%|          | 0/17375 [00:00<?, ?it/s]"
      ]
     },
     "metadata": {},
     "output_type": "display_data"
    },
    {
     "name": "stdout",
     "output_type": "stream",
     "text": [
      "\n",
      "Epoch: 381\n"
     ]
    },
    {
     "data": {
      "application/vnd.jupyter.widget-view+json": {
       "model_id": "6644788c799d4dd99bb94fd4ce322348",
       "version_major": 2,
       "version_minor": 0
      },
      "text/plain": [
       "Epoch: 381 Step:   0%|          | 0/17375 [00:00<?, ?it/s]"
      ]
     },
     "metadata": {},
     "output_type": "display_data"
    },
    {
     "name": "stdout",
     "output_type": "stream",
     "text": [
      "\n",
      "Epoch: 382\n"
     ]
    },
    {
     "data": {
      "application/vnd.jupyter.widget-view+json": {
       "model_id": "000e7baa0587441e82017ebe52153160",
       "version_major": 2,
       "version_minor": 0
      },
      "text/plain": [
       "Epoch: 382 Step:   0%|          | 0/17375 [00:00<?, ?it/s]"
      ]
     },
     "metadata": {},
     "output_type": "display_data"
    },
    {
     "name": "stdout",
     "output_type": "stream",
     "text": [
      "\n",
      "Epoch: 383\n"
     ]
    },
    {
     "data": {
      "application/vnd.jupyter.widget-view+json": {
       "model_id": "1f1c1050a9c145b3848b3fbdcc0b480d",
       "version_major": 2,
       "version_minor": 0
      },
      "text/plain": [
       "Epoch: 383 Step:   0%|          | 0/17375 [00:00<?, ?it/s]"
      ]
     },
     "metadata": {},
     "output_type": "display_data"
    },
    {
     "name": "stdout",
     "output_type": "stream",
     "text": [
      "\n",
      "Epoch: 384\n"
     ]
    },
    {
     "data": {
      "application/vnd.jupyter.widget-view+json": {
       "model_id": "ee46e312c3ce4b799401a6790a6b58c5",
       "version_major": 2,
       "version_minor": 0
      },
      "text/plain": [
       "Epoch: 384 Step:   0%|          | 0/17375 [00:00<?, ?it/s]"
      ]
     },
     "metadata": {},
     "output_type": "display_data"
    },
    {
     "name": "stdout",
     "output_type": "stream",
     "text": [
      "\n",
      "Epoch: 385\n"
     ]
    },
    {
     "data": {
      "application/vnd.jupyter.widget-view+json": {
       "model_id": "b3cee9fdebf4435d912d6c8866bcefc0",
       "version_major": 2,
       "version_minor": 0
      },
      "text/plain": [
       "Epoch: 385 Step:   0%|          | 0/17375 [00:00<?, ?it/s]"
      ]
     },
     "metadata": {},
     "output_type": "display_data"
    },
    {
     "name": "stdout",
     "output_type": "stream",
     "text": [
      "\n",
      "Epoch: 386\n"
     ]
    },
    {
     "data": {
      "application/vnd.jupyter.widget-view+json": {
       "model_id": "768b2030d2084eb5833ac8a864d6e070",
       "version_major": 2,
       "version_minor": 0
      },
      "text/plain": [
       "Epoch: 386 Step:   0%|          | 0/17375 [00:00<?, ?it/s]"
      ]
     },
     "metadata": {},
     "output_type": "display_data"
    },
    {
     "name": "stdout",
     "output_type": "stream",
     "text": [
      "\n",
      "Epoch: 387\n"
     ]
    },
    {
     "data": {
      "application/vnd.jupyter.widget-view+json": {
       "model_id": "71c66db10b2343d6a69d5590381534bd",
       "version_major": 2,
       "version_minor": 0
      },
      "text/plain": [
       "Epoch: 387 Step:   0%|          | 0/17375 [00:00<?, ?it/s]"
      ]
     },
     "metadata": {},
     "output_type": "display_data"
    },
    {
     "name": "stdout",
     "output_type": "stream",
     "text": [
      "\n",
      "Epoch: 388\n"
     ]
    },
    {
     "data": {
      "application/vnd.jupyter.widget-view+json": {
       "model_id": "7affa6959bfe4e3eaca17420f4592f76",
       "version_major": 2,
       "version_minor": 0
      },
      "text/plain": [
       "Epoch: 388 Step:   0%|          | 0/17375 [00:00<?, ?it/s]"
      ]
     },
     "metadata": {},
     "output_type": "display_data"
    },
    {
     "name": "stdout",
     "output_type": "stream",
     "text": [
      "\n",
      "Epoch: 389\n"
     ]
    },
    {
     "data": {
      "application/vnd.jupyter.widget-view+json": {
       "model_id": "84cc509f6fdc4003a14c525f24892c58",
       "version_major": 2,
       "version_minor": 0
      },
      "text/plain": [
       "Epoch: 389 Step:   0%|          | 0/17375 [00:00<?, ?it/s]"
      ]
     },
     "metadata": {},
     "output_type": "display_data"
    },
    {
     "name": "stdout",
     "output_type": "stream",
     "text": [
      "\n",
      "Epoch: 390\n"
     ]
    },
    {
     "data": {
      "application/vnd.jupyter.widget-view+json": {
       "model_id": "a528d9e8382847a78bee8755ed9f212f",
       "version_major": 2,
       "version_minor": 0
      },
      "text/plain": [
       "Epoch: 390 Step:   0%|          | 0/17375 [00:00<?, ?it/s]"
      ]
     },
     "metadata": {},
     "output_type": "display_data"
    },
    {
     "name": "stdout",
     "output_type": "stream",
     "text": [
      "\n",
      "Epoch: 391\n"
     ]
    },
    {
     "data": {
      "application/vnd.jupyter.widget-view+json": {
       "model_id": "b57512f6591d478bb053813d0681de1d",
       "version_major": 2,
       "version_minor": 0
      },
      "text/plain": [
       "Epoch: 391 Step:   0%|          | 0/17375 [00:00<?, ?it/s]"
      ]
     },
     "metadata": {},
     "output_type": "display_data"
    },
    {
     "name": "stdout",
     "output_type": "stream",
     "text": [
      "\n",
      "Epoch: 392\n"
     ]
    },
    {
     "data": {
      "application/vnd.jupyter.widget-view+json": {
       "model_id": "6ea4b9007af942f88968c68e1585066b",
       "version_major": 2,
       "version_minor": 0
      },
      "text/plain": [
       "Epoch: 392 Step:   0%|          | 0/17375 [00:00<?, ?it/s]"
      ]
     },
     "metadata": {},
     "output_type": "display_data"
    },
    {
     "name": "stdout",
     "output_type": "stream",
     "text": [
      "\n",
      "Epoch: 393\n"
     ]
    },
    {
     "data": {
      "application/vnd.jupyter.widget-view+json": {
       "model_id": "244f71e911d743128a127ea1d90b6223",
       "version_major": 2,
       "version_minor": 0
      },
      "text/plain": [
       "Epoch: 393 Step:   0%|          | 0/17375 [00:00<?, ?it/s]"
      ]
     },
     "metadata": {},
     "output_type": "display_data"
    },
    {
     "name": "stdout",
     "output_type": "stream",
     "text": [
      "\n",
      "Epoch: 394\n"
     ]
    },
    {
     "data": {
      "application/vnd.jupyter.widget-view+json": {
       "model_id": "95d5366b5f6840f99d4dd7a27c79f6cb",
       "version_major": 2,
       "version_minor": 0
      },
      "text/plain": [
       "Epoch: 394 Step:   0%|          | 0/17375 [00:00<?, ?it/s]"
      ]
     },
     "metadata": {},
     "output_type": "display_data"
    },
    {
     "name": "stdout",
     "output_type": "stream",
     "text": [
      "\n",
      "Epoch: 395\n"
     ]
    },
    {
     "data": {
      "application/vnd.jupyter.widget-view+json": {
       "model_id": "3177e9553f86472194ec2afe4789235b",
       "version_major": 2,
       "version_minor": 0
      },
      "text/plain": [
       "Epoch: 395 Step:   0%|          | 0/17375 [00:00<?, ?it/s]"
      ]
     },
     "metadata": {},
     "output_type": "display_data"
    },
    {
     "name": "stdout",
     "output_type": "stream",
     "text": [
      "\n",
      "Epoch: 396\n"
     ]
    },
    {
     "data": {
      "application/vnd.jupyter.widget-view+json": {
       "model_id": "bd83fd603a684f54aeed46043df317b0",
       "version_major": 2,
       "version_minor": 0
      },
      "text/plain": [
       "Epoch: 396 Step:   0%|          | 0/17375 [00:00<?, ?it/s]"
      ]
     },
     "metadata": {},
     "output_type": "display_data"
    },
    {
     "name": "stdout",
     "output_type": "stream",
     "text": [
      "\n",
      "Epoch: 397\n"
     ]
    },
    {
     "data": {
      "application/vnd.jupyter.widget-view+json": {
       "model_id": "dd74067389d3493d8dc8d6ee1c5b54ea",
       "version_major": 2,
       "version_minor": 0
      },
      "text/plain": [
       "Epoch: 397 Step:   0%|          | 0/17375 [00:00<?, ?it/s]"
      ]
     },
     "metadata": {},
     "output_type": "display_data"
    },
    {
     "name": "stdout",
     "output_type": "stream",
     "text": [
      "\n",
      "Epoch: 398\n"
     ]
    },
    {
     "data": {
      "application/vnd.jupyter.widget-view+json": {
       "model_id": "8251140c01f64b28b172fe1ab476251a",
       "version_major": 2,
       "version_minor": 0
      },
      "text/plain": [
       "Epoch: 398 Step:   0%|          | 0/17375 [00:00<?, ?it/s]"
      ]
     },
     "metadata": {},
     "output_type": "display_data"
    },
    {
     "name": "stdout",
     "output_type": "stream",
     "text": [
      "\n",
      "Epoch: 399\n"
     ]
    },
    {
     "data": {
      "application/vnd.jupyter.widget-view+json": {
       "model_id": "7370a5c85d6a47db9308b9512d1aa9e9",
       "version_major": 2,
       "version_minor": 0
      },
      "text/plain": [
       "Epoch: 399 Step:   0%|          | 0/17375 [00:00<?, ?it/s]"
      ]
     },
     "metadata": {},
     "output_type": "display_data"
    },
    {
     "name": "stdout",
     "output_type": "stream",
     "text": [
      "\n",
      "Epoch: 400\n"
     ]
    },
    {
     "data": {
      "application/vnd.jupyter.widget-view+json": {
       "model_id": "80be67c46a1843f688e3680d3dcc761e",
       "version_major": 2,
       "version_minor": 0
      },
      "text/plain": [
       "Epoch: 400 Step:   0%|          | 0/17375 [00:00<?, ?it/s]"
      ]
     },
     "metadata": {},
     "output_type": "display_data"
    },
    {
     "name": "stdout",
     "output_type": "stream",
     "text": [
      "\n",
      "Epoch: 401\n"
     ]
    },
    {
     "data": {
      "application/vnd.jupyter.widget-view+json": {
       "model_id": "175c11e260c3472992171ceb5aeeed1e",
       "version_major": 2,
       "version_minor": 0
      },
      "text/plain": [
       "Epoch: 401 Step:   0%|          | 0/17375 [00:00<?, ?it/s]"
      ]
     },
     "metadata": {},
     "output_type": "display_data"
    },
    {
     "name": "stdout",
     "output_type": "stream",
     "text": [
      "\n",
      "Epoch: 402\n"
     ]
    },
    {
     "data": {
      "application/vnd.jupyter.widget-view+json": {
       "model_id": "9b87e23466ab4495bbe46d97433d00a4",
       "version_major": 2,
       "version_minor": 0
      },
      "text/plain": [
       "Epoch: 402 Step:   0%|          | 0/17375 [00:00<?, ?it/s]"
      ]
     },
     "metadata": {},
     "output_type": "display_data"
    },
    {
     "name": "stdout",
     "output_type": "stream",
     "text": [
      "\n",
      "Epoch: 403\n"
     ]
    },
    {
     "data": {
      "application/vnd.jupyter.widget-view+json": {
       "model_id": "c31830c86f354099b9b1ad5d3ce27625",
       "version_major": 2,
       "version_minor": 0
      },
      "text/plain": [
       "Epoch: 403 Step:   0%|          | 0/17375 [00:00<?, ?it/s]"
      ]
     },
     "metadata": {},
     "output_type": "display_data"
    },
    {
     "name": "stdout",
     "output_type": "stream",
     "text": [
      "\n",
      "Epoch: 404\n"
     ]
    },
    {
     "data": {
      "application/vnd.jupyter.widget-view+json": {
       "model_id": "acadb82d5e9e445d944cf86d18daa8cd",
       "version_major": 2,
       "version_minor": 0
      },
      "text/plain": [
       "Epoch: 404 Step:   0%|          | 0/17375 [00:00<?, ?it/s]"
      ]
     },
     "metadata": {},
     "output_type": "display_data"
    },
    {
     "name": "stdout",
     "output_type": "stream",
     "text": [
      "\n",
      "Epoch: 405\n"
     ]
    },
    {
     "data": {
      "application/vnd.jupyter.widget-view+json": {
       "model_id": "4dc9faa6496648cbbf8aa6df31fe2ce2",
       "version_major": 2,
       "version_minor": 0
      },
      "text/plain": [
       "Epoch: 405 Step:   0%|          | 0/17375 [00:00<?, ?it/s]"
      ]
     },
     "metadata": {},
     "output_type": "display_data"
    },
    {
     "name": "stdout",
     "output_type": "stream",
     "text": [
      "\n",
      "Epoch: 406\n"
     ]
    },
    {
     "data": {
      "application/vnd.jupyter.widget-view+json": {
       "model_id": "0f4e461725224c6fa91a866419b2dc44",
       "version_major": 2,
       "version_minor": 0
      },
      "text/plain": [
       "Epoch: 406 Step:   0%|          | 0/17375 [00:00<?, ?it/s]"
      ]
     },
     "metadata": {},
     "output_type": "display_data"
    },
    {
     "name": "stdout",
     "output_type": "stream",
     "text": [
      "\n",
      "Epoch: 407\n"
     ]
    },
    {
     "data": {
      "application/vnd.jupyter.widget-view+json": {
       "model_id": "04e2bada82124689acf907ef30965cec",
       "version_major": 2,
       "version_minor": 0
      },
      "text/plain": [
       "Epoch: 407 Step:   0%|          | 0/17375 [00:00<?, ?it/s]"
      ]
     },
     "metadata": {},
     "output_type": "display_data"
    },
    {
     "name": "stdout",
     "output_type": "stream",
     "text": [
      "\n",
      "Epoch: 408\n"
     ]
    },
    {
     "data": {
      "application/vnd.jupyter.widget-view+json": {
       "model_id": "3ca7597047b74bebb84d72623ae1e437",
       "version_major": 2,
       "version_minor": 0
      },
      "text/plain": [
       "Epoch: 408 Step:   0%|          | 0/17375 [00:00<?, ?it/s]"
      ]
     },
     "metadata": {},
     "output_type": "display_data"
    },
    {
     "name": "stdout",
     "output_type": "stream",
     "text": [
      "\n",
      "Epoch: 409\n"
     ]
    },
    {
     "data": {
      "application/vnd.jupyter.widget-view+json": {
       "model_id": "b46a5b35db684cfaadd9355e9ae27442",
       "version_major": 2,
       "version_minor": 0
      },
      "text/plain": [
       "Epoch: 409 Step:   0%|          | 0/17375 [00:00<?, ?it/s]"
      ]
     },
     "metadata": {},
     "output_type": "display_data"
    },
    {
     "name": "stdout",
     "output_type": "stream",
     "text": [
      "\n",
      "Epoch: 410\n"
     ]
    },
    {
     "data": {
      "application/vnd.jupyter.widget-view+json": {
       "model_id": "4ec32f23573445c194767145de8ea004",
       "version_major": 2,
       "version_minor": 0
      },
      "text/plain": [
       "Epoch: 410 Step:   0%|          | 0/17375 [00:00<?, ?it/s]"
      ]
     },
     "metadata": {},
     "output_type": "display_data"
    },
    {
     "name": "stdout",
     "output_type": "stream",
     "text": [
      "\n",
      "Epoch: 411\n"
     ]
    },
    {
     "data": {
      "application/vnd.jupyter.widget-view+json": {
       "model_id": "8bd1c67103a7468eb5663dfb920b251b",
       "version_major": 2,
       "version_minor": 0
      },
      "text/plain": [
       "Epoch: 411 Step:   0%|          | 0/17375 [00:00<?, ?it/s]"
      ]
     },
     "metadata": {},
     "output_type": "display_data"
    },
    {
     "name": "stdout",
     "output_type": "stream",
     "text": [
      "\n",
      "Epoch: 412\n"
     ]
    },
    {
     "data": {
      "application/vnd.jupyter.widget-view+json": {
       "model_id": "fae4e5afcb624644a94c921a7dbaa1bb",
       "version_major": 2,
       "version_minor": 0
      },
      "text/plain": [
       "Epoch: 412 Step:   0%|          | 0/17375 [00:00<?, ?it/s]"
      ]
     },
     "metadata": {},
     "output_type": "display_data"
    },
    {
     "name": "stdout",
     "output_type": "stream",
     "text": [
      "\n",
      "Epoch: 413\n"
     ]
    },
    {
     "data": {
      "application/vnd.jupyter.widget-view+json": {
       "model_id": "b69169f8035b4aaa96532a88320a0b4a",
       "version_major": 2,
       "version_minor": 0
      },
      "text/plain": [
       "Epoch: 413 Step:   0%|          | 0/17375 [00:00<?, ?it/s]"
      ]
     },
     "metadata": {},
     "output_type": "display_data"
    },
    {
     "name": "stdout",
     "output_type": "stream",
     "text": [
      "\n",
      "Epoch: 414\n"
     ]
    },
    {
     "data": {
      "application/vnd.jupyter.widget-view+json": {
       "model_id": "82db04b819734270b122d93e1de641dd",
       "version_major": 2,
       "version_minor": 0
      },
      "text/plain": [
       "Epoch: 414 Step:   0%|          | 0/17375 [00:00<?, ?it/s]"
      ]
     },
     "metadata": {},
     "output_type": "display_data"
    },
    {
     "name": "stdout",
     "output_type": "stream",
     "text": [
      "\n",
      "Epoch: 415\n"
     ]
    },
    {
     "data": {
      "application/vnd.jupyter.widget-view+json": {
       "model_id": "102de848ac1543559a661f8dddbe21f8",
       "version_major": 2,
       "version_minor": 0
      },
      "text/plain": [
       "Epoch: 415 Step:   0%|          | 0/17375 [00:00<?, ?it/s]"
      ]
     },
     "metadata": {},
     "output_type": "display_data"
    },
    {
     "name": "stdout",
     "output_type": "stream",
     "text": [
      "\n",
      "Epoch: 416\n"
     ]
    },
    {
     "data": {
      "application/vnd.jupyter.widget-view+json": {
       "model_id": "0018c159f67349ad90376674cfc924ce",
       "version_major": 2,
       "version_minor": 0
      },
      "text/plain": [
       "Epoch: 416 Step:   0%|          | 0/17375 [00:00<?, ?it/s]"
      ]
     },
     "metadata": {},
     "output_type": "display_data"
    },
    {
     "name": "stdout",
     "output_type": "stream",
     "text": [
      "\n",
      "Epoch: 417\n"
     ]
    },
    {
     "data": {
      "application/vnd.jupyter.widget-view+json": {
       "model_id": "06dec1b788d544a5b9dd1e3d4964a168",
       "version_major": 2,
       "version_minor": 0
      },
      "text/plain": [
       "Epoch: 417 Step:   0%|          | 0/17375 [00:00<?, ?it/s]"
      ]
     },
     "metadata": {},
     "output_type": "display_data"
    },
    {
     "name": "stdout",
     "output_type": "stream",
     "text": [
      "\n",
      "Epoch: 418\n"
     ]
    },
    {
     "data": {
      "application/vnd.jupyter.widget-view+json": {
       "model_id": "f9db58a18a824284a69d62747027050a",
       "version_major": 2,
       "version_minor": 0
      },
      "text/plain": [
       "Epoch: 418 Step:   0%|          | 0/17375 [00:00<?, ?it/s]"
      ]
     },
     "metadata": {},
     "output_type": "display_data"
    },
    {
     "name": "stdout",
     "output_type": "stream",
     "text": [
      "\n",
      "Epoch: 419\n"
     ]
    },
    {
     "data": {
      "application/vnd.jupyter.widget-view+json": {
       "model_id": "96d2222803d34c0f98c33d710a1d401a",
       "version_major": 2,
       "version_minor": 0
      },
      "text/plain": [
       "Epoch: 419 Step:   0%|          | 0/17375 [00:00<?, ?it/s]"
      ]
     },
     "metadata": {},
     "output_type": "display_data"
    },
    {
     "name": "stdout",
     "output_type": "stream",
     "text": [
      "\n",
      "Epoch: 420\n"
     ]
    },
    {
     "data": {
      "application/vnd.jupyter.widget-view+json": {
       "model_id": "9d78f3263f4545e1bf477cc87fc1f3a6",
       "version_major": 2,
       "version_minor": 0
      },
      "text/plain": [
       "Epoch: 420 Step:   0%|          | 0/17375 [00:00<?, ?it/s]"
      ]
     },
     "metadata": {},
     "output_type": "display_data"
    },
    {
     "name": "stdout",
     "output_type": "stream",
     "text": [
      "\n",
      "Epoch: 421\n"
     ]
    },
    {
     "data": {
      "application/vnd.jupyter.widget-view+json": {
       "model_id": "3ef9670f4919441981b55f759fa919d1",
       "version_major": 2,
       "version_minor": 0
      },
      "text/plain": [
       "Epoch: 421 Step:   0%|          | 0/17375 [00:00<?, ?it/s]"
      ]
     },
     "metadata": {},
     "output_type": "display_data"
    },
    {
     "name": "stdout",
     "output_type": "stream",
     "text": [
      "\n",
      "Epoch: 422\n"
     ]
    },
    {
     "data": {
      "application/vnd.jupyter.widget-view+json": {
       "model_id": "c8aa5572e1c743fda5b3ac5b2734e88c",
       "version_major": 2,
       "version_minor": 0
      },
      "text/plain": [
       "Epoch: 422 Step:   0%|          | 0/17375 [00:00<?, ?it/s]"
      ]
     },
     "metadata": {},
     "output_type": "display_data"
    },
    {
     "name": "stdout",
     "output_type": "stream",
     "text": [
      "\n",
      "Epoch: 423\n"
     ]
    },
    {
     "data": {
      "application/vnd.jupyter.widget-view+json": {
       "model_id": "44f12ad369bf4e3586928197ef6dc962",
       "version_major": 2,
       "version_minor": 0
      },
      "text/plain": [
       "Epoch: 423 Step:   0%|          | 0/17375 [00:00<?, ?it/s]"
      ]
     },
     "metadata": {},
     "output_type": "display_data"
    },
    {
     "name": "stdout",
     "output_type": "stream",
     "text": [
      "\n",
      "Epoch: 424\n"
     ]
    },
    {
     "data": {
      "application/vnd.jupyter.widget-view+json": {
       "model_id": "f0188cb284d94a269b652d34005db9d7",
       "version_major": 2,
       "version_minor": 0
      },
      "text/plain": [
       "Epoch: 424 Step:   0%|          | 0/17375 [00:00<?, ?it/s]"
      ]
     },
     "metadata": {},
     "output_type": "display_data"
    },
    {
     "name": "stdout",
     "output_type": "stream",
     "text": [
      "\n",
      "Epoch: 425\n"
     ]
    },
    {
     "data": {
      "application/vnd.jupyter.widget-view+json": {
       "model_id": "0d0f03e09c014b0ca231690f81a7a724",
       "version_major": 2,
       "version_minor": 0
      },
      "text/plain": [
       "Epoch: 425 Step:   0%|          | 0/17375 [00:00<?, ?it/s]"
      ]
     },
     "metadata": {},
     "output_type": "display_data"
    },
    {
     "name": "stdout",
     "output_type": "stream",
     "text": [
      "\n",
      "Epoch: 426\n"
     ]
    },
    {
     "data": {
      "application/vnd.jupyter.widget-view+json": {
       "model_id": "d881933ddad046dcb9e2968a330b90cb",
       "version_major": 2,
       "version_minor": 0
      },
      "text/plain": [
       "Epoch: 426 Step:   0%|          | 0/17375 [00:00<?, ?it/s]"
      ]
     },
     "metadata": {},
     "output_type": "display_data"
    },
    {
     "name": "stdout",
     "output_type": "stream",
     "text": [
      "\n",
      "Epoch: 427\n"
     ]
    },
    {
     "data": {
      "application/vnd.jupyter.widget-view+json": {
       "model_id": "0b1f261997504e238426540f966fa285",
       "version_major": 2,
       "version_minor": 0
      },
      "text/plain": [
       "Epoch: 427 Step:   0%|          | 0/17375 [00:00<?, ?it/s]"
      ]
     },
     "metadata": {},
     "output_type": "display_data"
    },
    {
     "name": "stdout",
     "output_type": "stream",
     "text": [
      "\n",
      "Epoch: 428\n"
     ]
    },
    {
     "data": {
      "application/vnd.jupyter.widget-view+json": {
       "model_id": "ad0d2f2b16334df1ad81887273516ff5",
       "version_major": 2,
       "version_minor": 0
      },
      "text/plain": [
       "Epoch: 428 Step:   0%|          | 0/17375 [00:00<?, ?it/s]"
      ]
     },
     "metadata": {},
     "output_type": "display_data"
    },
    {
     "name": "stdout",
     "output_type": "stream",
     "text": [
      "\n",
      "Epoch: 429\n"
     ]
    },
    {
     "data": {
      "application/vnd.jupyter.widget-view+json": {
       "model_id": "8b847d5e9d9d480fb7d8f7cdf52feb1a",
       "version_major": 2,
       "version_minor": 0
      },
      "text/plain": [
       "Epoch: 429 Step:   0%|          | 0/17375 [00:00<?, ?it/s]"
      ]
     },
     "metadata": {},
     "output_type": "display_data"
    },
    {
     "name": "stdout",
     "output_type": "stream",
     "text": [
      "\n",
      "Epoch: 430\n"
     ]
    },
    {
     "data": {
      "application/vnd.jupyter.widget-view+json": {
       "model_id": "2808f21c185f4e7590838b6dd44a2668",
       "version_major": 2,
       "version_minor": 0
      },
      "text/plain": [
       "Epoch: 430 Step:   0%|          | 0/17375 [00:00<?, ?it/s]"
      ]
     },
     "metadata": {},
     "output_type": "display_data"
    },
    {
     "name": "stdout",
     "output_type": "stream",
     "text": [
      "\n",
      "Epoch: 431\n"
     ]
    },
    {
     "data": {
      "application/vnd.jupyter.widget-view+json": {
       "model_id": "7b86867a26f84200ae10c77f61c2d390",
       "version_major": 2,
       "version_minor": 0
      },
      "text/plain": [
       "Epoch: 431 Step:   0%|          | 0/17375 [00:00<?, ?it/s]"
      ]
     },
     "metadata": {},
     "output_type": "display_data"
    },
    {
     "name": "stdout",
     "output_type": "stream",
     "text": [
      "\n",
      "Epoch: 432\n"
     ]
    },
    {
     "data": {
      "application/vnd.jupyter.widget-view+json": {
       "model_id": "e37493544dab42198a4dccd2b2cf9178",
       "version_major": 2,
       "version_minor": 0
      },
      "text/plain": [
       "Epoch: 432 Step:   0%|          | 0/17375 [00:00<?, ?it/s]"
      ]
     },
     "metadata": {},
     "output_type": "display_data"
    },
    {
     "name": "stdout",
     "output_type": "stream",
     "text": [
      "\n",
      "Epoch: 433\n"
     ]
    },
    {
     "data": {
      "application/vnd.jupyter.widget-view+json": {
       "model_id": "d064ace62b194d7c9ed17175a9f79aa6",
       "version_major": 2,
       "version_minor": 0
      },
      "text/plain": [
       "Epoch: 433 Step:   0%|          | 0/17375 [00:00<?, ?it/s]"
      ]
     },
     "metadata": {},
     "output_type": "display_data"
    },
    {
     "name": "stdout",
     "output_type": "stream",
     "text": [
      "\n",
      "Epoch: 434\n"
     ]
    },
    {
     "data": {
      "application/vnd.jupyter.widget-view+json": {
       "model_id": "5ec79a918cf44cada0316e1d9c550be0",
       "version_major": 2,
       "version_minor": 0
      },
      "text/plain": [
       "Epoch: 434 Step:   0%|          | 0/17375 [00:00<?, ?it/s]"
      ]
     },
     "metadata": {},
     "output_type": "display_data"
    },
    {
     "name": "stdout",
     "output_type": "stream",
     "text": [
      "\n",
      "Epoch: 435\n"
     ]
    },
    {
     "data": {
      "application/vnd.jupyter.widget-view+json": {
       "model_id": "8e6d12a852db4036b617ce8eaff16426",
       "version_major": 2,
       "version_minor": 0
      },
      "text/plain": [
       "Epoch: 435 Step:   0%|          | 0/17375 [00:00<?, ?it/s]"
      ]
     },
     "metadata": {},
     "output_type": "display_data"
    },
    {
     "name": "stdout",
     "output_type": "stream",
     "text": [
      "\n",
      "Epoch: 436\n"
     ]
    },
    {
     "data": {
      "application/vnd.jupyter.widget-view+json": {
       "model_id": "8b9e7d8949064e0bb1d14eb5e0527aef",
       "version_major": 2,
       "version_minor": 0
      },
      "text/plain": [
       "Epoch: 436 Step:   0%|          | 0/17375 [00:00<?, ?it/s]"
      ]
     },
     "metadata": {},
     "output_type": "display_data"
    },
    {
     "name": "stdout",
     "output_type": "stream",
     "text": [
      "\n",
      "Epoch: 437\n"
     ]
    },
    {
     "data": {
      "application/vnd.jupyter.widget-view+json": {
       "model_id": "30e88ce1e1184c22921b7af5a2622c34",
       "version_major": 2,
       "version_minor": 0
      },
      "text/plain": [
       "Epoch: 437 Step:   0%|          | 0/17375 [00:00<?, ?it/s]"
      ]
     },
     "metadata": {},
     "output_type": "display_data"
    },
    {
     "name": "stdout",
     "output_type": "stream",
     "text": [
      "\n",
      "Epoch: 438\n"
     ]
    },
    {
     "data": {
      "application/vnd.jupyter.widget-view+json": {
       "model_id": "5f5251181b9c470cbfc1c9a2db92a8e4",
       "version_major": 2,
       "version_minor": 0
      },
      "text/plain": [
       "Epoch: 438 Step:   0%|          | 0/17375 [00:00<?, ?it/s]"
      ]
     },
     "metadata": {},
     "output_type": "display_data"
    },
    {
     "name": "stdout",
     "output_type": "stream",
     "text": [
      "\n",
      "Epoch: 439\n"
     ]
    },
    {
     "data": {
      "application/vnd.jupyter.widget-view+json": {
       "model_id": "d79d2847266e49b59bf37ede62f97646",
       "version_major": 2,
       "version_minor": 0
      },
      "text/plain": [
       "Epoch: 439 Step:   0%|          | 0/17375 [00:00<?, ?it/s]"
      ]
     },
     "metadata": {},
     "output_type": "display_data"
    },
    {
     "name": "stdout",
     "output_type": "stream",
     "text": [
      "\n",
      "Epoch: 440\n"
     ]
    },
    {
     "data": {
      "application/vnd.jupyter.widget-view+json": {
       "model_id": "39b11f50000c45a781baf127b5dbec98",
       "version_major": 2,
       "version_minor": 0
      },
      "text/plain": [
       "Epoch: 440 Step:   0%|          | 0/17375 [00:00<?, ?it/s]"
      ]
     },
     "metadata": {},
     "output_type": "display_data"
    },
    {
     "name": "stdout",
     "output_type": "stream",
     "text": [
      "\n",
      "Epoch: 441\n"
     ]
    },
    {
     "data": {
      "application/vnd.jupyter.widget-view+json": {
       "model_id": "c791bbed800c4af39215d72f2f8df244",
       "version_major": 2,
       "version_minor": 0
      },
      "text/plain": [
       "Epoch: 441 Step:   0%|          | 0/17375 [00:00<?, ?it/s]"
      ]
     },
     "metadata": {},
     "output_type": "display_data"
    },
    {
     "name": "stdout",
     "output_type": "stream",
     "text": [
      "\n",
      "Epoch: 442\n"
     ]
    },
    {
     "data": {
      "application/vnd.jupyter.widget-view+json": {
       "model_id": "12f4459fa183487a80015beaeebcc4c6",
       "version_major": 2,
       "version_minor": 0
      },
      "text/plain": [
       "Epoch: 442 Step:   0%|          | 0/17375 [00:00<?, ?it/s]"
      ]
     },
     "metadata": {},
     "output_type": "display_data"
    },
    {
     "name": "stdout",
     "output_type": "stream",
     "text": [
      "\n",
      "Epoch: 443\n"
     ]
    },
    {
     "data": {
      "application/vnd.jupyter.widget-view+json": {
       "model_id": "056c95b6285549c98c48457335da7267",
       "version_major": 2,
       "version_minor": 0
      },
      "text/plain": [
       "Epoch: 443 Step:   0%|          | 0/17375 [00:00<?, ?it/s]"
      ]
     },
     "metadata": {},
     "output_type": "display_data"
    },
    {
     "name": "stdout",
     "output_type": "stream",
     "text": [
      "\n",
      "Epoch: 444\n"
     ]
    },
    {
     "data": {
      "application/vnd.jupyter.widget-view+json": {
       "model_id": "43b481893b7c453b8bbea6cf6a89f273",
       "version_major": 2,
       "version_minor": 0
      },
      "text/plain": [
       "Epoch: 444 Step:   0%|          | 0/17375 [00:00<?, ?it/s]"
      ]
     },
     "metadata": {},
     "output_type": "display_data"
    },
    {
     "name": "stdout",
     "output_type": "stream",
     "text": [
      "\n",
      "Epoch: 445\n"
     ]
    },
    {
     "data": {
      "application/vnd.jupyter.widget-view+json": {
       "model_id": "cf6211d5289c4bbbaef97e2646b44939",
       "version_major": 2,
       "version_minor": 0
      },
      "text/plain": [
       "Epoch: 445 Step:   0%|          | 0/17375 [00:00<?, ?it/s]"
      ]
     },
     "metadata": {},
     "output_type": "display_data"
    },
    {
     "name": "stdout",
     "output_type": "stream",
     "text": [
      "\n",
      "Epoch: 446\n"
     ]
    },
    {
     "data": {
      "application/vnd.jupyter.widget-view+json": {
       "model_id": "ed4e071a0b1c438a8cd6aac4689125cc",
       "version_major": 2,
       "version_minor": 0
      },
      "text/plain": [
       "Epoch: 446 Step:   0%|          | 0/17375 [00:00<?, ?it/s]"
      ]
     },
     "metadata": {},
     "output_type": "display_data"
    },
    {
     "name": "stdout",
     "output_type": "stream",
     "text": [
      "\n",
      "Epoch: 447\n"
     ]
    },
    {
     "data": {
      "application/vnd.jupyter.widget-view+json": {
       "model_id": "b3bb7acf086e4bcb99903caa418dbe9b",
       "version_major": 2,
       "version_minor": 0
      },
      "text/plain": [
       "Epoch: 447 Step:   0%|          | 0/17375 [00:00<?, ?it/s]"
      ]
     },
     "metadata": {},
     "output_type": "display_data"
    },
    {
     "name": "stdout",
     "output_type": "stream",
     "text": [
      "\n",
      "Epoch: 448\n"
     ]
    },
    {
     "data": {
      "application/vnd.jupyter.widget-view+json": {
       "model_id": "9c43dc2f6c954e9aa2f0e70cac5d1f75",
       "version_major": 2,
       "version_minor": 0
      },
      "text/plain": [
       "Epoch: 448 Step:   0%|          | 0/17375 [00:00<?, ?it/s]"
      ]
     },
     "metadata": {},
     "output_type": "display_data"
    },
    {
     "name": "stdout",
     "output_type": "stream",
     "text": [
      "\n",
      "Epoch: 449\n"
     ]
    },
    {
     "data": {
      "application/vnd.jupyter.widget-view+json": {
       "model_id": "9337252fc42d41d69c3d906d2eab6afc",
       "version_major": 2,
       "version_minor": 0
      },
      "text/plain": [
       "Epoch: 449 Step:   0%|          | 0/17375 [00:00<?, ?it/s]"
      ]
     },
     "metadata": {},
     "output_type": "display_data"
    },
    {
     "name": "stdout",
     "output_type": "stream",
     "text": [
      "\n",
      "Epoch: 450\n"
     ]
    },
    {
     "data": {
      "application/vnd.jupyter.widget-view+json": {
       "model_id": "92c3a678020d4622919bfbc1da23599f",
       "version_major": 2,
       "version_minor": 0
      },
      "text/plain": [
       "Epoch: 450 Step:   0%|          | 0/17375 [00:00<?, ?it/s]"
      ]
     },
     "metadata": {},
     "output_type": "display_data"
    },
    {
     "name": "stdout",
     "output_type": "stream",
     "text": [
      "\n",
      "Epoch: 451\n"
     ]
    },
    {
     "data": {
      "application/vnd.jupyter.widget-view+json": {
       "model_id": "d02f6d17a5784176863caadbaf7817af",
       "version_major": 2,
       "version_minor": 0
      },
      "text/plain": [
       "Epoch: 451 Step:   0%|          | 0/17375 [00:00<?, ?it/s]"
      ]
     },
     "metadata": {},
     "output_type": "display_data"
    },
    {
     "name": "stdout",
     "output_type": "stream",
     "text": [
      "\n",
      "Epoch: 452\n"
     ]
    },
    {
     "data": {
      "application/vnd.jupyter.widget-view+json": {
       "model_id": "0cc78d477d1c4d8eaf769aaee4782224",
       "version_major": 2,
       "version_minor": 0
      },
      "text/plain": [
       "Epoch: 452 Step:   0%|          | 0/17375 [00:00<?, ?it/s]"
      ]
     },
     "metadata": {},
     "output_type": "display_data"
    },
    {
     "name": "stdout",
     "output_type": "stream",
     "text": [
      "\n",
      "Epoch: 453\n"
     ]
    },
    {
     "data": {
      "application/vnd.jupyter.widget-view+json": {
       "model_id": "b31e2bede0304537be5e7d6a792fd18e",
       "version_major": 2,
       "version_minor": 0
      },
      "text/plain": [
       "Epoch: 453 Step:   0%|          | 0/17375 [00:00<?, ?it/s]"
      ]
     },
     "metadata": {},
     "output_type": "display_data"
    },
    {
     "name": "stdout",
     "output_type": "stream",
     "text": [
      "\n",
      "Epoch: 454\n"
     ]
    },
    {
     "data": {
      "application/vnd.jupyter.widget-view+json": {
       "model_id": "ae226941a10d456580b0dbcb16abb919",
       "version_major": 2,
       "version_minor": 0
      },
      "text/plain": [
       "Epoch: 454 Step:   0%|          | 0/17375 [00:00<?, ?it/s]"
      ]
     },
     "metadata": {},
     "output_type": "display_data"
    },
    {
     "name": "stdout",
     "output_type": "stream",
     "text": [
      "\n",
      "Epoch: 455\n"
     ]
    },
    {
     "data": {
      "application/vnd.jupyter.widget-view+json": {
       "model_id": "a5bade3af8ec47b3b6b33035e201f331",
       "version_major": 2,
       "version_minor": 0
      },
      "text/plain": [
       "Epoch: 455 Step:   0%|          | 0/17375 [00:00<?, ?it/s]"
      ]
     },
     "metadata": {},
     "output_type": "display_data"
    },
    {
     "name": "stdout",
     "output_type": "stream",
     "text": [
      "\n",
      "Epoch: 456\n"
     ]
    },
    {
     "data": {
      "application/vnd.jupyter.widget-view+json": {
       "model_id": "2855f7d675b14cd4bdaf99bf54dbc76f",
       "version_major": 2,
       "version_minor": 0
      },
      "text/plain": [
       "Epoch: 456 Step:   0%|          | 0/17375 [00:00<?, ?it/s]"
      ]
     },
     "metadata": {},
     "output_type": "display_data"
    },
    {
     "name": "stdout",
     "output_type": "stream",
     "text": [
      "\n",
      "Epoch: 457\n"
     ]
    },
    {
     "data": {
      "application/vnd.jupyter.widget-view+json": {
       "model_id": "e3fbc707f76842a086055e2919fc6175",
       "version_major": 2,
       "version_minor": 0
      },
      "text/plain": [
       "Epoch: 457 Step:   0%|          | 0/17375 [00:00<?, ?it/s]"
      ]
     },
     "metadata": {},
     "output_type": "display_data"
    },
    {
     "name": "stdout",
     "output_type": "stream",
     "text": [
      "\n",
      "Epoch: 458\n"
     ]
    },
    {
     "data": {
      "application/vnd.jupyter.widget-view+json": {
       "model_id": "e1183e39161d49f1a3cb3031b030a05c",
       "version_major": 2,
       "version_minor": 0
      },
      "text/plain": [
       "Epoch: 458 Step:   0%|          | 0/17375 [00:00<?, ?it/s]"
      ]
     },
     "metadata": {},
     "output_type": "display_data"
    },
    {
     "name": "stdout",
     "output_type": "stream",
     "text": [
      "\n",
      "Epoch: 459\n"
     ]
    },
    {
     "data": {
      "application/vnd.jupyter.widget-view+json": {
       "model_id": "541f1fc08d0c41bd9fcd7667d75c1ff6",
       "version_major": 2,
       "version_minor": 0
      },
      "text/plain": [
       "Epoch: 459 Step:   0%|          | 0/17375 [00:00<?, ?it/s]"
      ]
     },
     "metadata": {},
     "output_type": "display_data"
    },
    {
     "name": "stdout",
     "output_type": "stream",
     "text": [
      "\n",
      "Epoch: 460\n"
     ]
    },
    {
     "data": {
      "application/vnd.jupyter.widget-view+json": {
       "model_id": "42f6de9aacd74252b8a02c3d14f042c2",
       "version_major": 2,
       "version_minor": 0
      },
      "text/plain": [
       "Epoch: 460 Step:   0%|          | 0/17375 [00:00<?, ?it/s]"
      ]
     },
     "metadata": {},
     "output_type": "display_data"
    },
    {
     "name": "stdout",
     "output_type": "stream",
     "text": [
      "\n",
      "Epoch: 461\n"
     ]
    },
    {
     "data": {
      "application/vnd.jupyter.widget-view+json": {
       "model_id": "cd074c8124cc40ec9abf8c3a2927deb0",
       "version_major": 2,
       "version_minor": 0
      },
      "text/plain": [
       "Epoch: 461 Step:   0%|          | 0/17375 [00:00<?, ?it/s]"
      ]
     },
     "metadata": {},
     "output_type": "display_data"
    },
    {
     "name": "stdout",
     "output_type": "stream",
     "text": [
      "\n",
      "Epoch: 462\n"
     ]
    },
    {
     "data": {
      "application/vnd.jupyter.widget-view+json": {
       "model_id": "cb38e3727a00436a9c0d1540945690f1",
       "version_major": 2,
       "version_minor": 0
      },
      "text/plain": [
       "Epoch: 462 Step:   0%|          | 0/17375 [00:00<?, ?it/s]"
      ]
     },
     "metadata": {},
     "output_type": "display_data"
    },
    {
     "name": "stdout",
     "output_type": "stream",
     "text": [
      "\n",
      "Epoch: 463\n"
     ]
    },
    {
     "data": {
      "application/vnd.jupyter.widget-view+json": {
       "model_id": "aaebd7cbbd49461291babaea3f4bc808",
       "version_major": 2,
       "version_minor": 0
      },
      "text/plain": [
       "Epoch: 463 Step:   0%|          | 0/17375 [00:00<?, ?it/s]"
      ]
     },
     "metadata": {},
     "output_type": "display_data"
    },
    {
     "name": "stdout",
     "output_type": "stream",
     "text": [
      "\n",
      "Epoch: 464\n"
     ]
    },
    {
     "data": {
      "application/vnd.jupyter.widget-view+json": {
       "model_id": "31fa8c3ca06d4e13a11d497c6fd95414",
       "version_major": 2,
       "version_minor": 0
      },
      "text/plain": [
       "Epoch: 464 Step:   0%|          | 0/17375 [00:00<?, ?it/s]"
      ]
     },
     "metadata": {},
     "output_type": "display_data"
    },
    {
     "name": "stdout",
     "output_type": "stream",
     "text": [
      "\n",
      "Epoch: 465\n"
     ]
    },
    {
     "data": {
      "application/vnd.jupyter.widget-view+json": {
       "model_id": "7fc530f191aa415785075b06ae9eafb6",
       "version_major": 2,
       "version_minor": 0
      },
      "text/plain": [
       "Epoch: 465 Step:   0%|          | 0/17375 [00:00<?, ?it/s]"
      ]
     },
     "metadata": {},
     "output_type": "display_data"
    },
    {
     "name": "stdout",
     "output_type": "stream",
     "text": [
      "\n",
      "Epoch: 466\n"
     ]
    },
    {
     "data": {
      "application/vnd.jupyter.widget-view+json": {
       "model_id": "5e2979a86f07480fa204ff5a915b21f8",
       "version_major": 2,
       "version_minor": 0
      },
      "text/plain": [
       "Epoch: 466 Step:   0%|          | 0/17375 [00:00<?, ?it/s]"
      ]
     },
     "metadata": {},
     "output_type": "display_data"
    },
    {
     "name": "stdout",
     "output_type": "stream",
     "text": [
      "\n",
      "Epoch: 467\n"
     ]
    },
    {
     "data": {
      "application/vnd.jupyter.widget-view+json": {
       "model_id": "ecbdc202b59d4c8a901731b697416917",
       "version_major": 2,
       "version_minor": 0
      },
      "text/plain": [
       "Epoch: 467 Step:   0%|          | 0/17375 [00:00<?, ?it/s]"
      ]
     },
     "metadata": {},
     "output_type": "display_data"
    },
    {
     "name": "stdout",
     "output_type": "stream",
     "text": [
      "\n",
      "Epoch: 468\n"
     ]
    },
    {
     "data": {
      "application/vnd.jupyter.widget-view+json": {
       "model_id": "cad7e055bde5416681bf4182c3901cf1",
       "version_major": 2,
       "version_minor": 0
      },
      "text/plain": [
       "Epoch: 468 Step:   0%|          | 0/17375 [00:00<?, ?it/s]"
      ]
     },
     "metadata": {},
     "output_type": "display_data"
    },
    {
     "name": "stdout",
     "output_type": "stream",
     "text": [
      "\n",
      "Epoch: 469\n"
     ]
    },
    {
     "data": {
      "application/vnd.jupyter.widget-view+json": {
       "model_id": "d9c7aa7b0e704da89a3c1e0d9c2ff6cd",
       "version_major": 2,
       "version_minor": 0
      },
      "text/plain": [
       "Epoch: 469 Step:   0%|          | 0/17375 [00:00<?, ?it/s]"
      ]
     },
     "metadata": {},
     "output_type": "display_data"
    },
    {
     "name": "stdout",
     "output_type": "stream",
     "text": [
      "\n",
      "Epoch: 470\n"
     ]
    },
    {
     "data": {
      "application/vnd.jupyter.widget-view+json": {
       "model_id": "37d77ba403204d169c277c24e03a959d",
       "version_major": 2,
       "version_minor": 0
      },
      "text/plain": [
       "Epoch: 470 Step:   0%|          | 0/17375 [00:00<?, ?it/s]"
      ]
     },
     "metadata": {},
     "output_type": "display_data"
    },
    {
     "name": "stdout",
     "output_type": "stream",
     "text": [
      "\n",
      "Epoch: 471\n"
     ]
    },
    {
     "data": {
      "application/vnd.jupyter.widget-view+json": {
       "model_id": "39b1ace9c1c44b0390af0a93211c8f91",
       "version_major": 2,
       "version_minor": 0
      },
      "text/plain": [
       "Epoch: 471 Step:   0%|          | 0/17375 [00:00<?, ?it/s]"
      ]
     },
     "metadata": {},
     "output_type": "display_data"
    },
    {
     "name": "stdout",
     "output_type": "stream",
     "text": [
      "\n",
      "Epoch: 472\n"
     ]
    },
    {
     "data": {
      "application/vnd.jupyter.widget-view+json": {
       "model_id": "0bb3fda790fe46ebbc97a4eb1751c32b",
       "version_major": 2,
       "version_minor": 0
      },
      "text/plain": [
       "Epoch: 472 Step:   0%|          | 0/17375 [00:00<?, ?it/s]"
      ]
     },
     "metadata": {},
     "output_type": "display_data"
    },
    {
     "name": "stdout",
     "output_type": "stream",
     "text": [
      "\n",
      "Epoch: 473\n"
     ]
    },
    {
     "data": {
      "application/vnd.jupyter.widget-view+json": {
       "model_id": "c6f0588f65ab4d918f828e671289e202",
       "version_major": 2,
       "version_minor": 0
      },
      "text/plain": [
       "Epoch: 473 Step:   0%|          | 0/17375 [00:00<?, ?it/s]"
      ]
     },
     "metadata": {},
     "output_type": "display_data"
    },
    {
     "name": "stdout",
     "output_type": "stream",
     "text": [
      "\n",
      "Epoch: 474\n"
     ]
    },
    {
     "data": {
      "application/vnd.jupyter.widget-view+json": {
       "model_id": "b040babc24df4f2f944346f8a7099eeb",
       "version_major": 2,
       "version_minor": 0
      },
      "text/plain": [
       "Epoch: 474 Step:   0%|          | 0/17375 [00:00<?, ?it/s]"
      ]
     },
     "metadata": {},
     "output_type": "display_data"
    },
    {
     "name": "stdout",
     "output_type": "stream",
     "text": [
      "\n",
      "Epoch: 475\n"
     ]
    },
    {
     "data": {
      "application/vnd.jupyter.widget-view+json": {
       "model_id": "4baea81a55ba49d5b2fdf9b2af1c7157",
       "version_major": 2,
       "version_minor": 0
      },
      "text/plain": [
       "Epoch: 475 Step:   0%|          | 0/17375 [00:00<?, ?it/s]"
      ]
     },
     "metadata": {},
     "output_type": "display_data"
    },
    {
     "name": "stdout",
     "output_type": "stream",
     "text": [
      "\n",
      "Epoch: 476\n"
     ]
    },
    {
     "data": {
      "application/vnd.jupyter.widget-view+json": {
       "model_id": "448a9483515a462f9d27e3d32e48d9b3",
       "version_major": 2,
       "version_minor": 0
      },
      "text/plain": [
       "Epoch: 476 Step:   0%|          | 0/17375 [00:00<?, ?it/s]"
      ]
     },
     "metadata": {},
     "output_type": "display_data"
    },
    {
     "name": "stdout",
     "output_type": "stream",
     "text": [
      "\n",
      "Epoch: 477\n"
     ]
    },
    {
     "data": {
      "application/vnd.jupyter.widget-view+json": {
       "model_id": "d2c54c9020bd42e79ce8c75db4aaa003",
       "version_major": 2,
       "version_minor": 0
      },
      "text/plain": [
       "Epoch: 477 Step:   0%|          | 0/17375 [00:00<?, ?it/s]"
      ]
     },
     "metadata": {},
     "output_type": "display_data"
    },
    {
     "name": "stdout",
     "output_type": "stream",
     "text": [
      "\n",
      "Epoch: 478\n"
     ]
    },
    {
     "data": {
      "application/vnd.jupyter.widget-view+json": {
       "model_id": "0802ff24cf6346b1a2117486e03ef16c",
       "version_major": 2,
       "version_minor": 0
      },
      "text/plain": [
       "Epoch: 478 Step:   0%|          | 0/17375 [00:00<?, ?it/s]"
      ]
     },
     "metadata": {},
     "output_type": "display_data"
    },
    {
     "name": "stdout",
     "output_type": "stream",
     "text": [
      "\n",
      "Epoch: 479\n"
     ]
    },
    {
     "data": {
      "application/vnd.jupyter.widget-view+json": {
       "model_id": "d26c9e7ae983444dbdf56c372fc2471e",
       "version_major": 2,
       "version_minor": 0
      },
      "text/plain": [
       "Epoch: 479 Step:   0%|          | 0/17375 [00:00<?, ?it/s]"
      ]
     },
     "metadata": {},
     "output_type": "display_data"
    },
    {
     "name": "stdout",
     "output_type": "stream",
     "text": [
      "\n",
      "Epoch: 480\n"
     ]
    },
    {
     "data": {
      "application/vnd.jupyter.widget-view+json": {
       "model_id": "71653fadf8254ad1b1abf26c36958f81",
       "version_major": 2,
       "version_minor": 0
      },
      "text/plain": [
       "Epoch: 480 Step:   0%|          | 0/17375 [00:00<?, ?it/s]"
      ]
     },
     "metadata": {},
     "output_type": "display_data"
    },
    {
     "name": "stdout",
     "output_type": "stream",
     "text": [
      "\n",
      "Epoch: 481\n"
     ]
    },
    {
     "data": {
      "application/vnd.jupyter.widget-view+json": {
       "model_id": "4dd72f0825644ece8d8141dd0f30dcf6",
       "version_major": 2,
       "version_minor": 0
      },
      "text/plain": [
       "Epoch: 481 Step:   0%|          | 0/17375 [00:00<?, ?it/s]"
      ]
     },
     "metadata": {},
     "output_type": "display_data"
    },
    {
     "name": "stdout",
     "output_type": "stream",
     "text": [
      "\n",
      "Epoch: 482\n"
     ]
    },
    {
     "data": {
      "application/vnd.jupyter.widget-view+json": {
       "model_id": "db232f4b071f4ddc9b6509de62769ca1",
       "version_major": 2,
       "version_minor": 0
      },
      "text/plain": [
       "Epoch: 482 Step:   0%|          | 0/17375 [00:00<?, ?it/s]"
      ]
     },
     "metadata": {},
     "output_type": "display_data"
    },
    {
     "name": "stdout",
     "output_type": "stream",
     "text": [
      "\n",
      "Epoch: 483\n"
     ]
    },
    {
     "data": {
      "application/vnd.jupyter.widget-view+json": {
       "model_id": "e5ffc237c2404ce6aa742d617bc9fede",
       "version_major": 2,
       "version_minor": 0
      },
      "text/plain": [
       "Epoch: 483 Step:   0%|          | 0/17375 [00:00<?, ?it/s]"
      ]
     },
     "metadata": {},
     "output_type": "display_data"
    },
    {
     "name": "stdout",
     "output_type": "stream",
     "text": [
      "\n",
      "Epoch: 484\n"
     ]
    },
    {
     "data": {
      "application/vnd.jupyter.widget-view+json": {
       "model_id": "0968f34366f648ad91d89d520adcdbb0",
       "version_major": 2,
       "version_minor": 0
      },
      "text/plain": [
       "Epoch: 484 Step:   0%|          | 0/17375 [00:00<?, ?it/s]"
      ]
     },
     "metadata": {},
     "output_type": "display_data"
    },
    {
     "name": "stdout",
     "output_type": "stream",
     "text": [
      "\n",
      "Epoch: 485\n"
     ]
    },
    {
     "data": {
      "application/vnd.jupyter.widget-view+json": {
       "model_id": "4c44b7769f924664bfda1ff41ca42261",
       "version_major": 2,
       "version_minor": 0
      },
      "text/plain": [
       "Epoch: 485 Step:   0%|          | 0/17375 [00:00<?, ?it/s]"
      ]
     },
     "metadata": {},
     "output_type": "display_data"
    },
    {
     "name": "stdout",
     "output_type": "stream",
     "text": [
      "\n",
      "Epoch: 486\n"
     ]
    },
    {
     "data": {
      "application/vnd.jupyter.widget-view+json": {
       "model_id": "9acf4ed260264f9a855a96e9f07ad8c1",
       "version_major": 2,
       "version_minor": 0
      },
      "text/plain": [
       "Epoch: 486 Step:   0%|          | 0/17375 [00:00<?, ?it/s]"
      ]
     },
     "metadata": {},
     "output_type": "display_data"
    },
    {
     "name": "stdout",
     "output_type": "stream",
     "text": [
      "\n",
      "Epoch: 487\n"
     ]
    },
    {
     "data": {
      "application/vnd.jupyter.widget-view+json": {
       "model_id": "14463671ecf247fc846f113c221daa5b",
       "version_major": 2,
       "version_minor": 0
      },
      "text/plain": [
       "Epoch: 487 Step:   0%|          | 0/17375 [00:00<?, ?it/s]"
      ]
     },
     "metadata": {},
     "output_type": "display_data"
    },
    {
     "name": "stdout",
     "output_type": "stream",
     "text": [
      "\n",
      "Epoch: 488\n"
     ]
    },
    {
     "data": {
      "application/vnd.jupyter.widget-view+json": {
       "model_id": "4a692601f4674c9e9f85e89edd52fef4",
       "version_major": 2,
       "version_minor": 0
      },
      "text/plain": [
       "Epoch: 488 Step:   0%|          | 0/17375 [00:00<?, ?it/s]"
      ]
     },
     "metadata": {},
     "output_type": "display_data"
    },
    {
     "name": "stdout",
     "output_type": "stream",
     "text": [
      "\n",
      "Epoch: 489\n"
     ]
    },
    {
     "data": {
      "application/vnd.jupyter.widget-view+json": {
       "model_id": "b4dcd4f363da4ea38dfd5870d21df6c5",
       "version_major": 2,
       "version_minor": 0
      },
      "text/plain": [
       "Epoch: 489 Step:   0%|          | 0/17375 [00:00<?, ?it/s]"
      ]
     },
     "metadata": {},
     "output_type": "display_data"
    },
    {
     "name": "stdout",
     "output_type": "stream",
     "text": [
      "\n",
      "Epoch: 490\n"
     ]
    },
    {
     "data": {
      "application/vnd.jupyter.widget-view+json": {
       "model_id": "639d754f3a61462e9482340fe43822e1",
       "version_major": 2,
       "version_minor": 0
      },
      "text/plain": [
       "Epoch: 490 Step:   0%|          | 0/17375 [00:00<?, ?it/s]"
      ]
     },
     "metadata": {},
     "output_type": "display_data"
    },
    {
     "name": "stdout",
     "output_type": "stream",
     "text": [
      "\n",
      "Epoch: 491\n"
     ]
    },
    {
     "data": {
      "application/vnd.jupyter.widget-view+json": {
       "model_id": "48e12d5aaf1942f08a6f7a6b35f47730",
       "version_major": 2,
       "version_minor": 0
      },
      "text/plain": [
       "Epoch: 491 Step:   0%|          | 0/17375 [00:00<?, ?it/s]"
      ]
     },
     "metadata": {},
     "output_type": "display_data"
    },
    {
     "name": "stdout",
     "output_type": "stream",
     "text": [
      "\n",
      "Epoch: 492\n"
     ]
    },
    {
     "data": {
      "application/vnd.jupyter.widget-view+json": {
       "model_id": "c571abe4d864430d95c897e406daf29f",
       "version_major": 2,
       "version_minor": 0
      },
      "text/plain": [
       "Epoch: 492 Step:   0%|          | 0/17375 [00:00<?, ?it/s]"
      ]
     },
     "metadata": {},
     "output_type": "display_data"
    },
    {
     "name": "stdout",
     "output_type": "stream",
     "text": [
      "\n",
      "Epoch: 493\n"
     ]
    },
    {
     "data": {
      "application/vnd.jupyter.widget-view+json": {
       "model_id": "eed7347200da4447ab3250c541d68f4b",
       "version_major": 2,
       "version_minor": 0
      },
      "text/plain": [
       "Epoch: 493 Step:   0%|          | 0/17375 [00:00<?, ?it/s]"
      ]
     },
     "metadata": {},
     "output_type": "display_data"
    },
    {
     "name": "stdout",
     "output_type": "stream",
     "text": [
      "\n",
      "Epoch: 494\n"
     ]
    },
    {
     "data": {
      "application/vnd.jupyter.widget-view+json": {
       "model_id": "c293fb6100a24aeaae987eff721dc64a",
       "version_major": 2,
       "version_minor": 0
      },
      "text/plain": [
       "Epoch: 494 Step:   0%|          | 0/17375 [00:00<?, ?it/s]"
      ]
     },
     "metadata": {},
     "output_type": "display_data"
    },
    {
     "name": "stdout",
     "output_type": "stream",
     "text": [
      "\n",
      "Epoch: 495\n"
     ]
    },
    {
     "data": {
      "application/vnd.jupyter.widget-view+json": {
       "model_id": "1c5bdf1a73cb4852b5e1ef7d8640bca1",
       "version_major": 2,
       "version_minor": 0
      },
      "text/plain": [
       "Epoch: 495 Step:   0%|          | 0/17375 [00:00<?, ?it/s]"
      ]
     },
     "metadata": {},
     "output_type": "display_data"
    },
    {
     "name": "stdout",
     "output_type": "stream",
     "text": [
      "\n",
      "Epoch: 496\n"
     ]
    },
    {
     "data": {
      "application/vnd.jupyter.widget-view+json": {
       "model_id": "aeb61bd7efd3407aa0bf6c0c084cab29",
       "version_major": 2,
       "version_minor": 0
      },
      "text/plain": [
       "Epoch: 496 Step:   0%|          | 0/17375 [00:00<?, ?it/s]"
      ]
     },
     "metadata": {},
     "output_type": "display_data"
    },
    {
     "name": "stdout",
     "output_type": "stream",
     "text": [
      "\n",
      "Epoch: 497\n"
     ]
    },
    {
     "data": {
      "application/vnd.jupyter.widget-view+json": {
       "model_id": "eec5787c6a8f46d2982f78575bae1639",
       "version_major": 2,
       "version_minor": 0
      },
      "text/plain": [
       "Epoch: 497 Step:   0%|          | 0/17375 [00:00<?, ?it/s]"
      ]
     },
     "metadata": {},
     "output_type": "display_data"
    },
    {
     "name": "stdout",
     "output_type": "stream",
     "text": [
      "\n",
      "Epoch: 498\n"
     ]
    },
    {
     "data": {
      "application/vnd.jupyter.widget-view+json": {
       "model_id": "e04ed1b55fde4f9086d831ffcb040a1b",
       "version_major": 2,
       "version_minor": 0
      },
      "text/plain": [
       "Epoch: 498 Step:   0%|          | 0/17375 [00:00<?, ?it/s]"
      ]
     },
     "metadata": {},
     "output_type": "display_data"
    },
    {
     "name": "stdout",
     "output_type": "stream",
     "text": [
      "\n",
      "Epoch: 499\n"
     ]
    },
    {
     "data": {
      "application/vnd.jupyter.widget-view+json": {
       "model_id": "5913bd3d10af45f0a22352598fb669f6",
       "version_major": 2,
       "version_minor": 0
      },
      "text/plain": [
       "Epoch: 499 Step:   0%|          | 0/17375 [00:00<?, ?it/s]"
      ]
     },
     "metadata": {},
     "output_type": "display_data"
    },
    {
     "name": "stdout",
     "output_type": "stream",
     "text": [
      "\n",
      "Epoch: 500\n"
     ]
    },
    {
     "data": {
      "application/vnd.jupyter.widget-view+json": {
       "model_id": "8b8159bed1d045e2935522d200d927b6",
       "version_major": 2,
       "version_minor": 0
      },
      "text/plain": [
       "Epoch: 500 Step:   0%|          | 0/17375 [00:00<?, ?it/s]"
      ]
     },
     "metadata": {},
     "output_type": "display_data"
    }
   ],
   "source": [
    "for epoch in range(n_epochs):\n",
    "    num_nans = 0\n",
    "    running_loss = 0.0\n",
    "    val_loss = 0.0\n",
    "    print(f\"\\nEpoch: {epoch+1}\")\n",
    "    inner_pbar = tqdm(total=len(dataloader_train), position=1, leave=False, ascii=True, desc=f\"Epoch: {epoch+1} Step\")\n",
    "    try:\n",
    "        for i, data in enumerate(dataloader_train, 1):\n",
    "            features = data['text_label']\n",
    "            features = features.type(torch.FloatTensor)\n",
    "            features = features.to(device)\n",
    "    #         print(features.is_cuda)\n",
    "    #         sigmoid = nn.Sigmoid()\n",
    "            y_ground_truth = torch.tensor(features, requires_grad = True)\n",
    "    #         print(features.shape, y_ground_truth.shape)\n",
    "            optimizer.zero_grad()\n",
    "            preds = new_model(features)\n",
    "\n",
    "            loss = criterion(predicted=preds, target=y_ground_truth)\n",
    "\n",
    "            inner_pbar.update(1)\n",
    "\n",
    "            running_loss += loss.detach().item()\n",
    "\n",
    "            print(f\"\\rStep: {i} Training Loss: {loss.item()} Validation Loss: {val_loss} Epoch loss: {running_loss/(i)}\", end=\"\")\n",
    "            # print(f\"\\rStep: {i} Training Loss: {loss.item()} Validation Loss: {val_loss} Nans: {num_nans}\")\n",
    "\n",
    "            if torch.isnan(loss):\n",
    "                if num_nans > 10:\n",
    "                    raise RuntimeError(f\"Model Error: Encountered {num_nans} nan loss\")\n",
    "                num_nans += 1\n",
    "                continue\n",
    "            # loss.requires_grad = True\n",
    "            loss.backward()\n",
    "\n",
    "            optimizer.step()\n",
    "        scheduler.step()\n",
    "\n",
    "        if os.path.exists(f'/home/abhijeet/Desktop/TRIZ/Model/model_{model_no}/'):\n",
    "            pass\n",
    "        else:\n",
    "            os.makedirs(f'/home/abhijeet/Desktop/TRIZ/Model/model_{model_no}/exp_{str(exp)}/')\n",
    "\n",
    "        checkpoint_pth = f'/home/abhijeet/Desktop/TRIZ/Model/model_{model_no}/exp_{str(exp)}/trained_model_latest_epoch.pth'\n",
    "        torch.save(new_model.state_dict(), checkpoint_pth)\n",
    "\n",
    "        inner_pbar.close()\n",
    "    except:\n",
    "        pass"
   ]
  },
  {
   "cell_type": "code",
   "execution_count": 18,
   "metadata": {},
   "outputs": [],
   "source": [
    "if os.path.exists(f'/home/abhijeet/Desktop/TRIZ/Model/model_{model_no}/'):\n",
    "    pass\n",
    "else:\n",
    "    os.makedirs(f'/home/abhijeet/Desktop/TRIZ/Model/model_{model_no}/exp_{str(exp)}/')\n",
    "\n",
    "checkpoint_pth = f'/home/abhijeet/Desktop/TRIZ/Model/model_{model_no}/exp_{str(exp)}/trained_model_latest_epoch.pth'\n",
    "torch.save(new_model.state_dict(), checkpoint_pth)"
   ]
  },
  {
   "cell_type": "code",
   "execution_count": null,
   "metadata": {},
   "outputs": [],
   "source": []
  }
 ],
 "metadata": {
  "kernelspec": {
   "display_name": "TRIZ",
   "language": "python",
   "name": "triz"
  },
  "language_info": {
   "codemirror_mode": {
    "name": "ipython",
    "version": 3
   },
   "file_extension": ".py",
   "mimetype": "text/x-python",
   "name": "python",
   "nbconvert_exporter": "python",
   "pygments_lexer": "ipython3",
   "version": "3.8.18"
  }
 },
 "nbformat": 4,
 "nbformat_minor": 4
}
